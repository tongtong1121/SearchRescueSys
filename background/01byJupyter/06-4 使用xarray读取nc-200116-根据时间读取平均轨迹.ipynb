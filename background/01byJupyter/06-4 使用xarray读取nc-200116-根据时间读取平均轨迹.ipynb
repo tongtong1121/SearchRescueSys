{
 "cells": [
  {
   "cell_type": "markdown",
   "metadata": {},
   "source": [
    "> 19-12-25 最后一次修改      \n",
    "## 读取+清洗nan"
   ]
  },
  {
   "cell_type": "code",
   "execution_count": 1,
   "metadata": {},
   "outputs": [],
   "source": [
    "import numpy as np\n",
    "import netCDF4 as nc\n",
    "import pandas as pd\n",
    "import numpy.ma as ma"
   ]
  },
  {
   "cell_type": "code",
   "execution_count": 2,
   "metadata": {},
   "outputs": [],
   "source": [
    "import matplotlib as mpl\n",
    "import matplotlib.pyplot as plt"
   ]
  },
  {
   "cell_type": "code",
   "execution_count": 3,
   "metadata": {},
   "outputs": [
    {
     "name": "stderr",
     "output_type": "stream",
     "text": [
      "D:\\01Setup\\ANACONDA\\lib\\site-packages\\dask\\config.py:168: YAMLLoadWarning: calling yaml.load() without Loader=... is deprecated, as the default Loader is unsafe. Please read https://msg.pyyaml.org/load for full details.\n",
      "  data = yaml.load(f.read()) or {}\n",
      "D:\\01Setup\\ANACONDA\\lib\\site-packages\\distributed\\config.py:20: YAMLLoadWarning: calling yaml.load() without Loader=... is deprecated, as the default Loader is unsafe. Please read https://msg.pyyaml.org/load for full details.\n",
      "  defaults = yaml.load(f)\n"
     ]
    }
   ],
   "source": [
    "import xarray as xar"
   ]
  },
  {
   "cell_type": "code",
   "execution_count": 4,
   "metadata": {},
   "outputs": [],
   "source": [
    "file_path='./data/sanjioil.nc'"
   ]
  },
  {
   "cell_type": "code",
   "execution_count": 5,
   "metadata": {},
   "outputs": [],
   "source": [
    "ds=nc.Dataset(file_path)"
   ]
  },
  {
   "cell_type": "code",
   "execution_count": 6,
   "metadata": {},
   "outputs": [],
   "source": [
    "ds_xr=xar.open_dataset(file_path)"
   ]
  },
  {
   "cell_type": "code",
   "execution_count": 7,
   "metadata": {},
   "outputs": [
    {
     "data": {
      "text/plain": [
       "Frozen(SortedKeysDict({'trajectory': 2958, 'time': 73}))"
      ]
     },
     "execution_count": 7,
     "metadata": {},
     "output_type": "execute_result"
    }
   ],
   "source": [
    "ds_xr.dims"
   ]
  },
  {
   "cell_type": "code",
   "execution_count": 8,
   "metadata": {},
   "outputs": [
    {
     "data": {
      "text/plain": [
       "Data variables:\n",
       "    age_seconds                               (trajectory, time) float32 ...\n",
       "    interfacial_area                          (trajectory, time) float32 ...\n",
       "    mass_evaporated                           (trajectory, time) float32 ...\n",
       "    water_fraction                            (trajectory, time) float32 ...\n",
       "    y_wind                                    (trajectory, time) float32 ...\n",
       "    sea_ice_area_fraction                     (trajectory, time) float32 ...\n",
       "    density                                   (trajectory, time) float32 ...\n",
       "    oil_film_thickness                        (trajectory, time) float32 ...\n",
       "    x_sea_water_velocity                      (trajectory, time) float32 ...\n",
       "    bulltime                                  (trajectory, time) float32 ...\n",
       "    x_wind                                    (trajectory, time) float32 ...\n",
       "    age_emulsion_seconds                      (trajectory, time) float32 ...\n",
       "    sea_surface_wave_stokes_drift_y_velocity  (trajectory, time) float32 ...\n",
       "    status                                    (trajectory, time) int32 ...\n",
       "    viscosity                                 (trajectory, time) float32 ...\n",
       "    sea_floor_depth_below_sea_level           (trajectory, time) float32 ...\n",
       "    mass_dispersed                            (trajectory, time) float32 ...\n",
       "    land_binary_mask                          (trajectory, time) float32 ...\n",
       "    sea_surface_wave_significant_height       (trajectory, time) float32 ...\n",
       "    sea_water_temperature                     (trajectory, time) float32 ...\n",
       "    mass_oil                                  (trajectory, time) float32 ...\n",
       "    age_exposure_seconds                      (trajectory, time) float32 ...\n",
       "    sea_surface_wave_stokes_drift_x_velocity  (trajectory, time) float32 ...\n",
       "    y_sea_water_velocity                      (trajectory, time) float32 ...\n",
       "    z                                         (trajectory, time) float32 ...\n",
       "    wind_drift_factor                         (trajectory, time) float32 ...\n",
       "    fraction_evaporated                       (trajectory, time) float32 ..."
      ]
     },
     "execution_count": 8,
     "metadata": {},
     "output_type": "execute_result"
    }
   ],
   "source": [
    "ds_xr.data_vars"
   ]
  },
  {
   "cell_type": "code",
   "execution_count": 9,
   "metadata": {},
   "outputs": [
    {
     "data": {
      "text/plain": [
       "Coordinates:\n",
       "  * trajectory  (trajectory) int32 1 2 3 4 5 6 ... 2953 2954 2955 2956 2957 2958\n",
       "  * time        (time) datetime64[ns] 2018-01-14T22:20:00 ... 2018-01-17T22:20:00\n",
       "    lon         (trajectory, time) float32 ...\n",
       "    lat         (trajectory, time) float32 ..."
      ]
     },
     "execution_count": 9,
     "metadata": {},
     "output_type": "execute_result"
    }
   ],
   "source": [
    "ds_xr.coords"
   ]
  },
  {
   "cell_type": "markdown",
   "metadata": {},
   "source": [
    "获取所有的维度  \n",
    "* 注意获取维度时，不可以使用下标进行索引，会报错"
   ]
  },
  {
   "cell_type": "markdown",
   "metadata": {},
   "source": [
    "## 获取`几个指定维度的`的`DataArray`  \n",
    "如下可知：\n",
    "    `mass_oil`有2958个值，该物理量有两个维度，分别为`trajectory`,`time`"
   ]
  },
  {
   "cell_type": "markdown",
   "metadata": {},
   "source": [
    "### 1- 尝试将xarray转为series"
   ]
  },
  {
   "cell_type": "markdown",
   "metadata": {},
   "source": [
    "## 2 剔除掉nan的数据，只获取有效数据"
   ]
  },
  {
   "cell_type": "markdown",
   "metadata": {},
   "source": [
    "#### 查看不同时刻的\n",
    "并通过`where`剔除掉大于`max`以及`nan`的值  \n",
    "使用xarray的dropna方法，注意与pandas中的方法有所区别"
   ]
  },
  {
   "cell_type": "markdown",
   "metadata": {},
   "source": [
    "提示错误：\n",
    "`ValueError: any must be a single dataset dimension`  \n",
    "查看文档后发现`xarray.Dataset.dropna`尚不支持同时沿多个维度放置  \n",
    "\n",
    "[参考](http://xarray.pydata.org/en/stable/generated/xarray.Dataset.dropna.html)  \n",
    "\n",
    "考虑将xarray转换为dateframe，然后再清洗？  \n",
    "[上网参考](https://stackoverflow.com/questions/52553925/python-xarray-remove-coordinates-with-all-missing-variables)\n",
    "比较好的解决办法是：\n",
    "1. 将`DataSet`->`DataFrame`\n",
    "2. 在`DataFrame`中通过`pandas` `dropna` 即可"
   ]
  },
  {
   "cell_type": "code",
   "execution_count": 49,
   "metadata": {},
   "outputs": [
    {
     "data": {
      "text/html": [
       "<pre>&lt;xarray.DataArray &#x27;status&#x27; (trajectory: 2958)&gt;\n",
       "array([-2147483647,           0, -2147483647, ..., -2147483647, -2147483647,\n",
       "       -2147483647])\n",
       "Coordinates:\n",
       "  * trajectory  (trajectory) int32 1 2 3 4 5 6 ... 2953 2954 2955 2956 2957 2958\n",
       "    time        datetime64[ns] 2018-01-16T04:20:00\n",
       "    lon         (trajectory) float32 ...\n",
       "    lat         (trajectory) float32 ...\n",
       "Attributes:\n",
       "    valid_range:    [0 1]\n",
       "    flag_values:    [0 1]\n",
       "    flag_meanings:  active evaporated</pre>"
      ],
      "text/plain": [
       "<xarray.DataArray 'status' (trajectory: 2958)>\n",
       "array([-2147483647,           0, -2147483647, ..., -2147483647, -2147483647,\n",
       "       -2147483647])\n",
       "Coordinates:\n",
       "  * trajectory  (trajectory) int32 1 2 3 4 5 6 ... 2953 2954 2955 2956 2957 2958\n",
       "    time        datetime64[ns] 2018-01-16T04:20:00\n",
       "    lon         (trajectory) float32 ...\n",
       "    lat         (trajectory) float32 ...\n",
       "Attributes:\n",
       "    valid_range:    [0 1]\n",
       "    flag_values:    [0 1]\n",
       "    flag_meanings:  active evaporated"
      ]
     },
     "execution_count": 49,
     "metadata": {},
     "output_type": "execute_result"
    }
   ],
   "source": [
    "xr_temp_x=ds_xr.isel(time=30)['status']\n",
    "xr_temp_x"
   ]
  },
  {
   "cell_type": "markdown",
   "metadata": {},
   "source": [
    "### 步骤：\n",
    "先使用xarray.where进行筛选(此处有一个问题，[如何使用.where进行多条件筛选]()),  \n",
    "之后再使用 df进行筛选。  \n",
    "此种方式可能比较繁琐"
   ]
  },
  {
   "cell_type": "code",
   "execution_count": 50,
   "metadata": {},
   "outputs": [
    {
     "data": {
      "text/html": [
       "<div>\n",
       "<style scoped>\n",
       "    .dataframe tbody tr th:only-of-type {\n",
       "        vertical-align: middle;\n",
       "    }\n",
       "\n",
       "    .dataframe tbody tr th {\n",
       "        vertical-align: top;\n",
       "    }\n",
       "\n",
       "    .dataframe thead th {\n",
       "        text-align: right;\n",
       "    }\n",
       "</style>\n",
       "<table border=\"1\" class=\"dataframe\">\n",
       "  <thead>\n",
       "    <tr style=\"text-align: right;\">\n",
       "      <th></th>\n",
       "      <th>status</th>\n",
       "      <th>time</th>\n",
       "      <th>lon</th>\n",
       "      <th>lat</th>\n",
       "    </tr>\n",
       "    <tr>\n",
       "      <th>trajectory</th>\n",
       "      <th></th>\n",
       "      <th></th>\n",
       "      <th></th>\n",
       "      <th></th>\n",
       "    </tr>\n",
       "  </thead>\n",
       "  <tbody>\n",
       "    <tr>\n",
       "      <td>2</td>\n",
       "      <td>0.0</td>\n",
       "      <td>2018-01-16 04:20:00</td>\n",
       "      <td>125.852074</td>\n",
       "      <td>28.504345</td>\n",
       "    </tr>\n",
       "    <tr>\n",
       "      <td>4</td>\n",
       "      <td>0.0</td>\n",
       "      <td>2018-01-16 04:20:00</td>\n",
       "      <td>125.837547</td>\n",
       "      <td>28.535669</td>\n",
       "    </tr>\n",
       "    <tr>\n",
       "      <td>5</td>\n",
       "      <td>0.0</td>\n",
       "      <td>2018-01-16 04:20:00</td>\n",
       "      <td>125.746597</td>\n",
       "      <td>28.534342</td>\n",
       "    </tr>\n",
       "    <tr>\n",
       "      <td>9</td>\n",
       "      <td>0.0</td>\n",
       "      <td>2018-01-16 04:20:00</td>\n",
       "      <td>125.779015</td>\n",
       "      <td>28.548067</td>\n",
       "    </tr>\n",
       "    <tr>\n",
       "      <td>10</td>\n",
       "      <td>0.0</td>\n",
       "      <td>2018-01-16 04:20:00</td>\n",
       "      <td>125.941368</td>\n",
       "      <td>28.543129</td>\n",
       "    </tr>\n",
       "    <tr>\n",
       "      <td>...</td>\n",
       "      <td>...</td>\n",
       "      <td>...</td>\n",
       "      <td>...</td>\n",
       "      <td>...</td>\n",
       "    </tr>\n",
       "    <tr>\n",
       "      <td>1250</td>\n",
       "      <td>0.0</td>\n",
       "      <td>2018-01-16 04:20:00</td>\n",
       "      <td>125.921379</td>\n",
       "      <td>28.369308</td>\n",
       "    </tr>\n",
       "    <tr>\n",
       "      <td>1251</td>\n",
       "      <td>0.0</td>\n",
       "      <td>2018-01-16 04:20:00</td>\n",
       "      <td>125.921432</td>\n",
       "      <td>28.369282</td>\n",
       "    </tr>\n",
       "    <tr>\n",
       "      <td>1252</td>\n",
       "      <td>0.0</td>\n",
       "      <td>2018-01-16 04:20:00</td>\n",
       "      <td>125.921486</td>\n",
       "      <td>28.369307</td>\n",
       "    </tr>\n",
       "    <tr>\n",
       "      <td>1253</td>\n",
       "      <td>0.0</td>\n",
       "      <td>2018-01-16 04:20:00</td>\n",
       "      <td>125.921524</td>\n",
       "      <td>28.369263</td>\n",
       "    </tr>\n",
       "    <tr>\n",
       "      <td>1254</td>\n",
       "      <td>0.0</td>\n",
       "      <td>2018-01-16 04:20:00</td>\n",
       "      <td>125.921501</td>\n",
       "      <td>28.369329</td>\n",
       "    </tr>\n",
       "  </tbody>\n",
       "</table>\n",
       "<p>886 rows × 4 columns</p>\n",
       "</div>"
      ],
      "text/plain": [
       "            status                time         lon        lat\n",
       "trajectory                                                   \n",
       "2              0.0 2018-01-16 04:20:00  125.852074  28.504345\n",
       "4              0.0 2018-01-16 04:20:00  125.837547  28.535669\n",
       "5              0.0 2018-01-16 04:20:00  125.746597  28.534342\n",
       "9              0.0 2018-01-16 04:20:00  125.779015  28.548067\n",
       "10             0.0 2018-01-16 04:20:00  125.941368  28.543129\n",
       "...            ...                 ...         ...        ...\n",
       "1250           0.0 2018-01-16 04:20:00  125.921379  28.369308\n",
       "1251           0.0 2018-01-16 04:20:00  125.921432  28.369282\n",
       "1252           0.0 2018-01-16 04:20:00  125.921486  28.369307\n",
       "1253           0.0 2018-01-16 04:20:00  125.921524  28.369263\n",
       "1254           0.0 2018-01-16 04:20:00  125.921501  28.369329\n",
       "\n",
       "[886 rows x 4 columns]"
      ]
     },
     "execution_count": 50,
     "metadata": {},
     "output_type": "execute_result"
    }
   ],
   "source": [
    "# 剔除大于阈值的，并且为nan的\n",
    "df_finial=xr_merge.where(xr_merge>=0).to_dataframe().dropna(how='any')\n",
    "df_finial=df_finial[df_finial.status<=0]\n",
    "df_finial"
   ]
  },
  {
   "cell_type": "code",
   "execution_count": 45,
   "metadata": {},
   "outputs": [
    {
     "data": {
      "text/plain": [
       "125.8815689086914"
      ]
     },
     "execution_count": 45,
     "metadata": {},
     "output_type": "execute_result"
    }
   ],
   "source": [
    "df_finial['lon'].mean()"
   ]
  },
  {
   "cell_type": "code",
   "execution_count": 46,
   "metadata": {},
   "outputs": [
    {
     "data": {
      "text/plain": [
       "28.48094940185547"
      ]
     },
     "execution_count": 46,
     "metadata": {},
     "output_type": "execute_result"
    }
   ],
   "source": [
    "df_finial['lat'].mean()"
   ]
  }
 ],
 "metadata": {
  "kernelspec": {
   "display_name": "Python 3",
   "language": "python",
   "name": "python3"
  },
  "language_info": {
   "codemirror_mode": {
    "name": "ipython",
    "version": 3
   },
   "file_extension": ".py",
   "mimetype": "text/x-python",
   "name": "python",
   "nbconvert_exporter": "python",
   "pygments_lexer": "ipython3",
   "version": "3.7.3"
  }
 },
 "nbformat": 4,
 "nbformat_minor": 2
}
