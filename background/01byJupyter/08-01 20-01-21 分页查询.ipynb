{
 "cells": [
  {
   "cell_type": "code",
   "execution_count": 1,
   "metadata": {},
   "outputs": [],
   "source": [
    "import numpy as np\n",
    "import netCDF4 as nc\n",
    "import pandas as pd\n",
    "import numpy.ma as ma"
   ]
  },
  {
   "cell_type": "code",
   "execution_count": 2,
   "metadata": {},
   "outputs": [],
   "source": [
    "import matplotlib as mpl\n",
    "import matplotlib.pyplot as plt"
   ]
  },
  {
   "cell_type": "code",
   "execution_count": 3,
   "metadata": {},
   "outputs": [
    {
     "name": "stderr",
     "output_type": "stream",
     "text": [
      "C:\\ProgramData\\Anaconda3\\lib\\site-packages\\dask\\config.py:168: YAMLLoadWarning: calling yaml.load() without Loader=... is deprecated, as the default Loader is unsafe. Please read https://msg.pyyaml.org/load for full details.\n",
      "  data = yaml.load(f.read()) or {}\n",
      "C:\\ProgramData\\Anaconda3\\lib\\site-packages\\distributed\\config.py:20: YAMLLoadWarning: calling yaml.load() without Loader=... is deprecated, as the default Loader is unsafe. Please read https://msg.pyyaml.org/load for full details.\n",
      "  defaults = yaml.load(f)\n"
     ]
    }
   ],
   "source": [
    "import xarray as xar"
   ]
  },
  {
   "cell_type": "code",
   "execution_count": 4,
   "metadata": {},
   "outputs": [],
   "source": [
    "file_path='./data/sanjioil.nc'"
   ]
  },
  {
   "cell_type": "code",
   "execution_count": 5,
   "metadata": {},
   "outputs": [],
   "source": [
    "ds=nc.Dataset(file_path)"
   ]
  },
  {
   "cell_type": "code",
   "execution_count": 6,
   "metadata": {},
   "outputs": [],
   "source": [
    "ds_xr=xar.open_dataset(file_path)"
   ]
  },
  {
   "cell_type": "code",
   "execution_count": 7,
   "metadata": {},
   "outputs": [
    {
     "data": {
      "text/html": [
       "<pre>&lt;xarray.DataArray &#x27;y_wind&#x27; (trajectory: 2958)&gt;\n",
       "array([9.969210e+36, 1.047276e+01, 9.969210e+36, ..., 9.969210e+36,\n",
       "       9.969210e+36, 9.969210e+36], dtype=float32)\n",
       "Coordinates:\n",
       "  * trajectory  (trajectory) int32 1 2 3 4 5 6 ... 2953 2954 2955 2956 2957 2958\n",
       "    time        datetime64[ns] 2018-01-16T04:20:00\n",
       "    lon         (trajectory) float32 ...\n",
       "    lat         (trajectory) float32 ...</pre>"
      ],
      "text/plain": [
       "<xarray.DataArray 'y_wind' (trajectory: 2958)>\n",
       "array([9.969210e+36, 1.047276e+01, 9.969210e+36, ..., 9.969210e+36,\n",
       "       9.969210e+36, 9.969210e+36], dtype=float32)\n",
       "Coordinates:\n",
       "  * trajectory  (trajectory) int32 1 2 3 4 5 6 ... 2953 2954 2955 2956 2957 2958\n",
       "    time        datetime64[ns] 2018-01-16T04:20:00\n",
       "    lon         (trajectory) float32 ...\n",
       "    lat         (trajectory) float32 ..."
      ]
     },
     "execution_count": 7,
     "metadata": {},
     "output_type": "execute_result"
    }
   ],
   "source": [
    "ds_xr.isel(time=30)['y_wind']"
   ]
  },
  {
   "cell_type": "code",
   "execution_count": 8,
   "metadata": {},
   "outputs": [],
   "source": [
    "ds=ds_xr.sel(time='2018-01-17T19:20:00.000000000')['status']"
   ]
  },
  {
   "cell_type": "code",
   "execution_count": 10,
   "metadata": {},
   "outputs": [],
   "source": [
    "ds_match=ds.where(ds>=0).where(ds<1).to_dataframe().dropna(how='any')"
   ]
  },
  {
   "cell_type": "code",
   "execution_count": 11,
   "metadata": {},
   "outputs": [
    {
     "data": {
      "text/plain": [
       "1954"
      ]
     },
     "execution_count": 11,
     "metadata": {},
     "output_type": "execute_result"
    }
   ],
   "source": [
    "len(ds_match)"
   ]
  },
  {
   "cell_type": "markdown",
   "metadata": {},
   "source": [
    "## 尝试使用分页查询"
   ]
  },
  {
   "cell_type": "code",
   "execution_count": 12,
   "metadata": {},
   "outputs": [
    {
     "data": {
      "text/html": [
       "<div>\n",
       "<style scoped>\n",
       "    .dataframe tbody tr th:only-of-type {\n",
       "        vertical-align: middle;\n",
       "    }\n",
       "\n",
       "    .dataframe tbody tr th {\n",
       "        vertical-align: top;\n",
       "    }\n",
       "\n",
       "    .dataframe thead th {\n",
       "        text-align: right;\n",
       "    }\n",
       "</style>\n",
       "<table border=\"1\" class=\"dataframe\">\n",
       "  <thead>\n",
       "    <tr style=\"text-align: right;\">\n",
       "      <th></th>\n",
       "      <th>time</th>\n",
       "      <th>lon</th>\n",
       "      <th>lat</th>\n",
       "      <th>status</th>\n",
       "    </tr>\n",
       "    <tr>\n",
       "      <th>trajectory</th>\n",
       "      <th></th>\n",
       "      <th></th>\n",
       "      <th></th>\n",
       "      <th></th>\n",
       "    </tr>\n",
       "  </thead>\n",
       "  <tbody>\n",
       "    <tr>\n",
       "      <th>2</th>\n",
       "      <td>2018-01-17 19:20:00</td>\n",
       "      <td>125.899773</td>\n",
       "      <td>28.480537</td>\n",
       "      <td>0.0</td>\n",
       "    </tr>\n",
       "    <tr>\n",
       "      <th>4</th>\n",
       "      <td>2018-01-17 19:20:00</td>\n",
       "      <td>126.031517</td>\n",
       "      <td>28.558193</td>\n",
       "      <td>0.0</td>\n",
       "    </tr>\n",
       "    <tr>\n",
       "      <th>5</th>\n",
       "      <td>2018-01-17 19:20:00</td>\n",
       "      <td>125.923546</td>\n",
       "      <td>28.676928</td>\n",
       "      <td>0.0</td>\n",
       "    </tr>\n",
       "    <tr>\n",
       "      <th>10</th>\n",
       "      <td>2018-01-17 19:20:00</td>\n",
       "      <td>126.115616</td>\n",
       "      <td>28.483524</td>\n",
       "      <td>0.0</td>\n",
       "    </tr>\n",
       "    <tr>\n",
       "      <th>12</th>\n",
       "      <td>2018-01-17 19:20:00</td>\n",
       "      <td>125.823982</td>\n",
       "      <td>28.669727</td>\n",
       "      <td>0.0</td>\n",
       "    </tr>\n",
       "  </tbody>\n",
       "</table>\n",
       "</div>"
      ],
      "text/plain": [
       "                          time         lon        lat  status\n",
       "trajectory                                                   \n",
       "2          2018-01-17 19:20:00  125.899773  28.480537     0.0\n",
       "4          2018-01-17 19:20:00  126.031517  28.558193     0.0\n",
       "5          2018-01-17 19:20:00  125.923546  28.676928     0.0\n",
       "10         2018-01-17 19:20:00  126.115616  28.483524     0.0\n",
       "12         2018-01-17 19:20:00  125.823982  28.669727     0.0"
      ]
     },
     "execution_count": 12,
     "metadata": {},
     "output_type": "execute_result"
    }
   ],
   "source": [
    "ds_match.head()"
   ]
  },
  {
   "cell_type": "code",
   "execution_count": 14,
   "metadata": {},
   "outputs": [
    {
     "data": {
      "text/plain": [
       "500"
      ]
     },
     "execution_count": 14,
     "metadata": {},
     "output_type": "execute_result"
    }
   ],
   "source": [
    "len(ds_match[:500])"
   ]
  },
  {
   "cell_type": "code",
   "execution_count": 15,
   "metadata": {},
   "outputs": [
    {
     "ename": "AttributeError",
     "evalue": "'str' object has no attribute 'variables'",
     "output_type": "error",
     "traceback": [
      "\u001b[1;31m---------------------------------------------------------------------------\u001b[0m",
      "\u001b[1;31mAttributeError\u001b[0m                            Traceback (most recent call last)",
      "\u001b[1;32m<ipython-input-15-c59931bdeb77>\u001b[0m in \u001b[0;36m<module>\u001b[1;34m\u001b[0m\n\u001b[1;32m----> 1\u001b[1;33m \u001b[0mxar\u001b[0m\u001b[1;33m.\u001b[0m\u001b[0mDataset\u001b[0m\u001b[1;33m.\u001b[0m\u001b[0mload\u001b[0m\u001b[1;33m(\u001b[0m\u001b[0mfile_path\u001b[0m\u001b[1;33m)\u001b[0m\u001b[1;33m\u001b[0m\u001b[1;33m\u001b[0m\u001b[0m\n\u001b[0m",
      "\u001b[1;32mC:\\ProgramData\\Anaconda3\\lib\\site-packages\\xarray\\core\\dataset.py\u001b[0m in \u001b[0;36mload\u001b[1;34m(self, **kwargs)\u001b[0m\n\u001b[0;32m    640\u001b[0m         lazy_data = {\n\u001b[0;32m    641\u001b[0m             \u001b[0mk\u001b[0m\u001b[1;33m:\u001b[0m \u001b[0mv\u001b[0m\u001b[1;33m.\u001b[0m\u001b[0m_data\u001b[0m\u001b[1;33m\u001b[0m\u001b[1;33m\u001b[0m\u001b[0m\n\u001b[1;32m--> 642\u001b[1;33m             \u001b[1;32mfor\u001b[0m \u001b[0mk\u001b[0m\u001b[1;33m,\u001b[0m \u001b[0mv\u001b[0m \u001b[1;32min\u001b[0m \u001b[0mself\u001b[0m\u001b[1;33m.\u001b[0m\u001b[0mvariables\u001b[0m\u001b[1;33m.\u001b[0m\u001b[0mitems\u001b[0m\u001b[1;33m(\u001b[0m\u001b[1;33m)\u001b[0m\u001b[1;33m\u001b[0m\u001b[1;33m\u001b[0m\u001b[0m\n\u001b[0m\u001b[0;32m    643\u001b[0m             \u001b[1;32mif\u001b[0m \u001b[0misinstance\u001b[0m\u001b[1;33m(\u001b[0m\u001b[0mv\u001b[0m\u001b[1;33m.\u001b[0m\u001b[0m_data\u001b[0m\u001b[1;33m,\u001b[0m \u001b[0mdask_array_type\u001b[0m\u001b[1;33m)\u001b[0m\u001b[1;33m\u001b[0m\u001b[1;33m\u001b[0m\u001b[0m\n\u001b[0;32m    644\u001b[0m         }\n",
      "\u001b[1;31mAttributeError\u001b[0m: 'str' object has no attribute 'variables'"
     ]
    }
   ],
   "source": [
    "xar.Dataset.load(file_path)"
   ]
  },
  {
   "cell_type": "code",
   "execution_count": 16,
   "metadata": {},
   "outputs": [
    {
     "data": {
      "text/html": [
       "<pre>&lt;xarray.Dataset&gt;\n",
       "Dimensions:                                   (time: 73, trajectory: 2958)\n",
       "Coordinates:\n",
       "  * trajectory                                (trajectory) int32 1 2 ... 2958\n",
       "  * time                                      (time) datetime64[ns] 2018-01-14T22:20:00 ... 2018-01-17T22:20:00\n",
       "    lon                                       (trajectory, time) float32 125.92156 ... 125.90961\n",
       "    lat                                       (trajectory, time) float32 28.369371 ... 28.375484\n",
       "Data variables:\n",
       "    age_seconds                               (trajectory, time) float32 1800.0 ... 1800.0\n",
       "    interfacial_area                          (trajectory, time) float32 0.0 ... 0.0\n",
       "    mass_evaporated                           (trajectory, time) float32 0.0 ... 153.55563\n",
       "    water_fraction                            (trajectory, time) float32 0.0 ... 4.1796207\n",
       "    y_wind                                    (trajectory, time) float32 2.0742028 ... -2.0074513\n",
       "    sea_ice_area_fraction                     (trajectory, time) float32 0.0 ... 0.0\n",
       "    density                                   (trajectory, time) float32 880.0 ... 880.0\n",
       "    oil_film_thickness                        (trajectory, time) float32 0.001 ... 0.001\n",
       "    x_sea_water_velocity                      (trajectory, time) float32 0.77120054 ... 0.0067479247\n",
       "    bulltime                                  (trajectory, time) float32 0.0 ... 0.0\n",
       "    x_wind                                    (trajectory, time) float32 -5.441279 ... -1.0630156\n",
       "    age_emulsion_seconds                      (trajectory, time) float32 0.0 ... 408.87595\n",
       "    sea_surface_wave_stokes_drift_y_velocity  (trajectory, time) float32 0.0 ... 0.0\n",
       "    status                                    (trajectory, time) int32 0 1 ... 1\n",
       "    viscosity                                 (trajectory, time) float32 0.005 ... 0.005\n",
       "    sea_floor_depth_below_sea_level           (trajectory, time) float32 0.0 ... 0.0\n",
       "    mass_dispersed                            (trajectory, time) float32 0.0 ... 3.7217066\n",
       "    land_binary_mask                          (trajectory, time) float32 0.0 ... 0.0\n",
       "    sea_surface_wave_significant_height       (trajectory, time) float32 0.834182 ... 0.1269326\n",
       "    sea_water_temperature                     (trajectory, time) float32 12.0 ... 12.0\n",
       "    mass_oil                                  (trajectory, time) float32 2000.0 ... 1842.7227\n",
       "    age_exposure_seconds                      (trajectory, time) float32 0.0 ... 408.87595\n",
       "    sea_surface_wave_stokes_drift_x_velocity  (trajectory, time) float32 0.0 ... 0.0\n",
       "    y_sea_water_velocity                      (trajectory, time) float32 0.17335966 ... -0.65223014\n",
       "    z                                         (trajectory, time) float32 0.0 ... 0.0\n",
       "    wind_drift_factor                         (trajectory, time) float32 0.02 ... 0.02\n",
       "    fraction_evaporated                       (trajectory, time) float32 0.0 ... 0.076777816\n",
       "Attributes:\n",
       "    Conventions:                                  CF-1.6\n",
       "    standard_name_vocabulary:                     CF-1.6\n",
       "    featureType:                                  trajectory\n",
       "    history:                                      Created 2019-08-01 11:42:45...\n",
       "    source:                                       Output from simulation with...\n",
       "    model_url:                                    https://github.com/OpenDrif...\n",
       "    opendrift_class:                              OpenOil\n",
       "    opendrift_module:                             opendrift.models.openoil\n",
       "    readers:                                      [&#x27;E:\\\\project\\\\oilspill_res...\n",
       "    time_coverage_start:                          2018-01-14 22:20:00\n",
       "    time_step_calculation:                        0:30:00\n",
       "    time_step_output:                             1:00:00\n",
       "    config_seed:oil_type:                         MEDIUM (brage)\n",
       "    config_seed:ocean_only:                       True\n",
       "    config_general:use_basemap_landmask:          True\n",
       "    config_general:basemap_resolution:            h\n",
       "    config_general:coastline_action:              stranding\n",
       "    config_general:time_step_minutes:             60\n",
       "    config_general:time_step_output_minutes:      None\n",
       "    config_drift:max_age_seconds:                 None\n",
       "    config_drift:scheme:                          runge-kutta\n",
       "    config_drift:stokes_drift:                    True\n",
       "    config_drift:current_uncertainty:             0.5\n",
       "    config_drift:current_uncertainty_uniform:     0.0\n",
       "    config_drift:wind_uncertainty:                1\n",
       "    config_drift:relative_wind:                   False\n",
       "    config_drift:lift_to_seafloor:                True\n",
       "    config_drift:deactivate_north_of:             None\n",
       "    config_drift:deactivate_south_of:             None\n",
       "    config_drift:deactivate_east_of:              None\n",
       "    config_drift:deactivate_west_of:              None\n",
       "    config_drift:use_tabularised_stokes_drift:    False\n",
       "    config_drift:tabularised_stokes_drift_fetch:  25000\n",
       "    config_processes:dispersion:                  True\n",
       "    config_processes:evaporation:                 True\n",
       "    config_processes:emulsification:              True\n",
       "    config_processes:update_oilfilm_thickness:    False\n",
       "    opendrift_version:                            1.0.6\n",
       "    time_coverage_end:                            2018-01-17 22:20:00\n",
       "    geospatial_lat_min:                           0.0\n",
       "    geospatial_lat_max:                           0.0\n",
       "    geospatial_lat_units:                         degrees_north\n",
       "    geospatial_lat_resolution:                    point\n",
       "    geospatial_lon_min:                           0.0\n",
       "    geospatial_lon_max:                           0.0\n",
       "    geospatial_lon_units:                         degrees_east\n",
       "    geospatial_lon_resolution:                    point\n",
       "    runtime:                                      0:00:14.547000</pre>"
      ],
      "text/plain": [
       "<xarray.Dataset>\n",
       "Dimensions:                                   (time: 73, trajectory: 2958)\n",
       "Coordinates:\n",
       "  * trajectory                                (trajectory) int32 1 2 ... 2958\n",
       "  * time                                      (time) datetime64[ns] 2018-01-14T22:20:00 ... 2018-01-17T22:20:00\n",
       "    lon                                       (trajectory, time) float32 125.92156 ... 125.90961\n",
       "    lat                                       (trajectory, time) float32 28.369371 ... 28.375484\n",
       "Data variables:\n",
       "    age_seconds                               (trajectory, time) float32 1800.0 ... 1800.0\n",
       "    interfacial_area                          (trajectory, time) float32 0.0 ... 0.0\n",
       "    mass_evaporated                           (trajectory, time) float32 0.0 ... 153.55563\n",
       "    water_fraction                            (trajectory, time) float32 0.0 ... 4.1796207\n",
       "    y_wind                                    (trajectory, time) float32 2.0742028 ... -2.0074513\n",
       "    sea_ice_area_fraction                     (trajectory, time) float32 0.0 ... 0.0\n",
       "    density                                   (trajectory, time) float32 880.0 ... 880.0\n",
       "    oil_film_thickness                        (trajectory, time) float32 0.001 ... 0.001\n",
       "    x_sea_water_velocity                      (trajectory, time) float32 0.77120054 ... 0.0067479247\n",
       "    bulltime                                  (trajectory, time) float32 0.0 ... 0.0\n",
       "    x_wind                                    (trajectory, time) float32 -5.441279 ... -1.0630156\n",
       "    age_emulsion_seconds                      (trajectory, time) float32 0.0 ... 408.87595\n",
       "    sea_surface_wave_stokes_drift_y_velocity  (trajectory, time) float32 0.0 ... 0.0\n",
       "    status                                    (trajectory, time) int32 0 1 ... 1\n",
       "    viscosity                                 (trajectory, time) float32 0.005 ... 0.005\n",
       "    sea_floor_depth_below_sea_level           (trajectory, time) float32 0.0 ... 0.0\n",
       "    mass_dispersed                            (trajectory, time) float32 0.0 ... 3.7217066\n",
       "    land_binary_mask                          (trajectory, time) float32 0.0 ... 0.0\n",
       "    sea_surface_wave_significant_height       (trajectory, time) float32 0.834182 ... 0.1269326\n",
       "    sea_water_temperature                     (trajectory, time) float32 12.0 ... 12.0\n",
       "    mass_oil                                  (trajectory, time) float32 2000.0 ... 1842.7227\n",
       "    age_exposure_seconds                      (trajectory, time) float32 0.0 ... 408.87595\n",
       "    sea_surface_wave_stokes_drift_x_velocity  (trajectory, time) float32 0.0 ... 0.0\n",
       "    y_sea_water_velocity                      (trajectory, time) float32 0.17335966 ... -0.65223014\n",
       "    z                                         (trajectory, time) float32 0.0 ... 0.0\n",
       "    wind_drift_factor                         (trajectory, time) float32 0.02 ... 0.02\n",
       "    fraction_evaporated                       (trajectory, time) float32 0.0 ... 0.076777816\n",
       "Attributes:\n",
       "    Conventions:                                  CF-1.6\n",
       "    standard_name_vocabulary:                     CF-1.6\n",
       "    featureType:                                  trajectory\n",
       "    history:                                      Created 2019-08-01 11:42:45...\n",
       "    source:                                       Output from simulation with...\n",
       "    model_url:                                    https://github.com/OpenDrif...\n",
       "    opendrift_class:                              OpenOil\n",
       "    opendrift_module:                             opendrift.models.openoil\n",
       "    readers:                                      ['E:\\\\project\\\\oilspill_res...\n",
       "    time_coverage_start:                          2018-01-14 22:20:00\n",
       "    time_step_calculation:                        0:30:00\n",
       "    time_step_output:                             1:00:00\n",
       "    config_seed:oil_type:                         MEDIUM (brage)\n",
       "    config_seed:ocean_only:                       True\n",
       "    config_general:use_basemap_landmask:          True\n",
       "    config_general:basemap_resolution:            h\n",
       "    config_general:coastline_action:              stranding\n",
       "    config_general:time_step_minutes:             60\n",
       "    config_general:time_step_output_minutes:      None\n",
       "    config_drift:max_age_seconds:                 None\n",
       "    config_drift:scheme:                          runge-kutta\n",
       "    config_drift:stokes_drift:                    True\n",
       "    config_drift:current_uncertainty:             0.5\n",
       "    config_drift:current_uncertainty_uniform:     0.0\n",
       "    config_drift:wind_uncertainty:                1\n",
       "    config_drift:relative_wind:                   False\n",
       "    config_drift:lift_to_seafloor:                True\n",
       "    config_drift:deactivate_north_of:             None\n",
       "    config_drift:deactivate_south_of:             None\n",
       "    config_drift:deactivate_east_of:              None\n",
       "    config_drift:deactivate_west_of:              None\n",
       "    config_drift:use_tabularised_stokes_drift:    False\n",
       "    config_drift:tabularised_stokes_drift_fetch:  25000\n",
       "    config_processes:dispersion:                  True\n",
       "    config_processes:evaporation:                 True\n",
       "    config_processes:emulsification:              True\n",
       "    config_processes:update_oilfilm_thickness:    False\n",
       "    opendrift_version:                            1.0.6\n",
       "    time_coverage_end:                            2018-01-17 22:20:00\n",
       "    geospatial_lat_min:                           0.0\n",
       "    geospatial_lat_max:                           0.0\n",
       "    geospatial_lat_units:                         degrees_north\n",
       "    geospatial_lat_resolution:                    point\n",
       "    geospatial_lon_min:                           0.0\n",
       "    geospatial_lon_max:                           0.0\n",
       "    geospatial_lon_units:                         degrees_east\n",
       "    geospatial_lon_resolution:                    point\n",
       "    runtime:                                      0:00:14.547000"
      ]
     },
     "execution_count": 16,
     "metadata": {},
     "output_type": "execute_result"
    }
   ],
   "source": [
    "ds_xr.load()"
   ]
  },
  {
   "cell_type": "code",
   "execution_count": null,
   "metadata": {},
   "outputs": [],
   "source": []
  }
 ],
 "metadata": {
  "kernelspec": {
   "display_name": "Python 3",
   "language": "python",
   "name": "python3"
  },
  "language_info": {
   "codemirror_mode": {
    "name": "ipython",
    "version": 3
   },
   "file_extension": ".py",
   "mimetype": "text/x-python",
   "name": "python",
   "nbconvert_exporter": "python",
   "pygments_lexer": "ipython3",
   "version": "3.7.4"
  }
 },
 "nbformat": 4,
 "nbformat_minor": 2
}
