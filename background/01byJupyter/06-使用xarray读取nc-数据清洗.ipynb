{
 "cells": [
  {
   "cell_type": "code",
   "execution_count": 1,
   "metadata": {},
   "outputs": [],
   "source": [
    "import numpy as np\n",
    "import netCDF4 as nc\n",
    "import pandas as pd\n",
    "import numpy.ma as ma"
   ]
  },
  {
   "cell_type": "code",
   "execution_count": 2,
   "metadata": {},
   "outputs": [],
   "source": [
    "import matplotlib as mpl\n",
    "import matplotlib.pyplot as plt"
   ]
  },
  {
   "cell_type": "code",
   "execution_count": 3,
   "metadata": {},
   "outputs": [
    {
     "name": "stderr",
     "output_type": "stream",
     "text": [
      "D:\\01Setup\\ANACONDA\\lib\\site-packages\\dask\\config.py:168: YAMLLoadWarning: calling yaml.load() without Loader=... is deprecated, as the default Loader is unsafe. Please read https://msg.pyyaml.org/load for full details.\n",
      "  data = yaml.load(f.read()) or {}\n",
      "D:\\01Setup\\ANACONDA\\lib\\site-packages\\distributed\\config.py:20: YAMLLoadWarning: calling yaml.load() without Loader=... is deprecated, as the default Loader is unsafe. Please read https://msg.pyyaml.org/load for full details.\n",
      "  defaults = yaml.load(f)\n"
     ]
    }
   ],
   "source": [
    "import xarray as xar"
   ]
  },
  {
   "cell_type": "code",
   "execution_count": 4,
   "metadata": {},
   "outputs": [],
   "source": [
    "file_path='./data/sanjioil.nc'"
   ]
  },
  {
   "cell_type": "code",
   "execution_count": 5,
   "metadata": {},
   "outputs": [],
   "source": [
    "ds=nc.Dataset(file_path)"
   ]
  },
  {
   "cell_type": "code",
   "execution_count": 6,
   "metadata": {},
   "outputs": [],
   "source": [
    "ds_xr=xar.open_dataset(file_path)"
   ]
  },
  {
   "cell_type": "code",
   "execution_count": 7,
   "metadata": {},
   "outputs": [
    {
     "data": {
      "text/html": [
       "<pre>&lt;xarray.Dataset&gt;\n",
       "Dimensions:                                   (time: 73, trajectory: 2958)\n",
       "Coordinates:\n",
       "  * trajectory                                (trajectory) int32 1 2 ... 2958\n",
       "  * time                                      (time) datetime64[ns] 2018-01-14T22:20:00 ... 2018-01-17T22:20:00\n",
       "    lon                                       (trajectory, time) float32 ...\n",
       "    lat                                       (trajectory, time) float32 ...\n",
       "Data variables:\n",
       "    age_seconds                               (trajectory, time) float32 ...\n",
       "    interfacial_area                          (trajectory, time) float32 ...\n",
       "    mass_evaporated                           (trajectory, time) float32 ...\n",
       "    water_fraction                            (trajectory, time) float32 ...\n",
       "    y_wind                                    (trajectory, time) float32 ...\n",
       "    sea_ice_area_fraction                     (trajectory, time) float32 ...\n",
       "    density                                   (trajectory, time) float32 ...\n",
       "    oil_film_thickness                        (trajectory, time) float32 ...\n",
       "    x_sea_water_velocity                      (trajectory, time) float32 ...\n",
       "    bulltime                                  (trajectory, time) float32 ...\n",
       "    x_wind                                    (trajectory, time) float32 ...\n",
       "    age_emulsion_seconds                      (trajectory, time) float32 ...\n",
       "    sea_surface_wave_stokes_drift_y_velocity  (trajectory, time) float32 ...\n",
       "    status                                    (trajectory, time) int32 ...\n",
       "    viscosity                                 (trajectory, time) float32 ...\n",
       "    sea_floor_depth_below_sea_level           (trajectory, time) float32 ...\n",
       "    mass_dispersed                            (trajectory, time) float32 ...\n",
       "    land_binary_mask                          (trajectory, time) float32 ...\n",
       "    sea_surface_wave_significant_height       (trajectory, time) float32 ...\n",
       "    sea_water_temperature                     (trajectory, time) float32 ...\n",
       "    mass_oil                                  (trajectory, time) float32 ...\n",
       "    age_exposure_seconds                      (trajectory, time) float32 ...\n",
       "    sea_surface_wave_stokes_drift_x_velocity  (trajectory, time) float32 ...\n",
       "    y_sea_water_velocity                      (trajectory, time) float32 ...\n",
       "    z                                         (trajectory, time) float32 ...\n",
       "    wind_drift_factor                         (trajectory, time) float32 ...\n",
       "    fraction_evaporated                       (trajectory, time) float32 ...\n",
       "Attributes:\n",
       "    Conventions:                                  CF-1.6\n",
       "    standard_name_vocabulary:                     CF-1.6\n",
       "    featureType:                                  trajectory\n",
       "    history:                                      Created 2019-08-01 11:42:45...\n",
       "    source:                                       Output from simulation with...\n",
       "    model_url:                                    https://github.com/OpenDrif...\n",
       "    opendrift_class:                              OpenOil\n",
       "    opendrift_module:                             opendrift.models.openoil\n",
       "    readers:                                      [&#x27;E:\\\\project\\\\oilspill_res...\n",
       "    time_coverage_start:                          2018-01-14 22:20:00\n",
       "    time_step_calculation:                        0:30:00\n",
       "    time_step_output:                             1:00:00\n",
       "    config_seed:oil_type:                         MEDIUM (brage)\n",
       "    config_seed:ocean_only:                       True\n",
       "    config_general:use_basemap_landmask:          True\n",
       "    config_general:basemap_resolution:            h\n",
       "    config_general:coastline_action:              stranding\n",
       "    config_general:time_step_minutes:             60\n",
       "    config_general:time_step_output_minutes:      None\n",
       "    config_drift:max_age_seconds:                 None\n",
       "    config_drift:scheme:                          runge-kutta\n",
       "    config_drift:stokes_drift:                    True\n",
       "    config_drift:current_uncertainty:             0.5\n",
       "    config_drift:current_uncertainty_uniform:     0.0\n",
       "    config_drift:wind_uncertainty:                1\n",
       "    config_drift:relative_wind:                   False\n",
       "    config_drift:lift_to_seafloor:                True\n",
       "    config_drift:deactivate_north_of:             None\n",
       "    config_drift:deactivate_south_of:             None\n",
       "    config_drift:deactivate_east_of:              None\n",
       "    config_drift:deactivate_west_of:              None\n",
       "    config_drift:use_tabularised_stokes_drift:    False\n",
       "    config_drift:tabularised_stokes_drift_fetch:  25000\n",
       "    config_processes:dispersion:                  True\n",
       "    config_processes:evaporation:                 True\n",
       "    config_processes:emulsification:              True\n",
       "    config_processes:update_oilfilm_thickness:    False\n",
       "    opendrift_version:                            1.0.6\n",
       "    time_coverage_end:                            2018-01-17 22:20:00\n",
       "    geospatial_lat_min:                           0.0\n",
       "    geospatial_lat_max:                           0.0\n",
       "    geospatial_lat_units:                         degrees_north\n",
       "    geospatial_lat_resolution:                    point\n",
       "    geospatial_lon_min:                           0.0\n",
       "    geospatial_lon_max:                           0.0\n",
       "    geospatial_lon_units:                         degrees_east\n",
       "    geospatial_lon_resolution:                    point\n",
       "    runtime:                                      0:00:14.547000</pre>"
      ],
      "text/plain": [
       "<xarray.Dataset>\n",
       "Dimensions:                                   (time: 73, trajectory: 2958)\n",
       "Coordinates:\n",
       "  * trajectory                                (trajectory) int32 1 2 ... 2958\n",
       "  * time                                      (time) datetime64[ns] 2018-01-14T22:20:00 ... 2018-01-17T22:20:00\n",
       "    lon                                       (trajectory, time) float32 ...\n",
       "    lat                                       (trajectory, time) float32 ...\n",
       "Data variables:\n",
       "    age_seconds                               (trajectory, time) float32 ...\n",
       "    interfacial_area                          (trajectory, time) float32 ...\n",
       "    mass_evaporated                           (trajectory, time) float32 ...\n",
       "    water_fraction                            (trajectory, time) float32 ...\n",
       "    y_wind                                    (trajectory, time) float32 ...\n",
       "    sea_ice_area_fraction                     (trajectory, time) float32 ...\n",
       "    density                                   (trajectory, time) float32 ...\n",
       "    oil_film_thickness                        (trajectory, time) float32 ...\n",
       "    x_sea_water_velocity                      (trajectory, time) float32 ...\n",
       "    bulltime                                  (trajectory, time) float32 ...\n",
       "    x_wind                                    (trajectory, time) float32 ...\n",
       "    age_emulsion_seconds                      (trajectory, time) float32 ...\n",
       "    sea_surface_wave_stokes_drift_y_velocity  (trajectory, time) float32 ...\n",
       "    status                                    (trajectory, time) int32 ...\n",
       "    viscosity                                 (trajectory, time) float32 ...\n",
       "    sea_floor_depth_below_sea_level           (trajectory, time) float32 ...\n",
       "    mass_dispersed                            (trajectory, time) float32 ...\n",
       "    land_binary_mask                          (trajectory, time) float32 ...\n",
       "    sea_surface_wave_significant_height       (trajectory, time) float32 ...\n",
       "    sea_water_temperature                     (trajectory, time) float32 ...\n",
       "    mass_oil                                  (trajectory, time) float32 ...\n",
       "    age_exposure_seconds                      (trajectory, time) float32 ...\n",
       "    sea_surface_wave_stokes_drift_x_velocity  (trajectory, time) float32 ...\n",
       "    y_sea_water_velocity                      (trajectory, time) float32 ...\n",
       "    z                                         (trajectory, time) float32 ...\n",
       "    wind_drift_factor                         (trajectory, time) float32 ...\n",
       "    fraction_evaporated                       (trajectory, time) float32 ...\n",
       "Attributes:\n",
       "    Conventions:                                  CF-1.6\n",
       "    standard_name_vocabulary:                     CF-1.6\n",
       "    featureType:                                  trajectory\n",
       "    history:                                      Created 2019-08-01 11:42:45...\n",
       "    source:                                       Output from simulation with...\n",
       "    model_url:                                    https://github.com/OpenDrif...\n",
       "    opendrift_class:                              OpenOil\n",
       "    opendrift_module:                             opendrift.models.openoil\n",
       "    readers:                                      ['E:\\\\project\\\\oilspill_res...\n",
       "    time_coverage_start:                          2018-01-14 22:20:00\n",
       "    time_step_calculation:                        0:30:00\n",
       "    time_step_output:                             1:00:00\n",
       "    config_seed:oil_type:                         MEDIUM (brage)\n",
       "    config_seed:ocean_only:                       True\n",
       "    config_general:use_basemap_landmask:          True\n",
       "    config_general:basemap_resolution:            h\n",
       "    config_general:coastline_action:              stranding\n",
       "    config_general:time_step_minutes:             60\n",
       "    config_general:time_step_output_minutes:      None\n",
       "    config_drift:max_age_seconds:                 None\n",
       "    config_drift:scheme:                          runge-kutta\n",
       "    config_drift:stokes_drift:                    True\n",
       "    config_drift:current_uncertainty:             0.5\n",
       "    config_drift:current_uncertainty_uniform:     0.0\n",
       "    config_drift:wind_uncertainty:                1\n",
       "    config_drift:relative_wind:                   False\n",
       "    config_drift:lift_to_seafloor:                True\n",
       "    config_drift:deactivate_north_of:             None\n",
       "    config_drift:deactivate_south_of:             None\n",
       "    config_drift:deactivate_east_of:              None\n",
       "    config_drift:deactivate_west_of:              None\n",
       "    config_drift:use_tabularised_stokes_drift:    False\n",
       "    config_drift:tabularised_stokes_drift_fetch:  25000\n",
       "    config_processes:dispersion:                  True\n",
       "    config_processes:evaporation:                 True\n",
       "    config_processes:emulsification:              True\n",
       "    config_processes:update_oilfilm_thickness:    False\n",
       "    opendrift_version:                            1.0.6\n",
       "    time_coverage_end:                            2018-01-17 22:20:00\n",
       "    geospatial_lat_min:                           0.0\n",
       "    geospatial_lat_max:                           0.0\n",
       "    geospatial_lat_units:                         degrees_north\n",
       "    geospatial_lat_resolution:                    point\n",
       "    geospatial_lon_min:                           0.0\n",
       "    geospatial_lon_max:                           0.0\n",
       "    geospatial_lon_units:                         degrees_east\n",
       "    geospatial_lon_resolution:                    point\n",
       "    runtime:                                      0:00:14.547000"
      ]
     },
     "execution_count": 7,
     "metadata": {},
     "output_type": "execute_result"
    }
   ],
   "source": [
    "ds_xr"
   ]
  },
  {
   "cell_type": "code",
   "execution_count": 8,
   "metadata": {},
   "outputs": [
    {
     "data": {
      "text/plain": [
       "Frozen(SortedKeysDict({'trajectory': 2958, 'time': 73}))"
      ]
     },
     "execution_count": 8,
     "metadata": {},
     "output_type": "execute_result"
    }
   ],
   "source": [
    "ds_xr.dims"
   ]
  },
  {
   "cell_type": "code",
   "execution_count": 9,
   "metadata": {},
   "outputs": [
    {
     "data": {
      "text/plain": [
       "Coordinates:\n",
       "  * trajectory  (trajectory) int32 1 2 3 4 5 6 ... 2953 2954 2955 2956 2957 2958\n",
       "  * time        (time) datetime64[ns] 2018-01-14T22:20:00 ... 2018-01-17T22:20:00\n",
       "    lon         (trajectory, time) float32 ...\n",
       "    lat         (trajectory, time) float32 ..."
      ]
     },
     "execution_count": 9,
     "metadata": {},
     "output_type": "execute_result"
    }
   ],
   "source": [
    "ds_xr.coords"
   ]
  },
  {
   "cell_type": "markdown",
   "metadata": {},
   "source": [
    "获取所有的维度"
   ]
  },
  {
   "cell_type": "code",
   "execution_count": 15,
   "metadata": {},
   "outputs": [
    {
     "name": "stdout",
     "output_type": "stream",
     "text": [
      "<class 'str'>\n",
      "trajectory\n",
      "<class 'str'>\n",
      "time\n",
      "<class 'str'>\n",
      "lon\n",
      "<class 'str'>\n",
      "lat\n"
     ]
    }
   ],
   "source": [
    "for temp in ds_xr.coords:\n",
    "    print(type(temp))\n",
    "    print(temp)"
   ]
  },
  {
   "cell_type": "code",
   "execution_count": 14,
   "metadata": {},
   "outputs": [
    {
     "data": {
      "text/html": [
       "<pre>&lt;xarray.DataArray &#x27;time&#x27; (time: 73)&gt;\n",
       "array([&#x27;2018-01-14T22:20:00.000000000&#x27;, &#x27;2018-01-14T23:20:00.000000000&#x27;,\n",
       "       &#x27;2018-01-15T00:20:00.000000000&#x27;, &#x27;2018-01-15T01:20:00.000000000&#x27;,\n",
       "       &#x27;2018-01-15T02:20:00.000000000&#x27;, &#x27;2018-01-15T03:20:00.000000000&#x27;,\n",
       "       &#x27;2018-01-15T04:20:00.000000000&#x27;, &#x27;2018-01-15T05:20:00.000000000&#x27;,\n",
       "       &#x27;2018-01-15T06:20:00.000000000&#x27;, &#x27;2018-01-15T07:20:00.000000000&#x27;,\n",
       "       &#x27;2018-01-15T08:20:00.000000000&#x27;, &#x27;2018-01-15T09:20:00.000000000&#x27;,\n",
       "       &#x27;2018-01-15T10:20:00.000000000&#x27;, &#x27;2018-01-15T11:20:00.000000000&#x27;,\n",
       "       &#x27;2018-01-15T12:20:00.000000000&#x27;, &#x27;2018-01-15T13:20:00.000000000&#x27;,\n",
       "       &#x27;2018-01-15T14:20:00.000000000&#x27;, &#x27;2018-01-15T15:20:00.000000000&#x27;,\n",
       "       &#x27;2018-01-15T16:20:00.000000000&#x27;, &#x27;2018-01-15T17:20:00.000000000&#x27;,\n",
       "       &#x27;2018-01-15T18:20:00.000000000&#x27;, &#x27;2018-01-15T19:20:00.000000000&#x27;,\n",
       "       &#x27;2018-01-15T20:20:00.000000000&#x27;, &#x27;2018-01-15T21:20:00.000000000&#x27;,\n",
       "       &#x27;2018-01-15T22:20:00.000000000&#x27;, &#x27;2018-01-15T23:20:00.000000000&#x27;,\n",
       "       &#x27;2018-01-16T00:20:00.000000000&#x27;, &#x27;2018-01-16T01:20:00.000000000&#x27;,\n",
       "       &#x27;2018-01-16T02:20:00.000000000&#x27;, &#x27;2018-01-16T03:20:00.000000000&#x27;,\n",
       "       &#x27;2018-01-16T04:20:00.000000000&#x27;, &#x27;2018-01-16T05:20:00.000000000&#x27;,\n",
       "       &#x27;2018-01-16T06:20:00.000000000&#x27;, &#x27;2018-01-16T07:20:00.000000000&#x27;,\n",
       "       &#x27;2018-01-16T08:20:00.000000000&#x27;, &#x27;2018-01-16T09:20:00.000000000&#x27;,\n",
       "       &#x27;2018-01-16T10:20:00.000000000&#x27;, &#x27;2018-01-16T11:20:00.000000000&#x27;,\n",
       "       &#x27;2018-01-16T12:20:00.000000000&#x27;, &#x27;2018-01-16T13:20:00.000000000&#x27;,\n",
       "       &#x27;2018-01-16T14:20:00.000000000&#x27;, &#x27;2018-01-16T15:20:00.000000000&#x27;,\n",
       "       &#x27;2018-01-16T16:20:00.000000000&#x27;, &#x27;2018-01-16T17:20:00.000000000&#x27;,\n",
       "       &#x27;2018-01-16T18:20:00.000000000&#x27;, &#x27;2018-01-16T19:20:00.000000000&#x27;,\n",
       "       &#x27;2018-01-16T20:20:00.000000000&#x27;, &#x27;2018-01-16T21:20:00.000000000&#x27;,\n",
       "       &#x27;2018-01-16T22:20:00.000000000&#x27;, &#x27;2018-01-16T23:20:00.000000000&#x27;,\n",
       "       &#x27;2018-01-17T00:20:00.000000000&#x27;, &#x27;2018-01-17T01:20:00.000000000&#x27;,\n",
       "       &#x27;2018-01-17T02:20:00.000000000&#x27;, &#x27;2018-01-17T03:20:00.000000000&#x27;,\n",
       "       &#x27;2018-01-17T04:20:00.000000000&#x27;, &#x27;2018-01-17T05:20:00.000000000&#x27;,\n",
       "       &#x27;2018-01-17T06:20:00.000000000&#x27;, &#x27;2018-01-17T07:20:00.000000000&#x27;,\n",
       "       &#x27;2018-01-17T08:20:00.000000000&#x27;, &#x27;2018-01-17T09:20:00.000000000&#x27;,\n",
       "       &#x27;2018-01-17T10:20:00.000000000&#x27;, &#x27;2018-01-17T11:20:00.000000000&#x27;,\n",
       "       &#x27;2018-01-17T12:20:00.000000000&#x27;, &#x27;2018-01-17T13:20:00.000000000&#x27;,\n",
       "       &#x27;2018-01-17T14:20:00.000000000&#x27;, &#x27;2018-01-17T15:20:00.000000000&#x27;,\n",
       "       &#x27;2018-01-17T16:20:00.000000000&#x27;, &#x27;2018-01-17T17:20:00.000000000&#x27;,\n",
       "       &#x27;2018-01-17T18:20:00.000000000&#x27;, &#x27;2018-01-17T19:20:00.000000000&#x27;,\n",
       "       &#x27;2018-01-17T20:20:00.000000000&#x27;, &#x27;2018-01-17T21:20:00.000000000&#x27;,\n",
       "       &#x27;2018-01-17T22:20:00.000000000&#x27;], dtype=&#x27;datetime64[ns]&#x27;)\n",
       "Coordinates:\n",
       "  * time     (time) datetime64[ns] 2018-01-14T22:20:00 ... 2018-01-17T22:20:00\n",
       "Attributes:\n",
       "    standard_name:  time\n",
       "    long_name:      time</pre>"
      ],
      "text/plain": [
       "<xarray.DataArray 'time' (time: 73)>\n",
       "array(['2018-01-14T22:20:00.000000000', '2018-01-14T23:20:00.000000000',\n",
       "       '2018-01-15T00:20:00.000000000', '2018-01-15T01:20:00.000000000',\n",
       "       '2018-01-15T02:20:00.000000000', '2018-01-15T03:20:00.000000000',\n",
       "       '2018-01-15T04:20:00.000000000', '2018-01-15T05:20:00.000000000',\n",
       "       '2018-01-15T06:20:00.000000000', '2018-01-15T07:20:00.000000000',\n",
       "       '2018-01-15T08:20:00.000000000', '2018-01-15T09:20:00.000000000',\n",
       "       '2018-01-15T10:20:00.000000000', '2018-01-15T11:20:00.000000000',\n",
       "       '2018-01-15T12:20:00.000000000', '2018-01-15T13:20:00.000000000',\n",
       "       '2018-01-15T14:20:00.000000000', '2018-01-15T15:20:00.000000000',\n",
       "       '2018-01-15T16:20:00.000000000', '2018-01-15T17:20:00.000000000',\n",
       "       '2018-01-15T18:20:00.000000000', '2018-01-15T19:20:00.000000000',\n",
       "       '2018-01-15T20:20:00.000000000', '2018-01-15T21:20:00.000000000',\n",
       "       '2018-01-15T22:20:00.000000000', '2018-01-15T23:20:00.000000000',\n",
       "       '2018-01-16T00:20:00.000000000', '2018-01-16T01:20:00.000000000',\n",
       "       '2018-01-16T02:20:00.000000000', '2018-01-16T03:20:00.000000000',\n",
       "       '2018-01-16T04:20:00.000000000', '2018-01-16T05:20:00.000000000',\n",
       "       '2018-01-16T06:20:00.000000000', '2018-01-16T07:20:00.000000000',\n",
       "       '2018-01-16T08:20:00.000000000', '2018-01-16T09:20:00.000000000',\n",
       "       '2018-01-16T10:20:00.000000000', '2018-01-16T11:20:00.000000000',\n",
       "       '2018-01-16T12:20:00.000000000', '2018-01-16T13:20:00.000000000',\n",
       "       '2018-01-16T14:20:00.000000000', '2018-01-16T15:20:00.000000000',\n",
       "       '2018-01-16T16:20:00.000000000', '2018-01-16T17:20:00.000000000',\n",
       "       '2018-01-16T18:20:00.000000000', '2018-01-16T19:20:00.000000000',\n",
       "       '2018-01-16T20:20:00.000000000', '2018-01-16T21:20:00.000000000',\n",
       "       '2018-01-16T22:20:00.000000000', '2018-01-16T23:20:00.000000000',\n",
       "       '2018-01-17T00:20:00.000000000', '2018-01-17T01:20:00.000000000',\n",
       "       '2018-01-17T02:20:00.000000000', '2018-01-17T03:20:00.000000000',\n",
       "       '2018-01-17T04:20:00.000000000', '2018-01-17T05:20:00.000000000',\n",
       "       '2018-01-17T06:20:00.000000000', '2018-01-17T07:20:00.000000000',\n",
       "       '2018-01-17T08:20:00.000000000', '2018-01-17T09:20:00.000000000',\n",
       "       '2018-01-17T10:20:00.000000000', '2018-01-17T11:20:00.000000000',\n",
       "       '2018-01-17T12:20:00.000000000', '2018-01-17T13:20:00.000000000',\n",
       "       '2018-01-17T14:20:00.000000000', '2018-01-17T15:20:00.000000000',\n",
       "       '2018-01-17T16:20:00.000000000', '2018-01-17T17:20:00.000000000',\n",
       "       '2018-01-17T18:20:00.000000000', '2018-01-17T19:20:00.000000000',\n",
       "       '2018-01-17T20:20:00.000000000', '2018-01-17T21:20:00.000000000',\n",
       "       '2018-01-17T22:20:00.000000000'], dtype='datetime64[ns]')\n",
       "Coordinates:\n",
       "  * time     (time) datetime64[ns] 2018-01-14T22:20:00 ... 2018-01-17T22:20:00\n",
       "Attributes:\n",
       "    standard_name:  time\n",
       "    long_name:      time"
      ]
     },
     "execution_count": 14,
     "metadata": {},
     "output_type": "execute_result"
    }
   ],
   "source": [
    "ds_xr.coords['time']"
   ]
  },
  {
   "cell_type": "code",
   "execution_count": 12,
   "metadata": {},
   "outputs": [
    {
     "data": {
      "text/html": [
       "<pre>&lt;xarray.DataArray &#x27;mass_oil&#x27; (trajectory: 2958, time: 73)&gt;\n",
       "[215934 values with dtype=float32]\n",
       "Coordinates:\n",
       "  * trajectory  (trajectory) int32 1 2 3 4 5 6 ... 2953 2954 2955 2956 2957 2958\n",
       "  * time        (time) datetime64[ns] 2018-01-14T22:20:00 ... 2018-01-17T22:20:00\n",
       "    lon         (trajectory, time) float32 ...\n",
       "    lat         (trajectory, time) float32 ...\n",
       "Attributes:\n",
       "    units:    kg</pre>"
      ],
      "text/plain": [
       "<xarray.DataArray 'mass_oil' (trajectory: 2958, time: 73)>\n",
       "[215934 values with dtype=float32]\n",
       "Coordinates:\n",
       "  * trajectory  (trajectory) int32 1 2 3 4 5 6 ... 2953 2954 2955 2956 2957 2958\n",
       "  * time        (time) datetime64[ns] 2018-01-14T22:20:00 ... 2018-01-17T22:20:00\n",
       "    lon         (trajectory, time) float32 ...\n",
       "    lat         (trajectory, time) float32 ...\n",
       "Attributes:\n",
       "    units:    kg"
      ]
     },
     "execution_count": 12,
     "metadata": {},
     "output_type": "execute_result"
    }
   ],
   "source": [
    "ds_xr['mass_oil']"
   ]
  },
  {
   "cell_type": "markdown",
   "metadata": {},
   "source": [
    "## 获取`mass_oil`的`DataArray`  \n",
    "如下可知：\n",
    "    `mass_oil`有2958个值，该物理量有两个维度，分别为`trajectory`,`time`"
   ]
  },
  {
   "cell_type": "code",
   "execution_count": 17,
   "metadata": {},
   "outputs": [
    {
     "data": {
      "text/html": [
       "<pre>&lt;xarray.DataArray &#x27;mass_oil&#x27; (trajectory: 2958, time: 73)&gt;\n",
       "[215934 values with dtype=float32]\n",
       "Coordinates:\n",
       "  * trajectory  (trajectory) int32 1 2 3 4 5 6 ... 2953 2954 2955 2956 2957 2958\n",
       "  * time        (time) datetime64[ns] 2018-01-14T22:20:00 ... 2018-01-17T22:20:00\n",
       "    lon         (trajectory, time) float32 ...\n",
       "    lat         (trajectory, time) float32 ...\n",
       "Attributes:\n",
       "    units:    kg</pre>"
      ],
      "text/plain": [
       "<xarray.DataArray 'mass_oil' (trajectory: 2958, time: 73)>\n",
       "[215934 values with dtype=float32]\n",
       "Coordinates:\n",
       "  * trajectory  (trajectory) int32 1 2 3 4 5 6 ... 2953 2954 2955 2956 2957 2958\n",
       "  * time        (time) datetime64[ns] 2018-01-14T22:20:00 ... 2018-01-17T22:20:00\n",
       "    lon         (trajectory, time) float32 ...\n",
       "    lat         (trajectory, time) float32 ...\n",
       "Attributes:\n",
       "    units:    kg"
      ]
     },
     "execution_count": 17,
     "metadata": {},
     "output_type": "execute_result"
    }
   ],
   "source": [
    "ds_xr['mass_oil']"
   ]
  },
  {
   "cell_type": "markdown",
   "metadata": {},
   "source": [
    "### 1- 尝试将xarray转为series"
   ]
  },
  {
   "cell_type": "code",
   "execution_count": 11,
   "metadata": {},
   "outputs": [
    {
     "data": {
      "text/plain": [
       "trajectory  time               \n",
       "1           2018-01-14 22:20:00    2.000000e+03\n",
       "            2018-01-14 23:20:00    1.624608e+03\n",
       "            2018-01-15 00:20:00    9.969210e+36\n",
       "            2018-01-15 01:20:00    9.969210e+36\n",
       "            2018-01-15 02:20:00    9.969210e+36\n",
       "            2018-01-15 03:20:00    9.969210e+36\n",
       "            2018-01-15 04:20:00    9.969210e+36\n",
       "            2018-01-15 05:20:00    9.969210e+36\n",
       "            2018-01-15 06:20:00    9.969210e+36\n",
       "            2018-01-15 07:20:00    9.969210e+36\n",
       "            2018-01-15 08:20:00    9.969210e+36\n",
       "            2018-01-15 09:20:00    9.969210e+36\n",
       "            2018-01-15 10:20:00    9.969210e+36\n",
       "            2018-01-15 11:20:00    9.969210e+36\n",
       "            2018-01-15 12:20:00    9.969210e+36\n",
       "            2018-01-15 13:20:00    9.969210e+36\n",
       "            2018-01-15 14:20:00    9.969210e+36\n",
       "            2018-01-15 15:20:00    9.969210e+36\n",
       "            2018-01-15 16:20:00    9.969210e+36\n",
       "            2018-01-15 17:20:00    9.969210e+36\n",
       "            2018-01-15 18:20:00    9.969210e+36\n",
       "            2018-01-15 19:20:00    9.969210e+36\n",
       "            2018-01-15 20:20:00    9.969210e+36\n",
       "            2018-01-15 21:20:00    9.969210e+36\n",
       "            2018-01-15 22:20:00    9.969210e+36\n",
       "            2018-01-15 23:20:00    9.969210e+36\n",
       "            2018-01-16 00:20:00    9.969210e+36\n",
       "            2018-01-16 01:20:00    9.969210e+36\n",
       "            2018-01-16 02:20:00    9.969210e+36\n",
       "            2018-01-16 03:20:00    9.969210e+36\n",
       "                                       ...     \n",
       "2958        2018-01-16 17:20:00    9.969210e+36\n",
       "            2018-01-16 18:20:00    9.969210e+36\n",
       "            2018-01-16 19:20:00    9.969210e+36\n",
       "            2018-01-16 20:20:00    9.969210e+36\n",
       "            2018-01-16 21:20:00    9.969210e+36\n",
       "            2018-01-16 22:20:00    9.969210e+36\n",
       "            2018-01-16 23:20:00    9.969210e+36\n",
       "            2018-01-17 00:20:00    9.969210e+36\n",
       "            2018-01-17 01:20:00    9.969210e+36\n",
       "            2018-01-17 02:20:00    9.969210e+36\n",
       "            2018-01-17 03:20:00    9.969210e+36\n",
       "            2018-01-17 04:20:00    9.969210e+36\n",
       "            2018-01-17 05:20:00    9.969210e+36\n",
       "            2018-01-17 06:20:00    9.969210e+36\n",
       "            2018-01-17 07:20:00    9.969210e+36\n",
       "            2018-01-17 08:20:00    9.969210e+36\n",
       "            2018-01-17 09:20:00    9.969210e+36\n",
       "            2018-01-17 10:20:00    9.969210e+36\n",
       "            2018-01-17 11:20:00    9.969210e+36\n",
       "            2018-01-17 12:20:00    9.969210e+36\n",
       "            2018-01-17 13:20:00    9.969210e+36\n",
       "            2018-01-17 14:20:00    9.969210e+36\n",
       "            2018-01-17 15:20:00    9.969210e+36\n",
       "            2018-01-17 16:20:00    9.969210e+36\n",
       "            2018-01-17 17:20:00    9.969210e+36\n",
       "            2018-01-17 18:20:00    9.969210e+36\n",
       "            2018-01-17 19:20:00    9.969210e+36\n",
       "            2018-01-17 20:20:00    9.969210e+36\n",
       "            2018-01-17 21:20:00    9.969210e+36\n",
       "            2018-01-17 22:20:00    1.842723e+03\n",
       "Name: mass_oil, Length: 215934, dtype: float32"
      ]
     },
     "execution_count": 11,
     "metadata": {},
     "output_type": "execute_result"
    }
   ],
   "source": [
    "ds_xr['mass_oil'].to_series()"
   ]
  },
  {
   "cell_type": "code",
   "execution_count": 12,
   "metadata": {},
   "outputs": [
    {
     "data": {
      "text/plain": [
       "Frozen({'trajectory': 2958})"
      ]
     },
     "execution_count": 12,
     "metadata": {},
     "output_type": "execute_result"
    }
   ],
   "source": [
    "# 查看指定的val的长度\n",
    "ds_xr.isel(time=0)['mass_oil'].sizes"
   ]
  },
  {
   "cell_type": "markdown",
   "metadata": {},
   "source": [
    "## 2 剔除掉nan的数据，只获取有效数据"
   ]
  },
  {
   "cell_type": "markdown",
   "metadata": {},
   "source": [
    "#### 查看不同时刻的\n",
    "并通过`where`剔除掉大于`max`以及`nan`的值  \n",
    "使用xarray的dropna方法，注意与pandas中的方法有所区别"
   ]
  },
  {
   "cell_type": "markdown",
   "metadata": {},
   "source": [
    "提示错误：\n",
    "`ValueError: any must be a single dataset dimension`  \n",
    "查看文档后发现`xarray.Dataset.dropna`尚不支持同时沿多个维度放置  \n",
    "\n",
    "[参考](http://xarray.pydata.org/en/stable/generated/xarray.Dataset.dropna.html)  \n",
    "\n",
    "考虑将xarray转换为dateframe，然后再清洗？  \n",
    "[上网参考](https://stackoverflow.com/questions/52553925/python-xarray-remove-coordinates-with-all-missing-variables)\n",
    "比较好的解决办法是：\n",
    "1. 将`DataSet`->`DataFrame`\n",
    "2. 在`DataFrame`中通过`pandas` `dropna` 即可"
   ]
  },
  {
   "cell_type": "code",
   "execution_count": 23,
   "metadata": {},
   "outputs": [
    {
     "data": {
      "text/html": [
       "<pre>&lt;xarray.DataArray &#x27;mass_oil&#x27; (trajectory: 2958)&gt;\n",
       "array([1.624608e+03, 1.547655e+03, 1.677850e+03, ..., 9.969210e+36,\n",
       "       9.969210e+36, 9.969210e+36], dtype=float32)\n",
       "Coordinates:\n",
       "  * trajectory  (trajectory) int32 1 2 3 4 5 6 ... 2953 2954 2955 2956 2957 2958\n",
       "    time        datetime64[ns] 2018-01-14T23:20:00\n",
       "    lon         (trajectory) float32 ...\n",
       "    lat         (trajectory) float32 ...\n",
       "Attributes:\n",
       "    units:    kg</pre>"
      ],
      "text/plain": [
       "<xarray.DataArray 'mass_oil' (trajectory: 2958)>\n",
       "array([1.624608e+03, 1.547655e+03, 1.677850e+03, ..., 9.969210e+36,\n",
       "       9.969210e+36, 9.969210e+36], dtype=float32)\n",
       "Coordinates:\n",
       "  * trajectory  (trajectory) int32 1 2 3 4 5 6 ... 2953 2954 2955 2956 2957 2958\n",
       "    time        datetime64[ns] 2018-01-14T23:20:00\n",
       "    lon         (trajectory) float32 ...\n",
       "    lat         (trajectory) float32 ...\n",
       "Attributes:\n",
       "    units:    kg"
      ]
     },
     "execution_count": 23,
     "metadata": {},
     "output_type": "execute_result"
    }
   ],
   "source": [
    "xr_temp=ds_xr.isel(time=1)['mass_oil']\n",
    "xr_temp"
   ]
  },
  {
   "cell_type": "code",
   "execution_count": 34,
   "metadata": {},
   "outputs": [],
   "source": [
    "#xr_temp.where(xr_temp<=2000).dropna(dim='any')"
   ]
  },
  {
   "cell_type": "code",
   "execution_count": 37,
   "metadata": {
    "scrolled": true
   },
   "outputs": [
    {
     "data": {
      "text/html": [
       "<div>\n",
       "<style scoped>\n",
       "    .dataframe tbody tr th:only-of-type {\n",
       "        vertical-align: middle;\n",
       "    }\n",
       "\n",
       "    .dataframe tbody tr th {\n",
       "        vertical-align: top;\n",
       "    }\n",
       "\n",
       "    .dataframe thead th {\n",
       "        text-align: right;\n",
       "    }\n",
       "</style>\n",
       "<table border=\"1\" class=\"dataframe\">\n",
       "  <thead>\n",
       "    <tr style=\"text-align: right;\">\n",
       "      <th></th>\n",
       "      <th>time</th>\n",
       "      <th>lon</th>\n",
       "      <th>lat</th>\n",
       "      <th>mass_oil</th>\n",
       "    </tr>\n",
       "    <tr>\n",
       "      <th>trajectory</th>\n",
       "      <th></th>\n",
       "      <th></th>\n",
       "      <th></th>\n",
       "      <th></th>\n",
       "    </tr>\n",
       "  </thead>\n",
       "  <tbody>\n",
       "    <tr>\n",
       "      <th>1</th>\n",
       "      <td>2018-01-14 23:20:00</td>\n",
       "      <td>125.912216</td>\n",
       "      <td>28.369555</td>\n",
       "      <td>1624.607544</td>\n",
       "    </tr>\n",
       "    <tr>\n",
       "      <th>2</th>\n",
       "      <td>2018-01-14 23:20:00</td>\n",
       "      <td>125.926674</td>\n",
       "      <td>28.373537</td>\n",
       "      <td>1547.655151</td>\n",
       "    </tr>\n",
       "    <tr>\n",
       "      <th>3</th>\n",
       "      <td>2018-01-14 23:20:00</td>\n",
       "      <td>125.915215</td>\n",
       "      <td>28.382929</td>\n",
       "      <td>1677.850220</td>\n",
       "    </tr>\n",
       "    <tr>\n",
       "      <th>4</th>\n",
       "      <td>2018-01-14 23:20:00</td>\n",
       "      <td>125.928246</td>\n",
       "      <td>28.359102</td>\n",
       "      <td>1556.745605</td>\n",
       "    </tr>\n",
       "    <tr>\n",
       "      <th>5</th>\n",
       "      <td>2018-01-14 23:20:00</td>\n",
       "      <td>125.900192</td>\n",
       "      <td>28.385672</td>\n",
       "      <td>1530.578369</td>\n",
       "    </tr>\n",
       "  </tbody>\n",
       "</table>\n",
       "</div>"
      ],
      "text/plain": [
       "                          time         lon        lat     mass_oil\n",
       "trajectory                                                        \n",
       "1          2018-01-14 23:20:00  125.912216  28.369555  1624.607544\n",
       "2          2018-01-14 23:20:00  125.926674  28.373537  1547.655151\n",
       "3          2018-01-14 23:20:00  125.915215  28.382929  1677.850220\n",
       "4          2018-01-14 23:20:00  125.928246  28.359102  1556.745605\n",
       "5          2018-01-14 23:20:00  125.900192  28.385672  1530.578369"
      ]
     },
     "execution_count": 37,
     "metadata": {},
     "output_type": "execute_result"
    }
   ],
   "source": [
    "# 将xarray转成df\n",
    "xr_temp.where(xr_temp<2000).to_dataframe().head()"
   ]
  },
  {
   "cell_type": "markdown",
   "metadata": {},
   "source": [
    "* 这么看此种方式比较可行"
   ]
  },
  {
   "cell_type": "code",
   "execution_count": 44,
   "metadata": {},
   "outputs": [],
   "source": [
    "xr_final=xr_temp.where(xr_temp<2000).to_dataframe().dropna(how='any')"
   ]
  },
  {
   "cell_type": "code",
   "execution_count": 48,
   "metadata": {},
   "outputs": [
    {
     "data": {
      "text/html": [
       "<div>\n",
       "<style scoped>\n",
       "    .dataframe tbody tr th:only-of-type {\n",
       "        vertical-align: middle;\n",
       "    }\n",
       "\n",
       "    .dataframe tbody tr th {\n",
       "        vertical-align: top;\n",
       "    }\n",
       "\n",
       "    .dataframe thead th {\n",
       "        text-align: right;\n",
       "    }\n",
       "</style>\n",
       "<table border=\"1\" class=\"dataframe\">\n",
       "  <thead>\n",
       "    <tr style=\"text-align: right;\">\n",
       "      <th></th>\n",
       "      <th>time</th>\n",
       "      <th>lon</th>\n",
       "      <th>lat</th>\n",
       "      <th>mass_oil</th>\n",
       "    </tr>\n",
       "    <tr>\n",
       "      <th>trajectory</th>\n",
       "      <th></th>\n",
       "      <th></th>\n",
       "      <th></th>\n",
       "      <th></th>\n",
       "    </tr>\n",
       "  </thead>\n",
       "  <tbody>\n",
       "    <tr>\n",
       "      <th>1</th>\n",
       "      <td>2018-01-14 23:20:00</td>\n",
       "      <td>125.912216</td>\n",
       "      <td>28.369555</td>\n",
       "      <td>1624.607544</td>\n",
       "    </tr>\n",
       "    <tr>\n",
       "      <th>2</th>\n",
       "      <td>2018-01-14 23:20:00</td>\n",
       "      <td>125.926674</td>\n",
       "      <td>28.373537</td>\n",
       "      <td>1547.655151</td>\n",
       "    </tr>\n",
       "    <tr>\n",
       "      <th>3</th>\n",
       "      <td>2018-01-14 23:20:00</td>\n",
       "      <td>125.915215</td>\n",
       "      <td>28.382929</td>\n",
       "      <td>1677.850220</td>\n",
       "    </tr>\n",
       "    <tr>\n",
       "      <th>4</th>\n",
       "      <td>2018-01-14 23:20:00</td>\n",
       "      <td>125.928246</td>\n",
       "      <td>28.359102</td>\n",
       "      <td>1556.745605</td>\n",
       "    </tr>\n",
       "    <tr>\n",
       "      <th>5</th>\n",
       "      <td>2018-01-14 23:20:00</td>\n",
       "      <td>125.900192</td>\n",
       "      <td>28.385672</td>\n",
       "      <td>1530.578369</td>\n",
       "    </tr>\n",
       "  </tbody>\n",
       "</table>\n",
       "</div>"
      ],
      "text/plain": [
       "                          time         lon        lat     mass_oil\n",
       "trajectory                                                        \n",
       "1          2018-01-14 23:20:00  125.912216  28.369555  1624.607544\n",
       "2          2018-01-14 23:20:00  125.926674  28.373537  1547.655151\n",
       "3          2018-01-14 23:20:00  125.915215  28.382929  1677.850220\n",
       "4          2018-01-14 23:20:00  125.928246  28.359102  1556.745605\n",
       "5          2018-01-14 23:20:00  125.900192  28.385672  1530.578369"
      ]
     },
     "execution_count": 48,
     "metadata": {},
     "output_type": "execute_result"
    }
   ],
   "source": [
    "xr_final.head()"
   ]
  },
  {
   "cell_type": "code",
   "execution_count": null,
   "metadata": {},
   "outputs": [],
   "source": []
  }
 ],
 "metadata": {
  "kernelspec": {
   "display_name": "Python 3",
   "language": "python",
   "name": "python3"
  },
  "language_info": {
   "codemirror_mode": {
    "name": "ipython",
    "version": 3
   },
   "file_extension": ".py",
   "mimetype": "text/x-python",
   "name": "python",
   "nbconvert_exporter": "python",
   "pygments_lexer": "ipython3",
   "version": "3.7.3"
  }
 },
 "nbformat": 4,
 "nbformat_minor": 2
}
