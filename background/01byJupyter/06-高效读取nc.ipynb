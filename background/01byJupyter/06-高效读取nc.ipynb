{
 "cells": [
  {
   "cell_type": "code",
   "execution_count": 1,
   "metadata": {},
   "outputs": [],
   "source": [
    "import numpy as np\n",
    "import netCDF4 as nc\n",
    "import pandas as pd\n",
    "import numpy.ma as ma"
   ]
  },
  {
   "cell_type": "code",
   "execution_count": 2,
   "metadata": {},
   "outputs": [],
   "source": [
    "file_path='./data/sanjioil.nc'"
   ]
  },
  {
   "cell_type": "code",
   "execution_count": 3,
   "metadata": {},
   "outputs": [],
   "source": [
    "ds=nc.Dataset(file_path)"
   ]
  },
  {
   "cell_type": "code",
   "execution_count": 4,
   "metadata": {},
   "outputs": [
    {
     "data": {
      "text/plain": [
       "<class 'netCDF4._netCDF4.Dataset'>\n",
       "root group (NETCDF4 data model, file format HDF5):\n",
       "    Conventions: CF-1.6\n",
       "    standard_name_vocabulary: CF-1.6\n",
       "    featureType: trajectory\n",
       "    history: Created 2019-08-01 11:42:45.072000\n",
       "    source: Output from simulation with OpenDrift\n",
       "    model_url: https://github.com/OpenDrift/opendrift\n",
       "    opendrift_class: OpenOil\n",
       "    opendrift_module: opendrift.models.openoil\n",
       "    readers: ['E:\\\\project\\\\oilspill_rescue\\\\curr_wind\\\\curr0_test.nc', 'E:\\\\project\\\\oilspill_rescue\\\\curr_wind\\\\wind0_test.nc', 'basemap_landmask']\n",
       "    time_coverage_start: 2018-01-14 22:20:00\n",
       "    time_step_calculation: 0:30:00\n",
       "    time_step_output: 1:00:00\n",
       "    config_seed:oil_type: MEDIUM (brage)\n",
       "    config_seed:ocean_only: True\n",
       "    config_general:use_basemap_landmask: True\n",
       "    config_general:basemap_resolution: h\n",
       "    config_general:coastline_action: stranding\n",
       "    config_general:time_step_minutes: 60\n",
       "    config_general:time_step_output_minutes: None\n",
       "    config_drift:max_age_seconds: None\n",
       "    config_drift:scheme: runge-kutta\n",
       "    config_drift:stokes_drift: True\n",
       "    config_drift:current_uncertainty: 0.5\n",
       "    config_drift:current_uncertainty_uniform: 0.0\n",
       "    config_drift:wind_uncertainty: 1\n",
       "    config_drift:relative_wind: False\n",
       "    config_drift:lift_to_seafloor: True\n",
       "    config_drift:deactivate_north_of: None\n",
       "    config_drift:deactivate_south_of: None\n",
       "    config_drift:deactivate_east_of: None\n",
       "    config_drift:deactivate_west_of: None\n",
       "    config_drift:use_tabularised_stokes_drift: False\n",
       "    config_drift:tabularised_stokes_drift_fetch: 25000\n",
       "    config_processes:dispersion: True\n",
       "    config_processes:evaporation: True\n",
       "    config_processes:emulsification: True\n",
       "    config_processes:update_oilfilm_thickness: False\n",
       "    opendrift_version: 1.0.6\n",
       "    time_coverage_end: 2018-01-17 22:20:00\n",
       "    geospatial_lat_min: 0.0\n",
       "    geospatial_lat_max: 0.0\n",
       "    geospatial_lat_units: degrees_north\n",
       "    geospatial_lat_resolution: point\n",
       "    geospatial_lon_min: 0.0\n",
       "    geospatial_lon_max: 0.0\n",
       "    geospatial_lon_units: degrees_east\n",
       "    geospatial_lon_resolution: point\n",
       "    runtime: 0:00:14.547000\n",
       "    dimensions(sizes): trajectory(2958), time(73)\n",
       "    variables(dimensions): int32 trajectory(trajectory), float64 time(time), float32 age_seconds(trajectory,time), float32 interfacial_area(trajectory,time), float32 mass_evaporated(trajectory,time), float32 water_fraction(trajectory,time), float32 y_wind(trajectory,time), float32 sea_ice_area_fraction(trajectory,time), float32 density(trajectory,time), float32 lon(trajectory,time), float32 oil_film_thickness(trajectory,time), float32 x_sea_water_velocity(trajectory,time), float32 bulltime(trajectory,time), float32 x_wind(trajectory,time), float32 age_emulsion_seconds(trajectory,time), float32 sea_surface_wave_stokes_drift_y_velocity(trajectory,time), int32 status(trajectory,time), float32 viscosity(trajectory,time), float32 sea_floor_depth_below_sea_level(trajectory,time), float32 lat(trajectory,time), float32 mass_dispersed(trajectory,time), float32 land_binary_mask(trajectory,time), float32 sea_surface_wave_significant_height(trajectory,time), float32 sea_water_temperature(trajectory,time), float32 mass_oil(trajectory,time), float32 age_exposure_seconds(trajectory,time), float32 sea_surface_wave_stokes_drift_x_velocity(trajectory,time), float32 y_sea_water_velocity(trajectory,time), float32 z(trajectory,time), float32 wind_drift_factor(trajectory,time), float32 fraction_evaporated(trajectory,time)\n",
       "    groups: "
      ]
     },
     "execution_count": 4,
     "metadata": {},
     "output_type": "execute_result"
    }
   ],
   "source": [
    "ds"
   ]
  },
  {
   "cell_type": "code",
   "execution_count": 6,
   "metadata": {},
   "outputs": [
    {
     "data": {
      "text/plain": [
       "dict_keys(['trajectory', 'time', 'age_seconds', 'interfacial_area', 'mass_evaporated', 'water_fraction', 'y_wind', 'sea_ice_area_fraction', 'density', 'lon', 'oil_film_thickness', 'x_sea_water_velocity', 'bulltime', 'x_wind', 'age_emulsion_seconds', 'sea_surface_wave_stokes_drift_y_velocity', 'status', 'viscosity', 'sea_floor_depth_below_sea_level', 'lat', 'mass_dispersed', 'land_binary_mask', 'sea_surface_wave_significant_height', 'sea_water_temperature', 'mass_oil', 'age_exposure_seconds', 'sea_surface_wave_stokes_drift_x_velocity', 'y_sea_water_velocity', 'z', 'wind_drift_factor', 'fraction_evaporated'])"
      ]
     },
     "execution_count": 6,
     "metadata": {},
     "output_type": "execute_result"
    }
   ],
   "source": [
    "ds.variables.keys()"
   ]
  },
  {
   "cell_type": "markdown",
   "metadata": {},
   "source": [
    "注意使用[:]的方式返回的是视图，而非数组，注意！  \n",
    "[参考](https://stackoverflow.com/questions/4370745/view-onto-a-numpy-array)"
   ]
  },
  {
   "cell_type": "code",
   "execution_count": 7,
   "metadata": {},
   "outputs": [
    {
     "data": {
      "text/plain": [
       "masked_array(\n",
       "  data=[[-5.44127893447876, -6.335221767425537, --, ..., --, --, --],\n",
       "        [-6.289512634277344, -7.076473712921143, -4.9082512855529785,\n",
       "         ..., -3.5429582595825195, -3.578788995742798,\n",
       "         -3.1711130142211914],\n",
       "        [-3.986665725708008, -5.01703405380249, --, ..., --, --, --],\n",
       "        ...,\n",
       "        [--, --, --, ..., --, --, -2.898705244064331],\n",
       "        [--, --, --, ..., --, --, -3.9861390590667725],\n",
       "        [--, --, --, ..., --, --, -1.0630155801773071]],\n",
       "  mask=[[False, False,  True, ...,  True,  True,  True],\n",
       "        [False, False, False, ..., False, False, False],\n",
       "        [False, False,  True, ...,  True,  True,  True],\n",
       "        ...,\n",
       "        [ True,  True,  True, ...,  True,  True, False],\n",
       "        [ True,  True,  True, ...,  True,  True, False],\n",
       "        [ True,  True,  True, ...,  True,  True, False]],\n",
       "  fill_value=9.96921e+36,\n",
       "  dtype=float32)"
      ]
     },
     "execution_count": 7,
     "metadata": {},
     "output_type": "execute_result"
    }
   ],
   "source": [
    "ds.variables['x_wind'][:]"
   ]
  },
  {
   "cell_type": "markdown",
   "metadata": {},
   "source": [
    "[参考](https://stackoverflow.com/questions/4370745/view-onto-a-numpy-array)"
   ]
  },
  {
   "cell_type": "code",
   "execution_count": null,
   "metadata": {},
   "outputs": [],
   "source": []
  }
 ],
 "metadata": {
  "kernelspec": {
   "display_name": "Python 3",
   "language": "python",
   "name": "python3"
  },
  "language_info": {
   "codemirror_mode": {
    "name": "ipython",
    "version": 3
   },
   "file_extension": ".py",
   "mimetype": "text/x-python",
   "name": "python",
   "nbconvert_exporter": "python",
   "pygments_lexer": "ipython3",
   "version": "3.7.3"
  }
 },
 "nbformat": 4,
 "nbformat_minor": 2
}
