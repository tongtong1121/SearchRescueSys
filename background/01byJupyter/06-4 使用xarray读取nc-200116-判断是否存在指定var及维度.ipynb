{
 "cells": [
  {
   "cell_type": "markdown",
   "metadata": {},
   "source": [
    "> 19-12-25 最后一次修改      \n",
    "## 读取+清洗nan"
   ]
  },
  {
   "cell_type": "code",
   "execution_count": 2,
   "metadata": {},
   "outputs": [],
   "source": [
    "import numpy as np\n",
    "import netCDF4 as nc\n",
    "import pandas as pd\n",
    "import numpy.ma as ma"
   ]
  },
  {
   "cell_type": "code",
   "execution_count": 3,
   "metadata": {},
   "outputs": [],
   "source": [
    "import matplotlib as mpl\n",
    "import matplotlib.pyplot as plt"
   ]
  },
  {
   "cell_type": "code",
   "execution_count": 4,
   "metadata": {},
   "outputs": [
    {
     "name": "stderr",
     "output_type": "stream",
     "text": [
      "C:\\ProgramData\\Anaconda3\\lib\\site-packages\\dask\\config.py:168: YAMLLoadWarning: calling yaml.load() without Loader=... is deprecated, as the default Loader is unsafe. Please read https://msg.pyyaml.org/load for full details.\n",
      "  data = yaml.load(f.read()) or {}\n",
      "C:\\ProgramData\\Anaconda3\\lib\\site-packages\\distributed\\config.py:20: YAMLLoadWarning: calling yaml.load() without Loader=... is deprecated, as the default Loader is unsafe. Please read https://msg.pyyaml.org/load for full details.\n",
      "  defaults = yaml.load(f)\n"
     ]
    }
   ],
   "source": [
    "import xarray as xar"
   ]
  },
  {
   "cell_type": "code",
   "execution_count": 5,
   "metadata": {},
   "outputs": [],
   "source": [
    "file_path='./data/sanjioil.nc'"
   ]
  },
  {
   "cell_type": "code",
   "execution_count": 6,
   "metadata": {},
   "outputs": [],
   "source": [
    "ds=nc.Dataset(file_path)"
   ]
  },
  {
   "cell_type": "code",
   "execution_count": 7,
   "metadata": {},
   "outputs": [],
   "source": [
    "ds_xr=xar.open_dataset(file_path)"
   ]
  },
  {
   "cell_type": "code",
   "execution_count": 8,
   "metadata": {},
   "outputs": [
    {
     "data": {
      "text/plain": [
       "Frozen(SortedKeysDict({'trajectory': 2958, 'time': 73}))"
      ]
     },
     "execution_count": 8,
     "metadata": {},
     "output_type": "execute_result"
    }
   ],
   "source": [
    "ds_xr.dims"
   ]
  },
  {
   "cell_type": "code",
   "execution_count": 9,
   "metadata": {},
   "outputs": [
    {
     "data": {
      "text/plain": [
       "ValuesView(Frozen(SortedKeysDict({'trajectory': 2958, 'time': 73})))"
      ]
     },
     "execution_count": 9,
     "metadata": {},
     "output_type": "execute_result"
    }
   ],
   "source": [
    "ds_xr.dims.values()"
   ]
  },
  {
   "cell_type": "code",
   "execution_count": 10,
   "metadata": {},
   "outputs": [
    {
     "data": {
      "text/plain": [
       "Data variables:\n",
       "    age_seconds                               (trajectory, time) float32 ...\n",
       "    interfacial_area                          (trajectory, time) float32 ...\n",
       "    mass_evaporated                           (trajectory, time) float32 ...\n",
       "    water_fraction                            (trajectory, time) float32 ...\n",
       "    y_wind                                    (trajectory, time) float32 ...\n",
       "    sea_ice_area_fraction                     (trajectory, time) float32 ...\n",
       "    density                                   (trajectory, time) float32 ...\n",
       "    oil_film_thickness                        (trajectory, time) float32 ...\n",
       "    x_sea_water_velocity                      (trajectory, time) float32 ...\n",
       "    bulltime                                  (trajectory, time) float32 ...\n",
       "    x_wind                                    (trajectory, time) float32 ...\n",
       "    age_emulsion_seconds                      (trajectory, time) float32 ...\n",
       "    sea_surface_wave_stokes_drift_y_velocity  (trajectory, time) float32 ...\n",
       "    status                                    (trajectory, time) int32 ...\n",
       "    viscosity                                 (trajectory, time) float32 ...\n",
       "    sea_floor_depth_below_sea_level           (trajectory, time) float32 ...\n",
       "    mass_dispersed                            (trajectory, time) float32 ...\n",
       "    land_binary_mask                          (trajectory, time) float32 ...\n",
       "    sea_surface_wave_significant_height       (trajectory, time) float32 ...\n",
       "    sea_water_temperature                     (trajectory, time) float32 ...\n",
       "    mass_oil                                  (trajectory, time) float32 ...\n",
       "    age_exposure_seconds                      (trajectory, time) float32 ...\n",
       "    sea_surface_wave_stokes_drift_x_velocity  (trajectory, time) float32 ...\n",
       "    y_sea_water_velocity                      (trajectory, time) float32 ...\n",
       "    z                                         (trajectory, time) float32 ...\n",
       "    wind_drift_factor                         (trajectory, time) float32 ...\n",
       "    fraction_evaporated                       (trajectory, time) float32 ..."
      ]
     },
     "execution_count": 10,
     "metadata": {},
     "output_type": "execute_result"
    }
   ],
   "source": [
    "ds_xr.data_vars"
   ]
  },
  {
   "cell_type": "code",
   "execution_count": 11,
   "metadata": {},
   "outputs": [
    {
     "data": {
      "text/plain": [
       "KeysView(Data variables:\n",
       "    age_seconds                               (trajectory, time) float32 ...\n",
       "    interfacial_area                          (trajectory, time) float32 ...\n",
       "    mass_evaporated                           (trajectory, time) float32 ...\n",
       "    water_fraction                            (trajectory, time) float32 ...\n",
       "    y_wind                                    (trajectory, time) float32 ...\n",
       "    sea_ice_area_fraction                     (trajectory, time) float32 ...\n",
       "    density                                   (trajectory, time) float32 ...\n",
       "    oil_film_thickness                        (trajectory, time) float32 ...\n",
       "    x_sea_water_velocity                      (trajectory, time) float32 ...\n",
       "    bulltime                                  (trajectory, time) float32 ...\n",
       "    x_wind                                    (trajectory, time) float32 ...\n",
       "    age_emulsion_seconds                      (trajectory, time) float32 ...\n",
       "    sea_surface_wave_stokes_drift_y_velocity  (trajectory, time) float32 ...\n",
       "    status                                    (trajectory, time) int32 ...\n",
       "    viscosity                                 (trajectory, time) float32 ...\n",
       "    sea_floor_depth_below_sea_level           (trajectory, time) float32 ...\n",
       "    mass_dispersed                            (trajectory, time) float32 ...\n",
       "    land_binary_mask                          (trajectory, time) float32 ...\n",
       "    sea_surface_wave_significant_height       (trajectory, time) float32 ...\n",
       "    sea_water_temperature                     (trajectory, time) float32 ...\n",
       "    mass_oil                                  (trajectory, time) float32 ...\n",
       "    age_exposure_seconds                      (trajectory, time) float32 ...\n",
       "    sea_surface_wave_stokes_drift_x_velocity  (trajectory, time) float32 ...\n",
       "    y_sea_water_velocity                      (trajectory, time) float32 ...\n",
       "    z                                         (trajectory, time) float32 ...\n",
       "    wind_drift_factor                         (trajectory, time) float32 ...\n",
       "    fraction_evaporated                       (trajectory, time) float32 ...)"
      ]
     },
     "execution_count": 11,
     "metadata": {},
     "output_type": "execute_result"
    }
   ],
   "source": [
    "ds_xr.data_vars.keys()"
   ]
  },
  {
   "cell_type": "markdown",
   "metadata": {},
   "source": [
    "判断指定factor是否在变量中"
   ]
  },
  {
   "cell_type": "code",
   "execution_count": 13,
   "metadata": {},
   "outputs": [
    {
     "data": {
      "text/plain": [
       "False"
      ]
     },
     "execution_count": 13,
     "metadata": {},
     "output_type": "execute_result"
    }
   ],
   "source": [
    "'y_wind_x' in ds_xr.data_vars.keys()"
   ]
  },
  {
   "cell_type": "markdown",
   "metadata": {},
   "source": [
    "判断指定dim是否在维度中"
   ]
  },
  {
   "cell_type": "code",
   "execution_count": 14,
   "metadata": {},
   "outputs": [
    {
     "data": {
      "text/plain": [
       "Coordinates:\n",
       "  * trajectory  (trajectory) int32 1 2 3 4 5 6 ... 2953 2954 2955 2956 2957 2958\n",
       "  * time        (time) datetime64[ns] 2018-01-14T22:20:00 ... 2018-01-17T22:20:00\n",
       "    lon         (trajectory, time) float32 ...\n",
       "    lat         (trajectory, time) float32 ..."
      ]
     },
     "execution_count": 14,
     "metadata": {},
     "output_type": "execute_result"
    }
   ],
   "source": [
    "ds_xr.coords"
   ]
  },
  {
   "cell_type": "code",
   "execution_count": 16,
   "metadata": {},
   "outputs": [
    {
     "data": {
      "text/html": [
       "<pre>&lt;xarray.DataArray &#x27;time&#x27; (time: 73)&gt;\n",
       "array([&#x27;2018-01-14T22:20:00.000000000&#x27;, &#x27;2018-01-14T23:20:00.000000000&#x27;,\n",
       "       &#x27;2018-01-15T00:20:00.000000000&#x27;, &#x27;2018-01-15T01:20:00.000000000&#x27;,\n",
       "       &#x27;2018-01-15T02:20:00.000000000&#x27;, &#x27;2018-01-15T03:20:00.000000000&#x27;,\n",
       "       &#x27;2018-01-15T04:20:00.000000000&#x27;, &#x27;2018-01-15T05:20:00.000000000&#x27;,\n",
       "       &#x27;2018-01-15T06:20:00.000000000&#x27;, &#x27;2018-01-15T07:20:00.000000000&#x27;,\n",
       "       &#x27;2018-01-15T08:20:00.000000000&#x27;, &#x27;2018-01-15T09:20:00.000000000&#x27;,\n",
       "       &#x27;2018-01-15T10:20:00.000000000&#x27;, &#x27;2018-01-15T11:20:00.000000000&#x27;,\n",
       "       &#x27;2018-01-15T12:20:00.000000000&#x27;, &#x27;2018-01-15T13:20:00.000000000&#x27;,\n",
       "       &#x27;2018-01-15T14:20:00.000000000&#x27;, &#x27;2018-01-15T15:20:00.000000000&#x27;,\n",
       "       &#x27;2018-01-15T16:20:00.000000000&#x27;, &#x27;2018-01-15T17:20:00.000000000&#x27;,\n",
       "       &#x27;2018-01-15T18:20:00.000000000&#x27;, &#x27;2018-01-15T19:20:00.000000000&#x27;,\n",
       "       &#x27;2018-01-15T20:20:00.000000000&#x27;, &#x27;2018-01-15T21:20:00.000000000&#x27;,\n",
       "       &#x27;2018-01-15T22:20:00.000000000&#x27;, &#x27;2018-01-15T23:20:00.000000000&#x27;,\n",
       "       &#x27;2018-01-16T00:20:00.000000000&#x27;, &#x27;2018-01-16T01:20:00.000000000&#x27;,\n",
       "       &#x27;2018-01-16T02:20:00.000000000&#x27;, &#x27;2018-01-16T03:20:00.000000000&#x27;,\n",
       "       &#x27;2018-01-16T04:20:00.000000000&#x27;, &#x27;2018-01-16T05:20:00.000000000&#x27;,\n",
       "       &#x27;2018-01-16T06:20:00.000000000&#x27;, &#x27;2018-01-16T07:20:00.000000000&#x27;,\n",
       "       &#x27;2018-01-16T08:20:00.000000000&#x27;, &#x27;2018-01-16T09:20:00.000000000&#x27;,\n",
       "       &#x27;2018-01-16T10:20:00.000000000&#x27;, &#x27;2018-01-16T11:20:00.000000000&#x27;,\n",
       "       &#x27;2018-01-16T12:20:00.000000000&#x27;, &#x27;2018-01-16T13:20:00.000000000&#x27;,\n",
       "       &#x27;2018-01-16T14:20:00.000000000&#x27;, &#x27;2018-01-16T15:20:00.000000000&#x27;,\n",
       "       &#x27;2018-01-16T16:20:00.000000000&#x27;, &#x27;2018-01-16T17:20:00.000000000&#x27;,\n",
       "       &#x27;2018-01-16T18:20:00.000000000&#x27;, &#x27;2018-01-16T19:20:00.000000000&#x27;,\n",
       "       &#x27;2018-01-16T20:20:00.000000000&#x27;, &#x27;2018-01-16T21:20:00.000000000&#x27;,\n",
       "       &#x27;2018-01-16T22:20:00.000000000&#x27;, &#x27;2018-01-16T23:20:00.000000000&#x27;,\n",
       "       &#x27;2018-01-17T00:20:00.000000000&#x27;, &#x27;2018-01-17T01:20:00.000000000&#x27;,\n",
       "       &#x27;2018-01-17T02:20:00.000000000&#x27;, &#x27;2018-01-17T03:20:00.000000000&#x27;,\n",
       "       &#x27;2018-01-17T04:20:00.000000000&#x27;, &#x27;2018-01-17T05:20:00.000000000&#x27;,\n",
       "       &#x27;2018-01-17T06:20:00.000000000&#x27;, &#x27;2018-01-17T07:20:00.000000000&#x27;,\n",
       "       &#x27;2018-01-17T08:20:00.000000000&#x27;, &#x27;2018-01-17T09:20:00.000000000&#x27;,\n",
       "       &#x27;2018-01-17T10:20:00.000000000&#x27;, &#x27;2018-01-17T11:20:00.000000000&#x27;,\n",
       "       &#x27;2018-01-17T12:20:00.000000000&#x27;, &#x27;2018-01-17T13:20:00.000000000&#x27;,\n",
       "       &#x27;2018-01-17T14:20:00.000000000&#x27;, &#x27;2018-01-17T15:20:00.000000000&#x27;,\n",
       "       &#x27;2018-01-17T16:20:00.000000000&#x27;, &#x27;2018-01-17T17:20:00.000000000&#x27;,\n",
       "       &#x27;2018-01-17T18:20:00.000000000&#x27;, &#x27;2018-01-17T19:20:00.000000000&#x27;,\n",
       "       &#x27;2018-01-17T20:20:00.000000000&#x27;, &#x27;2018-01-17T21:20:00.000000000&#x27;,\n",
       "       &#x27;2018-01-17T22:20:00.000000000&#x27;], dtype=&#x27;datetime64[ns]&#x27;)\n",
       "Coordinates:\n",
       "  * time     (time) datetime64[ns] 2018-01-14T22:20:00 ... 2018-01-17T22:20:00\n",
       "Attributes:\n",
       "    standard_name:  time\n",
       "    long_name:      time</pre>"
      ],
      "text/plain": [
       "<xarray.DataArray 'time' (time: 73)>\n",
       "array(['2018-01-14T22:20:00.000000000', '2018-01-14T23:20:00.000000000',\n",
       "       '2018-01-15T00:20:00.000000000', '2018-01-15T01:20:00.000000000',\n",
       "       '2018-01-15T02:20:00.000000000', '2018-01-15T03:20:00.000000000',\n",
       "       '2018-01-15T04:20:00.000000000', '2018-01-15T05:20:00.000000000',\n",
       "       '2018-01-15T06:20:00.000000000', '2018-01-15T07:20:00.000000000',\n",
       "       '2018-01-15T08:20:00.000000000', '2018-01-15T09:20:00.000000000',\n",
       "       '2018-01-15T10:20:00.000000000', '2018-01-15T11:20:00.000000000',\n",
       "       '2018-01-15T12:20:00.000000000', '2018-01-15T13:20:00.000000000',\n",
       "       '2018-01-15T14:20:00.000000000', '2018-01-15T15:20:00.000000000',\n",
       "       '2018-01-15T16:20:00.000000000', '2018-01-15T17:20:00.000000000',\n",
       "       '2018-01-15T18:20:00.000000000', '2018-01-15T19:20:00.000000000',\n",
       "       '2018-01-15T20:20:00.000000000', '2018-01-15T21:20:00.000000000',\n",
       "       '2018-01-15T22:20:00.000000000', '2018-01-15T23:20:00.000000000',\n",
       "       '2018-01-16T00:20:00.000000000', '2018-01-16T01:20:00.000000000',\n",
       "       '2018-01-16T02:20:00.000000000', '2018-01-16T03:20:00.000000000',\n",
       "       '2018-01-16T04:20:00.000000000', '2018-01-16T05:20:00.000000000',\n",
       "       '2018-01-16T06:20:00.000000000', '2018-01-16T07:20:00.000000000',\n",
       "       '2018-01-16T08:20:00.000000000', '2018-01-16T09:20:00.000000000',\n",
       "       '2018-01-16T10:20:00.000000000', '2018-01-16T11:20:00.000000000',\n",
       "       '2018-01-16T12:20:00.000000000', '2018-01-16T13:20:00.000000000',\n",
       "       '2018-01-16T14:20:00.000000000', '2018-01-16T15:20:00.000000000',\n",
       "       '2018-01-16T16:20:00.000000000', '2018-01-16T17:20:00.000000000',\n",
       "       '2018-01-16T18:20:00.000000000', '2018-01-16T19:20:00.000000000',\n",
       "       '2018-01-16T20:20:00.000000000', '2018-01-16T21:20:00.000000000',\n",
       "       '2018-01-16T22:20:00.000000000', '2018-01-16T23:20:00.000000000',\n",
       "       '2018-01-17T00:20:00.000000000', '2018-01-17T01:20:00.000000000',\n",
       "       '2018-01-17T02:20:00.000000000', '2018-01-17T03:20:00.000000000',\n",
       "       '2018-01-17T04:20:00.000000000', '2018-01-17T05:20:00.000000000',\n",
       "       '2018-01-17T06:20:00.000000000', '2018-01-17T07:20:00.000000000',\n",
       "       '2018-01-17T08:20:00.000000000', '2018-01-17T09:20:00.000000000',\n",
       "       '2018-01-17T10:20:00.000000000', '2018-01-17T11:20:00.000000000',\n",
       "       '2018-01-17T12:20:00.000000000', '2018-01-17T13:20:00.000000000',\n",
       "       '2018-01-17T14:20:00.000000000', '2018-01-17T15:20:00.000000000',\n",
       "       '2018-01-17T16:20:00.000000000', '2018-01-17T17:20:00.000000000',\n",
       "       '2018-01-17T18:20:00.000000000', '2018-01-17T19:20:00.000000000',\n",
       "       '2018-01-17T20:20:00.000000000', '2018-01-17T21:20:00.000000000',\n",
       "       '2018-01-17T22:20:00.000000000'], dtype='datetime64[ns]')\n",
       "Coordinates:\n",
       "  * time     (time) datetime64[ns] 2018-01-14T22:20:00 ... 2018-01-17T22:20:00\n",
       "Attributes:\n",
       "    standard_name:  time\n",
       "    long_name:      time"
      ]
     },
     "execution_count": 16,
     "metadata": {},
     "output_type": "execute_result"
    }
   ],
   "source": [
    "ds_xr.coords['time']"
   ]
  },
  {
   "cell_type": "code",
   "execution_count": 15,
   "metadata": {},
   "outputs": [
    {
     "data": {
      "text/plain": [
       "Frozen(SortedKeysDict({'trajectory': 2958, 'time': 73}))"
      ]
     },
     "execution_count": 15,
     "metadata": {},
     "output_type": "execute_result"
    }
   ],
   "source": [
    "ds_xr.dims"
   ]
  },
  {
   "cell_type": "markdown",
   "metadata": {},
   "source": [
    "获取所有的维度  \n",
    "* 注意获取维度时，不可以使用下标进行索引，会报错"
   ]
  }
 ],
 "metadata": {
  "kernelspec": {
   "display_name": "Python 3",
   "language": "python",
   "name": "python3"
  },
  "language_info": {
   "codemirror_mode": {
    "name": "ipython",
    "version": 3
   },
   "file_extension": ".py",
   "mimetype": "text/x-python",
   "name": "python",
   "nbconvert_exporter": "python",
   "pygments_lexer": "ipython3",
   "version": "3.5.5"
  }
 },
 "nbformat": 4,
 "nbformat_minor": 2
}
