{
 "cells": [
  {
   "cell_type": "code",
   "execution_count": 1,
   "metadata": {},
   "outputs": [],
   "source": [
    "import numpy as np\n",
    "import netCDF4 as nc\n",
    "import pandas as pd\n",
    "import numpy.ma as ma"
   ]
  },
  {
   "cell_type": "code",
   "execution_count": 2,
   "metadata": {},
   "outputs": [],
   "source": [
    "import matplotlib as mpl\n",
    "import matplotlib.pyplot as plt"
   ]
  },
  {
   "cell_type": "code",
   "execution_count": 3,
   "metadata": {},
   "outputs": [
    {
     "name": "stderr",
     "output_type": "stream",
     "text": [
      "C:\\ProgramData\\Anaconda3\\lib\\site-packages\\dask\\config.py:168: YAMLLoadWarning: calling yaml.load() without Loader=... is deprecated, as the default Loader is unsafe. Please read https://msg.pyyaml.org/load for full details.\n",
      "  data = yaml.load(f.read()) or {}\n",
      "C:\\ProgramData\\Anaconda3\\lib\\site-packages\\distributed\\config.py:20: YAMLLoadWarning: calling yaml.load() without Loader=... is deprecated, as the default Loader is unsafe. Please read https://msg.pyyaml.org/load for full details.\n",
      "  defaults = yaml.load(f)\n"
     ]
    }
   ],
   "source": [
    "import xarray as xar"
   ]
  },
  {
   "cell_type": "code",
   "execution_count": 4,
   "metadata": {},
   "outputs": [],
   "source": [
    "file_path='./data/sanjioil.nc'"
   ]
  },
  {
   "cell_type": "code",
   "execution_count": 5,
   "metadata": {},
   "outputs": [],
   "source": [
    "ds=nc.Dataset(file_path)"
   ]
  },
  {
   "cell_type": "code",
   "execution_count": 6,
   "metadata": {},
   "outputs": [],
   "source": [
    "ds_xr=xar.open_dataset(file_path)"
   ]
  },
  {
   "cell_type": "code",
   "execution_count": 9,
   "metadata": {},
   "outputs": [
    {
     "data": {
      "text/html": [
       "<pre>&lt;xarray.Dataset&gt;\n",
       "Dimensions:                                   (time: 5, trajectory: 5)\n",
       "Coordinates:\n",
       "  * trajectory                                (trajectory) int32 1 2 3 4 5\n",
       "  * time                                      (time) datetime64[ns] 2018-01-14T22:20:00 ... 2018-01-15T02:20:00\n",
       "    lon                                       (trajectory, time) float32 ...\n",
       "    lat                                       (trajectory, time) float32 ...\n",
       "Data variables:\n",
       "    age_seconds                               (trajectory, time) float32 ...\n",
       "    interfacial_area                          (trajectory, time) float32 ...\n",
       "    mass_evaporated                           (trajectory, time) float32 ...\n",
       "    water_fraction                            (trajectory, time) float32 ...\n",
       "    y_wind                                    (trajectory, time) float32 ...\n",
       "    sea_ice_area_fraction                     (trajectory, time) float32 ...\n",
       "    density                                   (trajectory, time) float32 ...\n",
       "    oil_film_thickness                        (trajectory, time) float32 ...\n",
       "    x_sea_water_velocity                      (trajectory, time) float32 ...\n",
       "    bulltime                                  (trajectory, time) float32 ...\n",
       "    x_wind                                    (trajectory, time) float32 ...\n",
       "    age_emulsion_seconds                      (trajectory, time) float32 ...\n",
       "    sea_surface_wave_stokes_drift_y_velocity  (trajectory, time) float32 ...\n",
       "    status                                    (trajectory, time) int32 ...\n",
       "    viscosity                                 (trajectory, time) float32 ...\n",
       "    sea_floor_depth_below_sea_level           (trajectory, time) float32 ...\n",
       "    mass_dispersed                            (trajectory, time) float32 ...\n",
       "    land_binary_mask                          (trajectory, time) float32 ...\n",
       "    sea_surface_wave_significant_height       (trajectory, time) float32 ...\n",
       "    sea_water_temperature                     (trajectory, time) float32 ...\n",
       "    mass_oil                                  (trajectory, time) float32 ...\n",
       "    age_exposure_seconds                      (trajectory, time) float32 ...\n",
       "    sea_surface_wave_stokes_drift_x_velocity  (trajectory, time) float32 ...\n",
       "    y_sea_water_velocity                      (trajectory, time) float32 ...\n",
       "    z                                         (trajectory, time) float32 ...\n",
       "    wind_drift_factor                         (trajectory, time) float32 ...\n",
       "    fraction_evaporated                       (trajectory, time) float32 ...\n",
       "Attributes:\n",
       "    Conventions:                                  CF-1.6\n",
       "    standard_name_vocabulary:                     CF-1.6\n",
       "    featureType:                                  trajectory\n",
       "    history:                                      Created 2019-08-01 11:42:45...\n",
       "    source:                                       Output from simulation with...\n",
       "    model_url:                                    https://github.com/OpenDrif...\n",
       "    opendrift_class:                              OpenOil\n",
       "    opendrift_module:                             opendrift.models.openoil\n",
       "    readers:                                      [&#x27;E:\\\\project\\\\oilspill_res...\n",
       "    time_coverage_start:                          2018-01-14 22:20:00\n",
       "    time_step_calculation:                        0:30:00\n",
       "    time_step_output:                             1:00:00\n",
       "    config_seed:oil_type:                         MEDIUM (brage)\n",
       "    config_seed:ocean_only:                       True\n",
       "    config_general:use_basemap_landmask:          True\n",
       "    config_general:basemap_resolution:            h\n",
       "    config_general:coastline_action:              stranding\n",
       "    config_general:time_step_minutes:             60\n",
       "    config_general:time_step_output_minutes:      None\n",
       "    config_drift:max_age_seconds:                 None\n",
       "    config_drift:scheme:                          runge-kutta\n",
       "    config_drift:stokes_drift:                    True\n",
       "    config_drift:current_uncertainty:             0.5\n",
       "    config_drift:current_uncertainty_uniform:     0.0\n",
       "    config_drift:wind_uncertainty:                1\n",
       "    config_drift:relative_wind:                   False\n",
       "    config_drift:lift_to_seafloor:                True\n",
       "    config_drift:deactivate_north_of:             None\n",
       "    config_drift:deactivate_south_of:             None\n",
       "    config_drift:deactivate_east_of:              None\n",
       "    config_drift:deactivate_west_of:              None\n",
       "    config_drift:use_tabularised_stokes_drift:    False\n",
       "    config_drift:tabularised_stokes_drift_fetch:  25000\n",
       "    config_processes:dispersion:                  True\n",
       "    config_processes:evaporation:                 True\n",
       "    config_processes:emulsification:              True\n",
       "    config_processes:update_oilfilm_thickness:    False\n",
       "    opendrift_version:                            1.0.6\n",
       "    time_coverage_end:                            2018-01-17 22:20:00\n",
       "    geospatial_lat_min:                           0.0\n",
       "    geospatial_lat_max:                           0.0\n",
       "    geospatial_lat_units:                         degrees_north\n",
       "    geospatial_lat_resolution:                    point\n",
       "    geospatial_lon_min:                           0.0\n",
       "    geospatial_lon_max:                           0.0\n",
       "    geospatial_lon_units:                         degrees_east\n",
       "    geospatial_lon_resolution:                    point\n",
       "    runtime:                                      0:00:14.547000</pre>"
      ],
      "text/plain": [
       "<xarray.Dataset>\n",
       "Dimensions:                                   (time: 5, trajectory: 5)\n",
       "Coordinates:\n",
       "  * trajectory                                (trajectory) int32 1 2 3 4 5\n",
       "  * time                                      (time) datetime64[ns] 2018-01-14T22:20:00 ... 2018-01-15T02:20:00\n",
       "    lon                                       (trajectory, time) float32 ...\n",
       "    lat                                       (trajectory, time) float32 ...\n",
       "Data variables:\n",
       "    age_seconds                               (trajectory, time) float32 ...\n",
       "    interfacial_area                          (trajectory, time) float32 ...\n",
       "    mass_evaporated                           (trajectory, time) float32 ...\n",
       "    water_fraction                            (trajectory, time) float32 ...\n",
       "    y_wind                                    (trajectory, time) float32 ...\n",
       "    sea_ice_area_fraction                     (trajectory, time) float32 ...\n",
       "    density                                   (trajectory, time) float32 ...\n",
       "    oil_film_thickness                        (trajectory, time) float32 ...\n",
       "    x_sea_water_velocity                      (trajectory, time) float32 ...\n",
       "    bulltime                                  (trajectory, time) float32 ...\n",
       "    x_wind                                    (trajectory, time) float32 ...\n",
       "    age_emulsion_seconds                      (trajectory, time) float32 ...\n",
       "    sea_surface_wave_stokes_drift_y_velocity  (trajectory, time) float32 ...\n",
       "    status                                    (trajectory, time) int32 ...\n",
       "    viscosity                                 (trajectory, time) float32 ...\n",
       "    sea_floor_depth_below_sea_level           (trajectory, time) float32 ...\n",
       "    mass_dispersed                            (trajectory, time) float32 ...\n",
       "    land_binary_mask                          (trajectory, time) float32 ...\n",
       "    sea_surface_wave_significant_height       (trajectory, time) float32 ...\n",
       "    sea_water_temperature                     (trajectory, time) float32 ...\n",
       "    mass_oil                                  (trajectory, time) float32 ...\n",
       "    age_exposure_seconds                      (trajectory, time) float32 ...\n",
       "    sea_surface_wave_stokes_drift_x_velocity  (trajectory, time) float32 ...\n",
       "    y_sea_water_velocity                      (trajectory, time) float32 ...\n",
       "    z                                         (trajectory, time) float32 ...\n",
       "    wind_drift_factor                         (trajectory, time) float32 ...\n",
       "    fraction_evaporated                       (trajectory, time) float32 ...\n",
       "Attributes:\n",
       "    Conventions:                                  CF-1.6\n",
       "    standard_name_vocabulary:                     CF-1.6\n",
       "    featureType:                                  trajectory\n",
       "    history:                                      Created 2019-08-01 11:42:45...\n",
       "    source:                                       Output from simulation with...\n",
       "    model_url:                                    https://github.com/OpenDrif...\n",
       "    opendrift_class:                              OpenOil\n",
       "    opendrift_module:                             opendrift.models.openoil\n",
       "    readers:                                      ['E:\\\\project\\\\oilspill_res...\n",
       "    time_coverage_start:                          2018-01-14 22:20:00\n",
       "    time_step_calculation:                        0:30:00\n",
       "    time_step_output:                             1:00:00\n",
       "    config_seed:oil_type:                         MEDIUM (brage)\n",
       "    config_seed:ocean_only:                       True\n",
       "    config_general:use_basemap_landmask:          True\n",
       "    config_general:basemap_resolution:            h\n",
       "    config_general:coastline_action:              stranding\n",
       "    config_general:time_step_minutes:             60\n",
       "    config_general:time_step_output_minutes:      None\n",
       "    config_drift:max_age_seconds:                 None\n",
       "    config_drift:scheme:                          runge-kutta\n",
       "    config_drift:stokes_drift:                    True\n",
       "    config_drift:current_uncertainty:             0.5\n",
       "    config_drift:current_uncertainty_uniform:     0.0\n",
       "    config_drift:wind_uncertainty:                1\n",
       "    config_drift:relative_wind:                   False\n",
       "    config_drift:lift_to_seafloor:                True\n",
       "    config_drift:deactivate_north_of:             None\n",
       "    config_drift:deactivate_south_of:             None\n",
       "    config_drift:deactivate_east_of:              None\n",
       "    config_drift:deactivate_west_of:              None\n",
       "    config_drift:use_tabularised_stokes_drift:    False\n",
       "    config_drift:tabularised_stokes_drift_fetch:  25000\n",
       "    config_processes:dispersion:                  True\n",
       "    config_processes:evaporation:                 True\n",
       "    config_processes:emulsification:              True\n",
       "    config_processes:update_oilfilm_thickness:    False\n",
       "    opendrift_version:                            1.0.6\n",
       "    time_coverage_end:                            2018-01-17 22:20:00\n",
       "    geospatial_lat_min:                           0.0\n",
       "    geospatial_lat_max:                           0.0\n",
       "    geospatial_lat_units:                         degrees_north\n",
       "    geospatial_lat_resolution:                    point\n",
       "    geospatial_lon_min:                           0.0\n",
       "    geospatial_lon_max:                           0.0\n",
       "    geospatial_lon_units:                         degrees_east\n",
       "    geospatial_lon_resolution:                    point\n",
       "    runtime:                                      0:00:14.547000"
      ]
     },
     "execution_count": 9,
     "metadata": {},
     "output_type": "execute_result"
    }
   ],
   "source": [
    "ds_xr.head()"
   ]
  },
  {
   "cell_type": "code",
   "execution_count": 11,
   "metadata": {},
   "outputs": [
    {
     "data": {
      "text/html": [
       "<pre>&lt;xarray.DataArray &#x27;y_wind&#x27; (trajectory: 2958)&gt;\n",
       "array([9.969210e+36, 1.047276e+01, 9.969210e+36, ..., 9.969210e+36,\n",
       "       9.969210e+36, 9.969210e+36], dtype=float32)\n",
       "Coordinates:\n",
       "  * trajectory  (trajectory) int32 1 2 3 4 5 6 ... 2953 2954 2955 2956 2957 2958\n",
       "    time        datetime64[ns] 2018-01-16T04:20:00\n",
       "    lon         (trajectory) float32 ...\n",
       "    lat         (trajectory) float32 ...</pre>"
      ],
      "text/plain": [
       "<xarray.DataArray 'y_wind' (trajectory: 2958)>\n",
       "array([9.969210e+36, 1.047276e+01, 9.969210e+36, ..., 9.969210e+36,\n",
       "       9.969210e+36, 9.969210e+36], dtype=float32)\n",
       "Coordinates:\n",
       "  * trajectory  (trajectory) int32 1 2 3 4 5 6 ... 2953 2954 2955 2956 2957 2958\n",
       "    time        datetime64[ns] 2018-01-16T04:20:00\n",
       "    lon         (trajectory) float32 ...\n",
       "    lat         (trajectory) float32 ..."
      ]
     },
     "execution_count": 11,
     "metadata": {},
     "output_type": "execute_result"
    }
   ],
   "source": [
    "ds_xr.isel(time=30)['y_wind']"
   ]
  },
  {
   "cell_type": "code",
   "execution_count": null,
   "metadata": {},
   "outputs": [],
   "source": []
  }
 ],
 "metadata": {
  "kernelspec": {
   "display_name": "Python 3",
   "language": "python",
   "name": "python3"
  },
  "language_info": {
   "codemirror_mode": {
    "name": "ipython",
    "version": 3
   },
   "file_extension": ".py",
   "mimetype": "text/x-python",
   "name": "python",
   "nbconvert_exporter": "python",
   "pygments_lexer": "ipython3",
   "version": "3.7.3"
  }
 },
 "nbformat": 4,
 "nbformat_minor": 2
}
