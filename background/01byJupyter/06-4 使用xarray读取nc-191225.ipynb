{
 "cells": [
  {
   "cell_type": "markdown",
   "metadata": {},
   "source": [
    "> 19-12-25 最后一次修改      \n",
    "## 读取+清洗nan"
   ]
  },
  {
   "cell_type": "code",
   "execution_count": 6,
   "metadata": {},
   "outputs": [],
   "source": [
    "import numpy as np\n",
    "import netCDF4 as nc\n",
    "import pandas as pd\n",
    "import numpy.ma as ma"
   ]
  },
  {
   "cell_type": "code",
   "execution_count": 7,
   "metadata": {},
   "outputs": [],
   "source": [
    "import matplotlib as mpl\n",
    "import matplotlib.pyplot as plt"
   ]
  },
  {
   "cell_type": "code",
   "execution_count": 8,
   "metadata": {},
   "outputs": [
    {
     "name": "stderr",
     "output_type": "stream",
     "text": [
      "D:\\01Setup\\ANACONDA\\lib\\site-packages\\dask\\config.py:168: YAMLLoadWarning: calling yaml.load() without Loader=... is deprecated, as the default Loader is unsafe. Please read https://msg.pyyaml.org/load for full details.\n",
      "  data = yaml.load(f.read()) or {}\n",
      "D:\\01Setup\\ANACONDA\\lib\\site-packages\\distributed\\config.py:20: YAMLLoadWarning: calling yaml.load() without Loader=... is deprecated, as the default Loader is unsafe. Please read https://msg.pyyaml.org/load for full details.\n",
      "  defaults = yaml.load(f)\n"
     ]
    }
   ],
   "source": [
    "import xarray as xar"
   ]
  },
  {
   "cell_type": "code",
   "execution_count": 9,
   "metadata": {},
   "outputs": [],
   "source": [
    "file_path='./data/sanjioil.nc'"
   ]
  },
  {
   "cell_type": "code",
   "execution_count": 10,
   "metadata": {},
   "outputs": [],
   "source": [
    "ds=nc.Dataset(file_path)"
   ]
  },
  {
   "cell_type": "code",
   "execution_count": 11,
   "metadata": {},
   "outputs": [],
   "source": [
    "ds_xr=xar.open_dataset(file_path)"
   ]
  },
  {
   "cell_type": "code",
   "execution_count": 12,
   "metadata": {},
   "outputs": [
    {
     "data": {
      "text/plain": [
       "Frozen(SortedKeysDict({'trajectory': 2958, 'time': 73}))"
      ]
     },
     "execution_count": 12,
     "metadata": {},
     "output_type": "execute_result"
    }
   ],
   "source": [
    "ds_xr.dims"
   ]
  },
  {
   "cell_type": "code",
   "execution_count": 13,
   "metadata": {},
   "outputs": [
    {
     "data": {
      "text/plain": [
       "Data variables:\n",
       "    age_seconds                               (trajectory, time) float32 ...\n",
       "    interfacial_area                          (trajectory, time) float32 ...\n",
       "    mass_evaporated                           (trajectory, time) float32 ...\n",
       "    water_fraction                            (trajectory, time) float32 ...\n",
       "    y_wind                                    (trajectory, time) float32 ...\n",
       "    sea_ice_area_fraction                     (trajectory, time) float32 ...\n",
       "    density                                   (trajectory, time) float32 ...\n",
       "    oil_film_thickness                        (trajectory, time) float32 ...\n",
       "    x_sea_water_velocity                      (trajectory, time) float32 ...\n",
       "    bulltime                                  (trajectory, time) float32 ...\n",
       "    x_wind                                    (trajectory, time) float32 ...\n",
       "    age_emulsion_seconds                      (trajectory, time) float32 ...\n",
       "    sea_surface_wave_stokes_drift_y_velocity  (trajectory, time) float32 ...\n",
       "    status                                    (trajectory, time) int32 ...\n",
       "    viscosity                                 (trajectory, time) float32 ...\n",
       "    sea_floor_depth_below_sea_level           (trajectory, time) float32 ...\n",
       "    mass_dispersed                            (trajectory, time) float32 ...\n",
       "    land_binary_mask                          (trajectory, time) float32 ...\n",
       "    sea_surface_wave_significant_height       (trajectory, time) float32 ...\n",
       "    sea_water_temperature                     (trajectory, time) float32 ...\n",
       "    mass_oil                                  (trajectory, time) float32 ...\n",
       "    age_exposure_seconds                      (trajectory, time) float32 ...\n",
       "    sea_surface_wave_stokes_drift_x_velocity  (trajectory, time) float32 ...\n",
       "    y_sea_water_velocity                      (trajectory, time) float32 ...\n",
       "    z                                         (trajectory, time) float32 ...\n",
       "    wind_drift_factor                         (trajectory, time) float32 ...\n",
       "    fraction_evaporated                       (trajectory, time) float32 ..."
      ]
     },
     "execution_count": 13,
     "metadata": {},
     "output_type": "execute_result"
    }
   ],
   "source": [
    "ds_xr.data_vars"
   ]
  },
  {
   "cell_type": "code",
   "execution_count": 14,
   "metadata": {},
   "outputs": [
    {
     "data": {
      "text/plain": [
       "Coordinates:\n",
       "  * trajectory  (trajectory) int32 1 2 3 4 5 6 ... 2953 2954 2955 2956 2957 2958\n",
       "  * time        (time) datetime64[ns] 2018-01-14T22:20:00 ... 2018-01-17T22:20:00\n",
       "    lon         (trajectory, time) float32 ...\n",
       "    lat         (trajectory, time) float32 ..."
      ]
     },
     "execution_count": 14,
     "metadata": {},
     "output_type": "execute_result"
    }
   ],
   "source": [
    "ds_xr.coords"
   ]
  },
  {
   "cell_type": "markdown",
   "metadata": {},
   "source": [
    "获取所有的维度  \n",
    "* 注意获取维度时，不可以使用下标进行索引，会报错"
   ]
  },
  {
   "cell_type": "code",
   "execution_count": 15,
   "metadata": {},
   "outputs": [
    {
     "name": "stdout",
     "output_type": "stream",
     "text": [
      "<class 'str'>\n",
      "time\n",
      "<class 'str'>\n",
      "trajectory\n"
     ]
    }
   ],
   "source": [
    "for temp in ds_xr.dims:\n",
    "    print(type(temp))\n",
    "    print(temp)"
   ]
  },
  {
   "cell_type": "code",
   "execution_count": 16,
   "metadata": {},
   "outputs": [
    {
     "name": "stdout",
     "output_type": "stream",
     "text": [
      "<class 'str'>\n",
      "trajectory\n",
      "<class 'str'>\n",
      "time\n",
      "<class 'str'>\n",
      "lon\n",
      "<class 'str'>\n",
      "lat\n"
     ]
    }
   ],
   "source": [
    "for temp in ds_xr.coords:\n",
    "    print(type(temp))\n",
    "    print(temp)"
   ]
  },
  {
   "cell_type": "code",
   "execution_count": 17,
   "metadata": {},
   "outputs": [
    {
     "data": {
      "text/plain": [
       "xarray.core.coordinates.DatasetCoordinates"
      ]
     },
     "execution_count": 17,
     "metadata": {},
     "output_type": "execute_result"
    }
   ],
   "source": [
    "type(ds_xr.coords)"
   ]
  },
  {
   "cell_type": "markdown",
   "metadata": {},
   "source": [
    "使用.get判断是否存在指定的坐标名称"
   ]
  },
  {
   "cell_type": "code",
   "execution_count": 18,
   "metadata": {},
   "outputs": [],
   "source": [
    "ds_xr.coords.get('xx')"
   ]
  },
  {
   "cell_type": "code",
   "execution_count": 19,
   "metadata": {},
   "outputs": [
    {
     "data": {
      "text/html": [
       "<pre>&lt;xarray.DataArray &#x27;time&#x27; (time: 73)&gt;\n",
       "array([&#x27;2018-01-14T22:20:00.000000000&#x27;, &#x27;2018-01-14T23:20:00.000000000&#x27;,\n",
       "       &#x27;2018-01-15T00:20:00.000000000&#x27;, &#x27;2018-01-15T01:20:00.000000000&#x27;,\n",
       "       &#x27;2018-01-15T02:20:00.000000000&#x27;, &#x27;2018-01-15T03:20:00.000000000&#x27;,\n",
       "       &#x27;2018-01-15T04:20:00.000000000&#x27;, &#x27;2018-01-15T05:20:00.000000000&#x27;,\n",
       "       &#x27;2018-01-15T06:20:00.000000000&#x27;, &#x27;2018-01-15T07:20:00.000000000&#x27;,\n",
       "       &#x27;2018-01-15T08:20:00.000000000&#x27;, &#x27;2018-01-15T09:20:00.000000000&#x27;,\n",
       "       &#x27;2018-01-15T10:20:00.000000000&#x27;, &#x27;2018-01-15T11:20:00.000000000&#x27;,\n",
       "       &#x27;2018-01-15T12:20:00.000000000&#x27;, &#x27;2018-01-15T13:20:00.000000000&#x27;,\n",
       "       &#x27;2018-01-15T14:20:00.000000000&#x27;, &#x27;2018-01-15T15:20:00.000000000&#x27;,\n",
       "       &#x27;2018-01-15T16:20:00.000000000&#x27;, &#x27;2018-01-15T17:20:00.000000000&#x27;,\n",
       "       &#x27;2018-01-15T18:20:00.000000000&#x27;, &#x27;2018-01-15T19:20:00.000000000&#x27;,\n",
       "       &#x27;2018-01-15T20:20:00.000000000&#x27;, &#x27;2018-01-15T21:20:00.000000000&#x27;,\n",
       "       &#x27;2018-01-15T22:20:00.000000000&#x27;, &#x27;2018-01-15T23:20:00.000000000&#x27;,\n",
       "       &#x27;2018-01-16T00:20:00.000000000&#x27;, &#x27;2018-01-16T01:20:00.000000000&#x27;,\n",
       "       &#x27;2018-01-16T02:20:00.000000000&#x27;, &#x27;2018-01-16T03:20:00.000000000&#x27;,\n",
       "       &#x27;2018-01-16T04:20:00.000000000&#x27;, &#x27;2018-01-16T05:20:00.000000000&#x27;,\n",
       "       &#x27;2018-01-16T06:20:00.000000000&#x27;, &#x27;2018-01-16T07:20:00.000000000&#x27;,\n",
       "       &#x27;2018-01-16T08:20:00.000000000&#x27;, &#x27;2018-01-16T09:20:00.000000000&#x27;,\n",
       "       &#x27;2018-01-16T10:20:00.000000000&#x27;, &#x27;2018-01-16T11:20:00.000000000&#x27;,\n",
       "       &#x27;2018-01-16T12:20:00.000000000&#x27;, &#x27;2018-01-16T13:20:00.000000000&#x27;,\n",
       "       &#x27;2018-01-16T14:20:00.000000000&#x27;, &#x27;2018-01-16T15:20:00.000000000&#x27;,\n",
       "       &#x27;2018-01-16T16:20:00.000000000&#x27;, &#x27;2018-01-16T17:20:00.000000000&#x27;,\n",
       "       &#x27;2018-01-16T18:20:00.000000000&#x27;, &#x27;2018-01-16T19:20:00.000000000&#x27;,\n",
       "       &#x27;2018-01-16T20:20:00.000000000&#x27;, &#x27;2018-01-16T21:20:00.000000000&#x27;,\n",
       "       &#x27;2018-01-16T22:20:00.000000000&#x27;, &#x27;2018-01-16T23:20:00.000000000&#x27;,\n",
       "       &#x27;2018-01-17T00:20:00.000000000&#x27;, &#x27;2018-01-17T01:20:00.000000000&#x27;,\n",
       "       &#x27;2018-01-17T02:20:00.000000000&#x27;, &#x27;2018-01-17T03:20:00.000000000&#x27;,\n",
       "       &#x27;2018-01-17T04:20:00.000000000&#x27;, &#x27;2018-01-17T05:20:00.000000000&#x27;,\n",
       "       &#x27;2018-01-17T06:20:00.000000000&#x27;, &#x27;2018-01-17T07:20:00.000000000&#x27;,\n",
       "       &#x27;2018-01-17T08:20:00.000000000&#x27;, &#x27;2018-01-17T09:20:00.000000000&#x27;,\n",
       "       &#x27;2018-01-17T10:20:00.000000000&#x27;, &#x27;2018-01-17T11:20:00.000000000&#x27;,\n",
       "       &#x27;2018-01-17T12:20:00.000000000&#x27;, &#x27;2018-01-17T13:20:00.000000000&#x27;,\n",
       "       &#x27;2018-01-17T14:20:00.000000000&#x27;, &#x27;2018-01-17T15:20:00.000000000&#x27;,\n",
       "       &#x27;2018-01-17T16:20:00.000000000&#x27;, &#x27;2018-01-17T17:20:00.000000000&#x27;,\n",
       "       &#x27;2018-01-17T18:20:00.000000000&#x27;, &#x27;2018-01-17T19:20:00.000000000&#x27;,\n",
       "       &#x27;2018-01-17T20:20:00.000000000&#x27;, &#x27;2018-01-17T21:20:00.000000000&#x27;,\n",
       "       &#x27;2018-01-17T22:20:00.000000000&#x27;], dtype=&#x27;datetime64[ns]&#x27;)\n",
       "Coordinates:\n",
       "  * time     (time) datetime64[ns] 2018-01-14T22:20:00 ... 2018-01-17T22:20:00\n",
       "Attributes:\n",
       "    standard_name:  time\n",
       "    long_name:      time</pre>"
      ],
      "text/plain": [
       "<xarray.DataArray 'time' (time: 73)>\n",
       "array(['2018-01-14T22:20:00.000000000', '2018-01-14T23:20:00.000000000',\n",
       "       '2018-01-15T00:20:00.000000000', '2018-01-15T01:20:00.000000000',\n",
       "       '2018-01-15T02:20:00.000000000', '2018-01-15T03:20:00.000000000',\n",
       "       '2018-01-15T04:20:00.000000000', '2018-01-15T05:20:00.000000000',\n",
       "       '2018-01-15T06:20:00.000000000', '2018-01-15T07:20:00.000000000',\n",
       "       '2018-01-15T08:20:00.000000000', '2018-01-15T09:20:00.000000000',\n",
       "       '2018-01-15T10:20:00.000000000', '2018-01-15T11:20:00.000000000',\n",
       "       '2018-01-15T12:20:00.000000000', '2018-01-15T13:20:00.000000000',\n",
       "       '2018-01-15T14:20:00.000000000', '2018-01-15T15:20:00.000000000',\n",
       "       '2018-01-15T16:20:00.000000000', '2018-01-15T17:20:00.000000000',\n",
       "       '2018-01-15T18:20:00.000000000', '2018-01-15T19:20:00.000000000',\n",
       "       '2018-01-15T20:20:00.000000000', '2018-01-15T21:20:00.000000000',\n",
       "       '2018-01-15T22:20:00.000000000', '2018-01-15T23:20:00.000000000',\n",
       "       '2018-01-16T00:20:00.000000000', '2018-01-16T01:20:00.000000000',\n",
       "       '2018-01-16T02:20:00.000000000', '2018-01-16T03:20:00.000000000',\n",
       "       '2018-01-16T04:20:00.000000000', '2018-01-16T05:20:00.000000000',\n",
       "       '2018-01-16T06:20:00.000000000', '2018-01-16T07:20:00.000000000',\n",
       "       '2018-01-16T08:20:00.000000000', '2018-01-16T09:20:00.000000000',\n",
       "       '2018-01-16T10:20:00.000000000', '2018-01-16T11:20:00.000000000',\n",
       "       '2018-01-16T12:20:00.000000000', '2018-01-16T13:20:00.000000000',\n",
       "       '2018-01-16T14:20:00.000000000', '2018-01-16T15:20:00.000000000',\n",
       "       '2018-01-16T16:20:00.000000000', '2018-01-16T17:20:00.000000000',\n",
       "       '2018-01-16T18:20:00.000000000', '2018-01-16T19:20:00.000000000',\n",
       "       '2018-01-16T20:20:00.000000000', '2018-01-16T21:20:00.000000000',\n",
       "       '2018-01-16T22:20:00.000000000', '2018-01-16T23:20:00.000000000',\n",
       "       '2018-01-17T00:20:00.000000000', '2018-01-17T01:20:00.000000000',\n",
       "       '2018-01-17T02:20:00.000000000', '2018-01-17T03:20:00.000000000',\n",
       "       '2018-01-17T04:20:00.000000000', '2018-01-17T05:20:00.000000000',\n",
       "       '2018-01-17T06:20:00.000000000', '2018-01-17T07:20:00.000000000',\n",
       "       '2018-01-17T08:20:00.000000000', '2018-01-17T09:20:00.000000000',\n",
       "       '2018-01-17T10:20:00.000000000', '2018-01-17T11:20:00.000000000',\n",
       "       '2018-01-17T12:20:00.000000000', '2018-01-17T13:20:00.000000000',\n",
       "       '2018-01-17T14:20:00.000000000', '2018-01-17T15:20:00.000000000',\n",
       "       '2018-01-17T16:20:00.000000000', '2018-01-17T17:20:00.000000000',\n",
       "       '2018-01-17T18:20:00.000000000', '2018-01-17T19:20:00.000000000',\n",
       "       '2018-01-17T20:20:00.000000000', '2018-01-17T21:20:00.000000000',\n",
       "       '2018-01-17T22:20:00.000000000'], dtype='datetime64[ns]')\n",
       "Coordinates:\n",
       "  * time     (time) datetime64[ns] 2018-01-14T22:20:00 ... 2018-01-17T22:20:00\n",
       "Attributes:\n",
       "    standard_name:  time\n",
       "    long_name:      time"
      ]
     },
     "execution_count": 19,
     "metadata": {},
     "output_type": "execute_result"
    }
   ],
   "source": [
    "ds_xr.coords['time']"
   ]
  },
  {
   "cell_type": "code",
   "execution_count": 20,
   "metadata": {},
   "outputs": [
    {
     "data": {
      "text/plain": [
       "numpy.ndarray"
      ]
     },
     "execution_count": 20,
     "metadata": {},
     "output_type": "execute_result"
    }
   ],
   "source": [
    "type(ds_xr.coords['time'].values)"
   ]
  },
  {
   "cell_type": "code",
   "execution_count": 41,
   "metadata": {},
   "outputs": [
    {
     "data": {
      "text/plain": [
       "array(['2018-01-14T22:20:00.000000000', '2018-01-14T23:20:00.000000000',\n",
       "       '2018-01-15T00:20:00.000000000', '2018-01-15T01:20:00.000000000',\n",
       "       '2018-01-15T02:20:00.000000000'], dtype='datetime64[ns]')"
      ]
     },
     "execution_count": 41,
     "metadata": {},
     "output_type": "execute_result"
    }
   ],
   "source": [
    "ds_xr.coords['time'].values[:5]"
   ]
  },
  {
   "cell_type": "markdown",
   "metadata": {},
   "source": [
    "* 此处发现一个问题就是将datetime64进行tolist的转换时，会变为时间戳"
   ]
  },
  {
   "cell_type": "code",
   "execution_count": 22,
   "metadata": {},
   "outputs": [
    {
     "data": {
      "text/plain": [
       "[1515968400000000000,\n",
       " 1515972000000000000,\n",
       " 1515975600000000000,\n",
       " 1515979200000000000,\n",
       " 1515982800000000000]"
      ]
     },
     "execution_count": 22,
     "metadata": {},
     "output_type": "execute_result"
    }
   ],
   "source": [
    "ds_xr.coords['time'].values[:5].tolist()"
   ]
  },
  {
   "cell_type": "markdown",
   "metadata": {},
   "source": [
    "## 使用`pd.to_datetime`的方式进行转换"
   ]
  },
  {
   "cell_type": "code",
   "execution_count": 43,
   "metadata": {},
   "outputs": [
    {
     "data": {
      "text/plain": [
       "DatetimeIndex(['2018-01-14 22:20:00', '2018-01-14 23:20:00',\n",
       "               '2018-01-15 00:20:00'],\n",
       "              dtype='datetime64[ns]', freq=None)"
      ]
     },
     "execution_count": 43,
     "metadata": {},
     "output_type": "execute_result"
    }
   ],
   "source": [
    "pd.to_datetime(ds_xr.coords['time'].values[:3])"
   ]
  },
  {
   "cell_type": "code",
   "execution_count": 44,
   "metadata": {},
   "outputs": [
    {
     "name": "stdout",
     "output_type": "stream",
     "text": [
      "2018-01-14 22:20:00\n",
      "2018-01-14 23:20:00\n",
      "2018-01-15 00:20:00\n"
     ]
    }
   ],
   "source": [
    "for temp in pd.to_datetime(ds_xr.coords['time'].values[:3]):\n",
    "    print(temp)"
   ]
  },
  {
   "cell_type": "markdown",
   "metadata": {},
   "source": [
    "* 此处加入一个timestamp转换为datetime的操作"
   ]
  },
  {
   "cell_type": "code",
   "execution_count": 27,
   "metadata": {},
   "outputs": [],
   "source": [
    "from datetime import datetime"
   ]
  },
  {
   "cell_type": "code",
   "execution_count": 28,
   "metadata": {},
   "outputs": [
    {
     "ename": "OSError",
     "evalue": "[Errno 22] Invalid argument",
     "output_type": "error",
     "traceback": [
      "\u001b[1;31m---------------------------------------------------------------------------\u001b[0m",
      "\u001b[1;31mOSError\u001b[0m                                   Traceback (most recent call last)",
      "\u001b[1;32m<ipython-input-28-4a0840c89ed8>\u001b[0m in \u001b[0;36m<module>\u001b[1;34m\u001b[0m\n\u001b[1;32m----> 1\u001b[1;33m \u001b[0mdatetime\u001b[0m\u001b[1;33m.\u001b[0m\u001b[0mfromtimestamp\u001b[0m\u001b[1;33m(\u001b[0m\u001b[1;36m1515968400000000000\u001b[0m\u001b[1;33m)\u001b[0m\u001b[1;33m\u001b[0m\u001b[1;33m\u001b[0m\u001b[0m\n\u001b[0m",
      "\u001b[1;31mOSError\u001b[0m: [Errno 22] Invalid argument"
     ]
    }
   ],
   "source": [
    "datetime.fromtimestamp(1515968400000000000)"
   ]
  },
  {
   "cell_type": "markdown",
   "metadata": {},
   "source": [
    "## 获取`几个指定维度的`的`DataArray`  \n",
    "如下可知：\n",
    "    `mass_oil`有2958个值，该物理量有两个维度，分别为`trajectory`,`time`"
   ]
  },
  {
   "cell_type": "code",
   "execution_count": 29,
   "metadata": {},
   "outputs": [
    {
     "data": {
      "text/html": [
       "<pre>&lt;xarray.DataArray &#x27;x_wind&#x27; (trajectory: 2958)&gt;\n",
       "array([-6.335222e+00, -7.076474e+00, -5.017034e+00, ...,  9.969210e+36,\n",
       "        9.969210e+36,  9.969210e+36], dtype=float32)\n",
       "Coordinates:\n",
       "  * trajectory  (trajectory) int32 1 2 3 4 5 6 ... 2953 2954 2955 2956 2957 2958\n",
       "    time        datetime64[ns] 2018-01-14T23:20:00\n",
       "    lon         (trajectory) float32 ...\n",
       "    lat         (trajectory) float32 ...</pre>"
      ],
      "text/plain": [
       "<xarray.DataArray 'x_wind' (trajectory: 2958)>\n",
       "array([-6.335222e+00, -7.076474e+00, -5.017034e+00, ...,  9.969210e+36,\n",
       "        9.969210e+36,  9.969210e+36], dtype=float32)\n",
       "Coordinates:\n",
       "  * trajectory  (trajectory) int32 1 2 3 4 5 6 ... 2953 2954 2955 2956 2957 2958\n",
       "    time        datetime64[ns] 2018-01-14T23:20:00\n",
       "    lon         (trajectory) float32 ...\n",
       "    lat         (trajectory) float32 ..."
      ]
     },
     "execution_count": 29,
     "metadata": {},
     "output_type": "execute_result"
    }
   ],
   "source": [
    "# 读取一个 wind \n",
    "ds_xr.isel(time=1)['x_wind']"
   ]
  },
  {
   "cell_type": "code",
   "execution_count": 30,
   "metadata": {},
   "outputs": [
    {
     "data": {
      "text/html": [
       "<pre>&lt;xarray.DataArray &#x27;mass_oil&#x27; (trajectory: 2958)&gt;\n",
       "array([1.624608e+03, 1.547655e+03, 1.677850e+03, ..., 9.969210e+36,\n",
       "       9.969210e+36, 9.969210e+36], dtype=float32)\n",
       "Coordinates:\n",
       "  * trajectory  (trajectory) int32 1 2 3 4 5 6 ... 2953 2954 2955 2956 2957 2958\n",
       "    time        datetime64[ns] 2018-01-14T23:20:00\n",
       "    lon         (trajectory) float32 ...\n",
       "    lat         (trajectory) float32 ...\n",
       "Attributes:\n",
       "    units:    kg</pre>"
      ],
      "text/plain": [
       "<xarray.DataArray 'mass_oil' (trajectory: 2958)>\n",
       "array([1.624608e+03, 1.547655e+03, 1.677850e+03, ..., 9.969210e+36,\n",
       "       9.969210e+36, 9.969210e+36], dtype=float32)\n",
       "Coordinates:\n",
       "  * trajectory  (trajectory) int32 1 2 3 4 5 6 ... 2953 2954 2955 2956 2957 2958\n",
       "    time        datetime64[ns] 2018-01-14T23:20:00\n",
       "    lon         (trajectory) float32 ...\n",
       "    lat         (trajectory) float32 ...\n",
       "Attributes:\n",
       "    units:    kg"
      ]
     },
     "execution_count": 30,
     "metadata": {},
     "output_type": "execute_result"
    }
   ],
   "source": [
    "ds_xr.isel(time=1)['mass_oil']"
   ]
  },
  {
   "cell_type": "markdown",
   "metadata": {},
   "source": [
    "### 1- 尝试将xarray转为series"
   ]
  },
  {
   "cell_type": "markdown",
   "metadata": {},
   "source": [
    "## 2 剔除掉nan的数据，只获取有效数据"
   ]
  },
  {
   "cell_type": "markdown",
   "metadata": {},
   "source": [
    "#### 查看不同时刻的\n",
    "并通过`where`剔除掉大于`max`以及`nan`的值  \n",
    "使用xarray的dropna方法，注意与pandas中的方法有所区别"
   ]
  },
  {
   "cell_type": "markdown",
   "metadata": {},
   "source": [
    "提示错误：\n",
    "`ValueError: any must be a single dataset dimension`  \n",
    "查看文档后发现`xarray.Dataset.dropna`尚不支持同时沿多个维度放置  \n",
    "\n",
    "[参考](http://xarray.pydata.org/en/stable/generated/xarray.Dataset.dropna.html)  \n",
    "\n",
    "考虑将xarray转换为dateframe，然后再清洗？  \n",
    "[上网参考](https://stackoverflow.com/questions/52553925/python-xarray-remove-coordinates-with-all-missing-variables)\n",
    "比较好的解决办法是：\n",
    "1. 将`DataSet`->`DataFrame`\n",
    "2. 在`DataFrame`中通过`pandas` `dropna` 即可"
   ]
  },
  {
   "cell_type": "code",
   "execution_count": 31,
   "metadata": {},
   "outputs": [
    {
     "data": {
      "text/html": [
       "<pre>&lt;xarray.DataArray &#x27;x_wind&#x27; (trajectory: 2958)&gt;\n",
       "array([ 9.969210e+36, -2.856885e+00,  9.969210e+36, ...,  9.969210e+36,\n",
       "        9.969210e+36,  9.969210e+36], dtype=float32)\n",
       "Coordinates:\n",
       "  * trajectory  (trajectory) int32 1 2 3 4 5 6 ... 2953 2954 2955 2956 2957 2958\n",
       "    time        datetime64[ns] 2018-01-16T04:20:00\n",
       "    lon         (trajectory) float32 ...\n",
       "    lat         (trajectory) float32 ...</pre>"
      ],
      "text/plain": [
       "<xarray.DataArray 'x_wind' (trajectory: 2958)>\n",
       "array([ 9.969210e+36, -2.856885e+00,  9.969210e+36, ...,  9.969210e+36,\n",
       "        9.969210e+36,  9.969210e+36], dtype=float32)\n",
       "Coordinates:\n",
       "  * trajectory  (trajectory) int32 1 2 3 4 5 6 ... 2953 2954 2955 2956 2957 2958\n",
       "    time        datetime64[ns] 2018-01-16T04:20:00\n",
       "    lon         (trajectory) float32 ...\n",
       "    lat         (trajectory) float32 ..."
      ]
     },
     "execution_count": 31,
     "metadata": {},
     "output_type": "execute_result"
    }
   ],
   "source": [
    "ds_xr.isel(time=30).get('x_wind')"
   ]
  },
  {
   "cell_type": "code",
   "execution_count": 32,
   "metadata": {},
   "outputs": [
    {
     "data": {
      "text/html": [
       "<pre>&lt;xarray.DataArray &#x27;x_wind&#x27; (trajectory: 2958)&gt;\n",
       "array([ 9.969210e+36, -2.856885e+00,  9.969210e+36, ...,  9.969210e+36,\n",
       "        9.969210e+36,  9.969210e+36], dtype=float32)\n",
       "Coordinates:\n",
       "  * trajectory  (trajectory) int32 1 2 3 4 5 6 ... 2953 2954 2955 2956 2957 2958\n",
       "    time        datetime64[ns] 2018-01-16T04:20:00\n",
       "    lon         (trajectory) float32 ...\n",
       "    lat         (trajectory) float32 ...</pre>"
      ],
      "text/plain": [
       "<xarray.DataArray 'x_wind' (trajectory: 2958)>\n",
       "array([ 9.969210e+36, -2.856885e+00,  9.969210e+36, ...,  9.969210e+36,\n",
       "        9.969210e+36,  9.969210e+36], dtype=float32)\n",
       "Coordinates:\n",
       "  * trajectory  (trajectory) int32 1 2 3 4 5 6 ... 2953 2954 2955 2956 2957 2958\n",
       "    time        datetime64[ns] 2018-01-16T04:20:00\n",
       "    lon         (trajectory) float32 ...\n",
       "    lat         (trajectory) float32 ..."
      ]
     },
     "execution_count": 32,
     "metadata": {},
     "output_type": "execute_result"
    }
   ],
   "source": [
    "xr_temp_x=ds_xr.isel(time=30)['x_wind']\n",
    "xr_temp_x"
   ]
  },
  {
   "cell_type": "code",
   "execution_count": 33,
   "metadata": {},
   "outputs": [
    {
     "data": {
      "text/html": [
       "<pre>&lt;xarray.DataArray &#x27;y_wind&#x27; (trajectory: 2958)&gt;\n",
       "array([9.969210e+36, 1.047276e+01, 9.969210e+36, ..., 9.969210e+36,\n",
       "       9.969210e+36, 9.969210e+36], dtype=float32)\n",
       "Coordinates:\n",
       "  * trajectory  (trajectory) int32 1 2 3 4 5 6 ... 2953 2954 2955 2956 2957 2958\n",
       "    time        datetime64[ns] 2018-01-16T04:20:00\n",
       "    lon         (trajectory) float32 ...\n",
       "    lat         (trajectory) float32 ...</pre>"
      ],
      "text/plain": [
       "<xarray.DataArray 'y_wind' (trajectory: 2958)>\n",
       "array([9.969210e+36, 1.047276e+01, 9.969210e+36, ..., 9.969210e+36,\n",
       "       9.969210e+36, 9.969210e+36], dtype=float32)\n",
       "Coordinates:\n",
       "  * trajectory  (trajectory) int32 1 2 3 4 5 6 ... 2953 2954 2955 2956 2957 2958\n",
       "    time        datetime64[ns] 2018-01-16T04:20:00\n",
       "    lon         (trajectory) float32 ...\n",
       "    lat         (trajectory) float32 ..."
      ]
     },
     "execution_count": 33,
     "metadata": {},
     "output_type": "execute_result"
    }
   ],
   "source": [
    "xr_temp_y=ds_xr.isel(time=30)['y_wind']\n",
    "xr_temp_y"
   ]
  },
  {
   "cell_type": "markdown",
   "metadata": {},
   "source": [
    "* 注意若使用`.concat`合并的将会是追加，append的操作"
   ]
  },
  {
   "cell_type": "code",
   "execution_count": 34,
   "metadata": {},
   "outputs": [
    {
     "ename": "NameError",
     "evalue": "name 'xr_temp' is not defined",
     "output_type": "error",
     "traceback": [
      "\u001b[1;31m---------------------------------------------------------------------------\u001b[0m",
      "\u001b[1;31mNameError\u001b[0m                                 Traceback (most recent call last)",
      "\u001b[1;32m<ipython-input-34-01d8ab03bb92>\u001b[0m in \u001b[0;36m<module>\u001b[1;34m\u001b[0m\n\u001b[1;32m----> 1\u001b[1;33m \u001b[0mxar\u001b[0m\u001b[1;33m.\u001b[0m\u001b[0mconcat\u001b[0m\u001b[1;33m(\u001b[0m\u001b[1;33m[\u001b[0m\u001b[0mxr_temp\u001b[0m\u001b[1;33m,\u001b[0m\u001b[0mxr_temp_y\u001b[0m\u001b[1;33m]\u001b[0m\u001b[1;33m,\u001b[0m\u001b[0mdim\u001b[0m\u001b[1;33m=\u001b[0m\u001b[1;34m'trajectory'\u001b[0m\u001b[1;33m)\u001b[0m\u001b[1;33m\u001b[0m\u001b[1;33m\u001b[0m\u001b[0m\n\u001b[0m",
      "\u001b[1;31mNameError\u001b[0m: name 'xr_temp' is not defined"
     ]
    }
   ],
   "source": [
    "xar.concat([xr_temp,xr_temp_y],dim='trajectory')"
   ]
  },
  {
   "cell_type": "markdown",
   "metadata": {},
   "source": [
    "以下出现错误：\n",
    " MergeError: conflicting values for variable 'time' on objects to be combined. You can skip this check by specifying compat='override'.  \n",
    " 出现此错误经检查为 `time` 不是同一个time导致的  \n",
    " #### 最终使用merage的方式将两个维度进行合并"
   ]
  },
  {
   "cell_type": "code",
   "execution_count": 35,
   "metadata": {},
   "outputs": [],
   "source": [
    "xr_merge=xar.merge([xr_temp_x])"
   ]
  },
  {
   "cell_type": "code",
   "execution_count": 36,
   "metadata": {},
   "outputs": [
    {
     "data": {
      "text/html": [
       "<pre>&lt;xarray.Dataset&gt;\n",
       "Dimensions:     (trajectory: 2958)\n",
       "Coordinates:\n",
       "  * trajectory  (trajectory) int32 1 2 3 4 5 6 ... 2953 2954 2955 2956 2957 2958\n",
       "    time        datetime64[ns] 2018-01-16T04:20:00\n",
       "    lon         (trajectory) float32 ...\n",
       "    lat         (trajectory) float32 ...\n",
       "Data variables:\n",
       "    x_wind      (trajectory) float32 9.96921e+36 -2.8568854 ... 9.96921e+36</pre>"
      ],
      "text/plain": [
       "<xarray.Dataset>\n",
       "Dimensions:     (trajectory: 2958)\n",
       "Coordinates:\n",
       "  * trajectory  (trajectory) int32 1 2 3 4 5 6 ... 2953 2954 2955 2956 2957 2958\n",
       "    time        datetime64[ns] 2018-01-16T04:20:00\n",
       "    lon         (trajectory) float32 ...\n",
       "    lat         (trajectory) float32 ...\n",
       "Data variables:\n",
       "    x_wind      (trajectory) float32 9.96921e+36 -2.8568854 ... 9.96921e+36"
      ]
     },
     "execution_count": 36,
     "metadata": {},
     "output_type": "execute_result"
    }
   ],
   "source": [
    "xr_merge"
   ]
  },
  {
   "cell_type": "code",
   "execution_count": 37,
   "metadata": {},
   "outputs": [
    {
     "data": {
      "text/html": [
       "<pre>&lt;xarray.Dataset&gt;\n",
       "Dimensions:     (trajectory: 2958)\n",
       "Coordinates:\n",
       "  * trajectory  (trajectory) int32 1 2 3 4 5 6 ... 2953 2954 2955 2956 2957 2958\n",
       "    time        datetime64[ns] 2018-01-16T04:20:00\n",
       "    lon         (trajectory) float32 9.96921e+36 125.85207 ... 9.96921e+36\n",
       "    lat         (trajectory) float32 9.96921e+36 28.504345 ... 9.96921e+36\n",
       "Data variables:\n",
       "    x_wind      (trajectory) float32 9.96921e+36 -2.8568854 ... 9.96921e+36\n",
       "    y_wind      (trajectory) float32 9.96921e+36 10.472756 ... 9.96921e+36</pre>"
      ],
      "text/plain": [
       "<xarray.Dataset>\n",
       "Dimensions:     (trajectory: 2958)\n",
       "Coordinates:\n",
       "  * trajectory  (trajectory) int32 1 2 3 4 5 6 ... 2953 2954 2955 2956 2957 2958\n",
       "    time        datetime64[ns] 2018-01-16T04:20:00\n",
       "    lon         (trajectory) float32 9.96921e+36 125.85207 ... 9.96921e+36\n",
       "    lat         (trajectory) float32 9.96921e+36 28.504345 ... 9.96921e+36\n",
       "Data variables:\n",
       "    x_wind      (trajectory) float32 9.96921e+36 -2.8568854 ... 9.96921e+36\n",
       "    y_wind      (trajectory) float32 9.96921e+36 10.472756 ... 9.96921e+36"
      ]
     },
     "execution_count": 37,
     "metadata": {},
     "output_type": "execute_result"
    }
   ],
   "source": [
    "xr_merge=xar.merge([xr_temp_x,xr_temp_y])\n",
    "xr_merge"
   ]
  },
  {
   "cell_type": "code",
   "execution_count": 38,
   "metadata": {},
   "outputs": [
    {
     "data": {
      "text/html": [
       "<div>\n",
       "<style scoped>\n",
       "    .dataframe tbody tr th:only-of-type {\n",
       "        vertical-align: middle;\n",
       "    }\n",
       "\n",
       "    .dataframe tbody tr th {\n",
       "        vertical-align: top;\n",
       "    }\n",
       "\n",
       "    .dataframe thead th {\n",
       "        text-align: right;\n",
       "    }\n",
       "</style>\n",
       "<table border=\"1\" class=\"dataframe\">\n",
       "  <thead>\n",
       "    <tr style=\"text-align: right;\">\n",
       "      <th></th>\n",
       "      <th>x_wind</th>\n",
       "      <th>y_wind</th>\n",
       "      <th>time</th>\n",
       "      <th>lon</th>\n",
       "      <th>lat</th>\n",
       "    </tr>\n",
       "    <tr>\n",
       "      <th>trajectory</th>\n",
       "      <th></th>\n",
       "      <th></th>\n",
       "      <th></th>\n",
       "      <th></th>\n",
       "      <th></th>\n",
       "    </tr>\n",
       "  </thead>\n",
       "  <tbody>\n",
       "    <tr>\n",
       "      <td>2</td>\n",
       "      <td>-2.856885</td>\n",
       "      <td>10.472756</td>\n",
       "      <td>2018-01-16 04:20:00</td>\n",
       "      <td>125.852074</td>\n",
       "      <td>28.504345</td>\n",
       "    </tr>\n",
       "    <tr>\n",
       "      <td>4</td>\n",
       "      <td>-3.510324</td>\n",
       "      <td>8.823525</td>\n",
       "      <td>2018-01-16 04:20:00</td>\n",
       "      <td>125.837547</td>\n",
       "      <td>28.535669</td>\n",
       "    </tr>\n",
       "    <tr>\n",
       "      <td>5</td>\n",
       "      <td>-3.477507</td>\n",
       "      <td>8.365860</td>\n",
       "      <td>2018-01-16 04:20:00</td>\n",
       "      <td>125.746597</td>\n",
       "      <td>28.534342</td>\n",
       "    </tr>\n",
       "    <tr>\n",
       "      <td>9</td>\n",
       "      <td>-3.867782</td>\n",
       "      <td>9.866551</td>\n",
       "      <td>2018-01-16 04:20:00</td>\n",
       "      <td>125.779015</td>\n",
       "      <td>28.548067</td>\n",
       "    </tr>\n",
       "    <tr>\n",
       "      <td>10</td>\n",
       "      <td>-4.172445</td>\n",
       "      <td>8.833652</td>\n",
       "      <td>2018-01-16 04:20:00</td>\n",
       "      <td>125.941368</td>\n",
       "      <td>28.543129</td>\n",
       "    </tr>\n",
       "    <tr>\n",
       "      <td>...</td>\n",
       "      <td>...</td>\n",
       "      <td>...</td>\n",
       "      <td>...</td>\n",
       "      <td>...</td>\n",
       "      <td>...</td>\n",
       "    </tr>\n",
       "    <tr>\n",
       "      <td>1250</td>\n",
       "      <td>-2.741773</td>\n",
       "      <td>11.013288</td>\n",
       "      <td>2018-01-16 04:20:00</td>\n",
       "      <td>125.921379</td>\n",
       "      <td>28.369308</td>\n",
       "    </tr>\n",
       "    <tr>\n",
       "      <td>1251</td>\n",
       "      <td>-4.936096</td>\n",
       "      <td>8.763128</td>\n",
       "      <td>2018-01-16 04:20:00</td>\n",
       "      <td>125.921432</td>\n",
       "      <td>28.369282</td>\n",
       "    </tr>\n",
       "    <tr>\n",
       "      <td>1252</td>\n",
       "      <td>-1.048339</td>\n",
       "      <td>10.038569</td>\n",
       "      <td>2018-01-16 04:20:00</td>\n",
       "      <td>125.921486</td>\n",
       "      <td>28.369307</td>\n",
       "    </tr>\n",
       "    <tr>\n",
       "      <td>1253</td>\n",
       "      <td>-3.387036</td>\n",
       "      <td>9.787621</td>\n",
       "      <td>2018-01-16 04:20:00</td>\n",
       "      <td>125.921524</td>\n",
       "      <td>28.369263</td>\n",
       "    </tr>\n",
       "    <tr>\n",
       "      <td>1254</td>\n",
       "      <td>-3.869750</td>\n",
       "      <td>10.290464</td>\n",
       "      <td>2018-01-16 04:20:00</td>\n",
       "      <td>125.921501</td>\n",
       "      <td>28.369329</td>\n",
       "    </tr>\n",
       "  </tbody>\n",
       "</table>\n",
       "<p>901 rows × 5 columns</p>\n",
       "</div>"
      ],
      "text/plain": [
       "              x_wind     y_wind                time         lon        lat\n",
       "trajectory                                                                \n",
       "2          -2.856885  10.472756 2018-01-16 04:20:00  125.852074  28.504345\n",
       "4          -3.510324   8.823525 2018-01-16 04:20:00  125.837547  28.535669\n",
       "5          -3.477507   8.365860 2018-01-16 04:20:00  125.746597  28.534342\n",
       "9          -3.867782   9.866551 2018-01-16 04:20:00  125.779015  28.548067\n",
       "10         -4.172445   8.833652 2018-01-16 04:20:00  125.941368  28.543129\n",
       "...              ...        ...                 ...         ...        ...\n",
       "1250       -2.741773  11.013288 2018-01-16 04:20:00  125.921379  28.369308\n",
       "1251       -4.936096   8.763128 2018-01-16 04:20:00  125.921432  28.369282\n",
       "1252       -1.048339  10.038569 2018-01-16 04:20:00  125.921486  28.369307\n",
       "1253       -3.387036   9.787621 2018-01-16 04:20:00  125.921524  28.369263\n",
       "1254       -3.869750  10.290464 2018-01-16 04:20:00  125.921501  28.369329\n",
       "\n",
       "[901 rows x 5 columns]"
      ]
     },
     "execution_count": 38,
     "metadata": {},
     "output_type": "execute_result"
    }
   ],
   "source": [
    "# 剔除大于阈值的，并且为nan的\n",
    "df_finial=xr_merge.where(xr_merge<2000).to_dataframe().dropna(how='any')\n",
    "df_finial"
   ]
  },
  {
   "cell_type": "code",
   "execution_count": 40,
   "metadata": {},
   "outputs": [
    {
     "data": {
      "text/plain": [
       "trajectory\n",
       "2      2018-01-16 04:20:00\n",
       "4      2018-01-16 04:20:00\n",
       "5      2018-01-16 04:20:00\n",
       "9      2018-01-16 04:20:00\n",
       "10     2018-01-16 04:20:00\n",
       "               ...        \n",
       "1250   2018-01-16 04:20:00\n",
       "1251   2018-01-16 04:20:00\n",
       "1252   2018-01-16 04:20:00\n",
       "1253   2018-01-16 04:20:00\n",
       "1254   2018-01-16 04:20:00\n",
       "Name: time, Length: 901, dtype: datetime64[ns]"
      ]
     },
     "execution_count": 40,
     "metadata": {},
     "output_type": "execute_result"
    }
   ],
   "source": [
    "pd.to_datetime(df_finial['time'])"
   ]
  },
  {
   "cell_type": "markdown",
   "metadata": {},
   "source": [
    "## 3 将df写入数据库"
   ]
  },
  {
   "cell_type": "code",
   "execution_count": 48,
   "metadata": {},
   "outputs": [
    {
     "data": {
      "text/plain": [
       "pandas.core.frame.DataFrame"
      ]
     },
     "execution_count": 48,
     "metadata": {},
     "output_type": "execute_result"
    }
   ],
   "source": [
    "type(df_finial)"
   ]
  },
  {
   "cell_type": "markdown",
   "metadata": {},
   "source": [
    "注意此处以后不再使用`.ix`进行索引，使用`iloc`进行索引"
   ]
  },
  {
   "cell_type": "code",
   "execution_count": 49,
   "metadata": {},
   "outputs": [
    {
     "name": "stderr",
     "output_type": "stream",
     "text": [
      "D:\\01Setup\\ANACONDA\\lib\\site-packages\\ipykernel_launcher.py:1: FutureWarning: \n",
      ".ix is deprecated. Please use\n",
      ".loc for label based indexing or\n",
      ".iloc for positional indexing\n",
      "\n",
      "See the documentation here:\n",
      "http://pandas.pydata.org/pandas-docs/stable/user_guide/indexing.html#ix-indexer-is-deprecated\n",
      "  \"\"\"Entry point for launching an IPython kernel.\n"
     ]
    },
    {
     "data": {
      "text/plain": [
       "x_wind               -2.85689\n",
       "y_wind                10.4728\n",
       "time      2018-01-16 04:20:00\n",
       "lon                   125.852\n",
       "lat                   28.5043\n",
       "Name: 2, dtype: object"
      ]
     },
     "execution_count": 49,
     "metadata": {},
     "output_type": "execute_result"
    }
   ],
   "source": [
    "df_finial.ix[2]"
   ]
  },
  {
   "cell_type": "code",
   "execution_count": 52,
   "metadata": {},
   "outputs": [
    {
     "data": {
      "text/plain": [
       "901"
      ]
     },
     "execution_count": 52,
     "metadata": {},
     "output_type": "execute_result"
    }
   ],
   "source": [
    "len(df_finial)"
   ]
  },
  {
   "cell_type": "code",
   "execution_count": 50,
   "metadata": {},
   "outputs": [
    {
     "data": {
      "text/plain": [
       "x_wind               -2.85689\n",
       "y_wind                10.4728\n",
       "time      2018-01-16 04:20:00\n",
       "lon                   125.852\n",
       "lat                   28.5043\n",
       "Name: 2, dtype: object"
      ]
     },
     "execution_count": 50,
     "metadata": {},
     "output_type": "execute_result"
    }
   ],
   "source": [
    "df_finial.iloc[0]"
   ]
  },
  {
   "cell_type": "code",
   "execution_count": 51,
   "metadata": {},
   "outputs": [
    {
     "data": {
      "text/plain": [
       "-2.8568854"
      ]
     },
     "execution_count": 51,
     "metadata": {},
     "output_type": "execute_result"
    }
   ],
   "source": [
    "df_finial.iloc[0].get('x_wind')"
   ]
  },
  {
   "cell_type": "code",
   "execution_count": null,
   "metadata": {},
   "outputs": [],
   "source": []
  }
 ],
 "metadata": {
  "kernelspec": {
   "display_name": "Python 3",
   "language": "python",
   "name": "python3"
  },
  "language_info": {
   "codemirror_mode": {
    "name": "ipython",
    "version": 3
   },
   "file_extension": ".py",
   "mimetype": "text/x-python",
   "name": "python",
   "nbconvert_exporter": "python",
   "pygments_lexer": "ipython3",
   "version": "3.7.3"
  }
 },
 "nbformat": 4,
 "nbformat_minor": 2
}
