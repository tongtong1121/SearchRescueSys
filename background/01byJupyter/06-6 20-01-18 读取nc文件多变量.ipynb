{
 "cells": [
  {
   "cell_type": "code",
   "execution_count": 1,
   "metadata": {},
   "outputs": [],
   "source": [
    "import numpy as np\n",
    "import netCDF4 as nc\n",
    "import pandas as pd\n",
    "import numpy.ma as ma"
   ]
  },
  {
   "cell_type": "code",
   "execution_count": 2,
   "metadata": {},
   "outputs": [],
   "source": [
    "import matplotlib as mpl\n",
    "import matplotlib.pyplot as plt"
   ]
  },
  {
   "cell_type": "code",
   "execution_count": 3,
   "metadata": {},
   "outputs": [
    {
     "name": "stderr",
     "output_type": "stream",
     "text": [
      "C:\\ProgramData\\Anaconda3\\lib\\site-packages\\dask\\config.py:168: YAMLLoadWarning: calling yaml.load() without Loader=... is deprecated, as the default Loader is unsafe. Please read https://msg.pyyaml.org/load for full details.\n",
      "  data = yaml.load(f.read()) or {}\n",
      "C:\\ProgramData\\Anaconda3\\lib\\site-packages\\distributed\\config.py:20: YAMLLoadWarning: calling yaml.load() without Loader=... is deprecated, as the default Loader is unsafe. Please read https://msg.pyyaml.org/load for full details.\n",
      "  defaults = yaml.load(f)\n"
     ]
    }
   ],
   "source": [
    "import xarray as xar"
   ]
  },
  {
   "cell_type": "code",
   "execution_count": 4,
   "metadata": {},
   "outputs": [],
   "source": [
    "file_path='./data/sanjioil.nc'"
   ]
  },
  {
   "cell_type": "code",
   "execution_count": 5,
   "metadata": {},
   "outputs": [],
   "source": [
    "ds=nc.Dataset(file_path)"
   ]
  },
  {
   "cell_type": "code",
   "execution_count": 6,
   "metadata": {},
   "outputs": [],
   "source": [
    "ds_xr=xar.open_dataset(file_path)"
   ]
  },
  {
   "cell_type": "markdown",
   "metadata": {},
   "source": [
    "获取所有的维度  \n",
    "* 注意获取维度时，不可以使用下标进行索引，会报错"
   ]
  },
  {
   "cell_type": "markdown",
   "metadata": {},
   "source": [
    "## 获取`几个指定维度的`的`DataArray`  \n",
    "如下可知：\n",
    "    `mass_oil`有2958个值，该物理量有两个维度，分别为`trajectory`,`time`"
   ]
  },
  {
   "cell_type": "markdown",
   "metadata": {},
   "source": [
    "#### 查看不同时刻的\n",
    "并通过`where`剔除掉大于`max`以及`nan`的值  \n",
    "使用xarray的dropna方法，注意与pandas中的方法有所区别"
   ]
  },
  {
   "cell_type": "markdown",
   "metadata": {},
   "source": [
    "提示错误：\n",
    "`ValueError: any must be a single dataset dimension`  \n",
    "查看文档后发现`xarray.Dataset.dropna`尚不支持同时沿多个维度放置  \n",
    "\n",
    "[参考](http://xarray.pydata.org/en/stable/generated/xarray.Dataset.dropna.html)  \n",
    "\n",
    "考虑将xarray转换为dateframe，然后再清洗？  \n",
    "[上网参考](https://stackoverflow.com/questions/52553925/python-xarray-remove-coordinates-with-all-missing-variables)\n",
    "比较好的解决办法是：\n",
    "1. 将`DataSet`->`DataFrame`\n",
    "2. 在`DataFrame`中通过`pandas` `dropna` 即可"
   ]
  },
  {
   "cell_type": "code",
   "execution_count": 7,
   "metadata": {},
   "outputs": [
    {
     "data": {
      "text/html": [
       "<pre>&lt;xarray.DataArray &#x27;status&#x27; (trajectory: 2958)&gt;\n",
       "array([-2147483647,           0, -2147483647, ..., -2147483647, -2147483647,\n",
       "       -2147483647])\n",
       "Coordinates:\n",
       "  * trajectory  (trajectory) int32 1 2 3 4 5 6 ... 2953 2954 2955 2956 2957 2958\n",
       "    time        datetime64[ns] 2018-01-16T04:20:00\n",
       "    lon         (trajectory) float32 ...\n",
       "    lat         (trajectory) float32 ...\n",
       "Attributes:\n",
       "    valid_range:    [0 1]\n",
       "    flag_values:    [0 1]\n",
       "    flag_meanings:  active evaporated</pre>"
      ],
      "text/plain": [
       "<xarray.DataArray 'status' (trajectory: 2958)>\n",
       "array([-2147483647,           0, -2147483647, ..., -2147483647, -2147483647,\n",
       "       -2147483647])\n",
       "Coordinates:\n",
       "  * trajectory  (trajectory) int32 1 2 3 4 5 6 ... 2953 2954 2955 2956 2957 2958\n",
       "    time        datetime64[ns] 2018-01-16T04:20:00\n",
       "    lon         (trajectory) float32 ...\n",
       "    lat         (trajectory) float32 ...\n",
       "Attributes:\n",
       "    valid_range:    [0 1]\n",
       "    flag_values:    [0 1]\n",
       "    flag_meanings:  active evaporated"
      ]
     },
     "execution_count": 7,
     "metadata": {},
     "output_type": "execute_result"
    }
   ],
   "source": [
    "ds_xr.isel(time=30)['status']"
   ]
  },
  {
   "cell_type": "code",
   "execution_count": 8,
   "metadata": {},
   "outputs": [
    {
     "data": {
      "text/html": [
       "<pre>&lt;xarray.DataArray &#x27;mass_evaporated&#x27; (trajectory: 2958)&gt;\n",
       "array([9.969210e+36, 5.300872e+02, 9.969210e+36, ..., 9.969210e+36,\n",
       "       9.969210e+36, 9.969210e+36], dtype=float32)\n",
       "Coordinates:\n",
       "  * trajectory  (trajectory) int32 1 2 3 4 5 6 ... 2953 2954 2955 2956 2957 2958\n",
       "    time        datetime64[ns] 2018-01-16T04:20:00\n",
       "    lon         (trajectory) float32 ...\n",
       "    lat         (trajectory) float32 ...\n",
       "Attributes:\n",
       "    units:    kg</pre>"
      ],
      "text/plain": [
       "<xarray.DataArray 'mass_evaporated' (trajectory: 2958)>\n",
       "array([9.969210e+36, 5.300872e+02, 9.969210e+36, ..., 9.969210e+36,\n",
       "       9.969210e+36, 9.969210e+36], dtype=float32)\n",
       "Coordinates:\n",
       "  * trajectory  (trajectory) int32 1 2 3 4 5 6 ... 2953 2954 2955 2956 2957 2958\n",
       "    time        datetime64[ns] 2018-01-16T04:20:00\n",
       "    lon         (trajectory) float32 ...\n",
       "    lat         (trajectory) float32 ...\n",
       "Attributes:\n",
       "    units:    kg"
      ]
     },
     "execution_count": 8,
     "metadata": {},
     "output_type": "execute_result"
    }
   ],
   "source": [
    "ds_xr.isel(time=30)['mass_evaporated']"
   ]
  },
  {
   "cell_type": "code",
   "execution_count": 9,
   "metadata": {},
   "outputs": [
    {
     "data": {
      "text/html": [
       "<pre>&lt;xarray.DataArray &#x27;status&#x27; (trajectory: 2958)&gt;\n",
       "array([-2147483647,           0, -2147483647, ..., -2147483647, -2147483647,\n",
       "       -2147483647])\n",
       "Coordinates:\n",
       "  * trajectory  (trajectory) int32 1 2 3 4 5 6 ... 2953 2954 2955 2956 2957 2958\n",
       "    time        datetime64[ns] 2018-01-16T04:20:00\n",
       "    lon         (trajectory) float32 ...\n",
       "    lat         (trajectory) float32 ...\n",
       "Attributes:\n",
       "    valid_range:    [0 1]\n",
       "    flag_values:    [0 1]\n",
       "    flag_meanings:  active evaporated</pre>"
      ],
      "text/plain": [
       "<xarray.DataArray 'status' (trajectory: 2958)>\n",
       "array([-2147483647,           0, -2147483647, ..., -2147483647, -2147483647,\n",
       "       -2147483647])\n",
       "Coordinates:\n",
       "  * trajectory  (trajectory) int32 1 2 3 4 5 6 ... 2953 2954 2955 2956 2957 2958\n",
       "    time        datetime64[ns] 2018-01-16T04:20:00\n",
       "    lon         (trajectory) float32 ...\n",
       "    lat         (trajectory) float32 ...\n",
       "Attributes:\n",
       "    valid_range:    [0 1]\n",
       "    flag_values:    [0 1]\n",
       "    flag_meanings:  active evaporated"
      ]
     },
     "execution_count": 9,
     "metadata": {},
     "output_type": "execute_result"
    }
   ],
   "source": [
    "ds_xr.isel(time=30)['status']"
   ]
  },
  {
   "cell_type": "markdown",
   "metadata": {},
   "source": [
    "对于未做任何处理的`dataarray`的len为`2958`  \n",
    "使用max与min方法操作dataset  \n",
    "`max`为1  \n",
    "`min`为-2147xxxx"
   ]
  },
  {
   "cell_type": "code",
   "execution_count": 12,
   "metadata": {},
   "outputs": [],
   "source": [
    "xr_temp_x=ds_xr.isel(time=30)['status']"
   ]
  },
  {
   "cell_type": "code",
   "execution_count": 13,
   "metadata": {},
   "outputs": [
    {
     "data": {
      "text/html": [
       "<pre>&lt;xarray.DataArray &#x27;status&#x27; ()&gt;\n",
       "array(1)\n",
       "Coordinates:\n",
       "    time     datetime64[ns] 2018-01-16T04:20:00</pre>"
      ],
      "text/plain": [
       "<xarray.DataArray 'status' ()>\n",
       "array(1)\n",
       "Coordinates:\n",
       "    time     datetime64[ns] 2018-01-16T04:20:00"
      ]
     },
     "execution_count": 13,
     "metadata": {},
     "output_type": "execute_result"
    }
   ],
   "source": [
    "xr_temp_x.max()"
   ]
  },
  {
   "cell_type": "code",
   "execution_count": 14,
   "metadata": {},
   "outputs": [
    {
     "data": {
      "text/html": [
       "<pre>&lt;xarray.DataArray &#x27;status&#x27; ()&gt;\n",
       "array(-2147483647)\n",
       "Coordinates:\n",
       "    time     datetime64[ns] 2018-01-16T04:20:00</pre>"
      ],
      "text/plain": [
       "<xarray.DataArray 'status' ()>\n",
       "array(-2147483647)\n",
       "Coordinates:\n",
       "    time     datetime64[ns] 2018-01-16T04:20:00"
      ]
     },
     "execution_count": 14,
     "metadata": {},
     "output_type": "execute_result"
    }
   ],
   "source": [
    "xr_temp_x.min()"
   ]
  },
  {
   "cell_type": "code",
   "execution_count": 28,
   "metadata": {},
   "outputs": [
    {
     "data": {
      "text/plain": [
       "array(inf, dtype=float32)"
      ]
     },
     "execution_count": 28,
     "metadata": {},
     "output_type": "execute_result"
    }
   ],
   "source": [
    "ds_xr.isel(time=30)['lat'].mean().data"
   ]
  },
  {
   "cell_type": "markdown",
   "metadata": {},
   "source": [
    "## 1-先对dataarray进行过滤，先剔除<0的  \n",
    "先剔除<0的部分后发现len并未减少？  \n",
    "* 原因是看其中的array已经出现了nan的掩码，需要剔除"
   ]
  },
  {
   "cell_type": "code",
   "execution_count": 15,
   "metadata": {},
   "outputs": [
    {
     "data": {
      "text/html": [
       "<pre>&lt;xarray.DataArray &#x27;status&#x27; (trajectory: 2958)&gt;\n",
       "array([nan,  0., nan, ..., nan, nan, nan])\n",
       "Coordinates:\n",
       "  * trajectory  (trajectory) int32 1 2 3 4 5 6 ... 2953 2954 2955 2956 2957 2958\n",
       "    time        datetime64[ns] 2018-01-16T04:20:00\n",
       "    lon         (trajectory) float32 9.96921e+36 125.85207 ... 9.96921e+36\n",
       "    lat         (trajectory) float32 9.96921e+36 28.504345 ... 9.96921e+36\n",
       "Attributes:\n",
       "    valid_range:    [0 1]\n",
       "    flag_values:    [0 1]\n",
       "    flag_meanings:  active evaporated</pre>"
      ],
      "text/plain": [
       "<xarray.DataArray 'status' (trajectory: 2958)>\n",
       "array([nan,  0., nan, ..., nan, nan, nan])\n",
       "Coordinates:\n",
       "  * trajectory  (trajectory) int32 1 2 3 4 5 6 ... 2953 2954 2955 2956 2957 2958\n",
       "    time        datetime64[ns] 2018-01-16T04:20:00\n",
       "    lon         (trajectory) float32 9.96921e+36 125.85207 ... 9.96921e+36\n",
       "    lat         (trajectory) float32 9.96921e+36 28.504345 ... 9.96921e+36\n",
       "Attributes:\n",
       "    valid_range:    [0 1]\n",
       "    flag_values:    [0 1]\n",
       "    flag_meanings:  active evaporated"
      ]
     },
     "execution_count": 15,
     "metadata": {},
     "output_type": "execute_result"
    }
   ],
   "source": [
    "xr_temp_x.where(xr_temp_x>=0)"
   ]
  },
  {
   "cell_type": "code",
   "execution_count": 16,
   "metadata": {},
   "outputs": [
    {
     "data": {
      "text/html": [
       "<pre>&lt;xarray.DataArray &#x27;status&#x27; (trajectory: 2958)&gt;\n",
       "array([nan,  0., nan, ..., nan, nan, nan])\n",
       "Coordinates:\n",
       "  * trajectory  (trajectory) int32 1 2 3 4 5 6 ... 2953 2954 2955 2956 2957 2958\n",
       "    time        datetime64[ns] 2018-01-16T04:20:00\n",
       "    lon         (trajectory) float32 9.96921e+36 125.85207 ... 9.96921e+36\n",
       "    lat         (trajectory) float32 9.96921e+36 28.504345 ... 9.96921e+36\n",
       "Attributes:\n",
       "    valid_range:    [0 1]\n",
       "    flag_values:    [0 1]\n",
       "    flag_meanings:  active evaporated</pre>"
      ],
      "text/plain": [
       "<xarray.DataArray 'status' (trajectory: 2958)>\n",
       "array([nan,  0., nan, ..., nan, nan, nan])\n",
       "Coordinates:\n",
       "  * trajectory  (trajectory) int32 1 2 3 4 5 6 ... 2953 2954 2955 2956 2957 2958\n",
       "    time        datetime64[ns] 2018-01-16T04:20:00\n",
       "    lon         (trajectory) float32 9.96921e+36 125.85207 ... 9.96921e+36\n",
       "    lat         (trajectory) float32 9.96921e+36 28.504345 ... 9.96921e+36\n",
       "Attributes:\n",
       "    valid_range:    [0 1]\n",
       "    flag_values:    [0 1]\n",
       "    flag_meanings:  active evaporated"
      ]
     },
     "execution_count": 16,
     "metadata": {},
     "output_type": "execute_result"
    }
   ],
   "source": [
    "# 再对status进行<1的筛选，当=1 时表示粒子死亡（到了落地——需要再看api）\n",
    "xr_temp_x.where(xr_temp_x>=0).where(xr_temp_x<1)"
   ]
  },
  {
   "cell_type": "markdown",
   "metadata": {},
   "source": [
    "### dropna的方式1：直接对DataArray进行dropna  \n",
    "* TypeError: dropna() missing 1 required positional argument: 'dim'"
   ]
  },
  {
   "cell_type": "code",
   "execution_count": 17,
   "metadata": {},
   "outputs": [
    {
     "data": {
      "text/html": [
       "<pre>&lt;xarray.DataArray &#x27;status&#x27; (trajectory: 5)&gt;\n",
       "array([0., 0., 0., 0., 0.])\n",
       "Coordinates:\n",
       "  * trajectory  (trajectory) int32 2 4 5 9 10\n",
       "    time        datetime64[ns] 2018-01-16T04:20:00\n",
       "    lon         (trajectory) float32 125.85207 125.83755 ... 125.94137\n",
       "    lat         (trajectory) float32 28.504345 28.53567 ... 28.548067 28.543129\n",
       "Attributes:\n",
       "    valid_range:    [0 1]\n",
       "    flag_values:    [0 1]\n",
       "    flag_meanings:  active evaporated</pre>"
      ],
      "text/plain": [
       "<xarray.DataArray 'status' (trajectory: 5)>\n",
       "array([0., 0., 0., 0., 0.])\n",
       "Coordinates:\n",
       "  * trajectory  (trajectory) int32 2 4 5 9 10\n",
       "    time        datetime64[ns] 2018-01-16T04:20:00\n",
       "    lon         (trajectory) float32 125.85207 125.83755 ... 125.94137\n",
       "    lat         (trajectory) float32 28.504345 28.53567 ... 28.548067 28.543129\n",
       "Attributes:\n",
       "    valid_range:    [0 1]\n",
       "    flag_values:    [0 1]\n",
       "    flag_meanings:  active evaporated"
      ]
     },
     "execution_count": 17,
     "metadata": {},
     "output_type": "execute_result"
    }
   ],
   "source": [
    "xr_filter=xr_temp_x.where(xr_temp_x>=0).dropna(dim='trajectory',how='any')\n",
    "xr_filter.head()"
   ]
  },
  {
   "cell_type": "code",
   "execution_count": 18,
   "metadata": {},
   "outputs": [
    {
     "data": {
      "text/plain": [
       "901"
      ]
     },
     "execution_count": 18,
     "metadata": {},
     "output_type": "execute_result"
    }
   ],
   "source": [
    "# 查看一下长度\n",
    "len(xr_filter)"
   ]
  },
  {
   "cell_type": "markdown",
   "metadata": {},
   "source": [
    "### dropna的方式2：由于xarray中`DataArray`的dropna也是继承自`pandas`与`numpy`的  \n",
    "* xarray objects borrow the isnull(), notnull(), count(), dropna(), fillna(), ffill(), and bfill() methods for working with missing data from pandas:   \n",
    " \n",
    "[missing values](https://xarray-test.readthedocs.io/en/latest/computation.html)"
   ]
  },
  {
   "cell_type": "code",
   "execution_count": 19,
   "metadata": {},
   "outputs": [
    {
     "data": {
      "text/plain": [
       "901"
      ]
     },
     "execution_count": 19,
     "metadata": {},
     "output_type": "execute_result"
    }
   ],
   "source": [
    "len(xr_temp_x.where(xr_temp_x>=0).to_dataframe().dropna(how='any'))"
   ]
  },
  {
   "cell_type": "markdown",
   "metadata": {},
   "source": [
    "## 2 求均值"
   ]
  },
  {
   "cell_type": "code",
   "execution_count": 20,
   "metadata": {},
   "outputs": [
    {
     "data": {
      "text/html": [
       "<pre>&lt;xarray.DataArray &#x27;lat&#x27; ()&gt;\n",
       "array(28.47951, dtype=float32)\n",
       "Coordinates:\n",
       "    time     datetime64[ns] 2018-01-16T04:20:00</pre>"
      ],
      "text/plain": [
       "<xarray.DataArray 'lat' ()>\n",
       "array(28.47951, dtype=float32)\n",
       "Coordinates:\n",
       "    time     datetime64[ns] 2018-01-16T04:20:00"
      ]
     },
     "execution_count": 20,
     "metadata": {},
     "output_type": "execute_result"
    }
   ],
   "source": [
    "xr_filter['lat'].mean()"
   ]
  },
  {
   "cell_type": "code",
   "execution_count": 21,
   "metadata": {},
   "outputs": [
    {
     "data": {
      "text/html": [
       "<pre>&lt;xarray.DataArray &#x27;lon&#x27; ()&gt;\n",
       "array(125.88219, dtype=float32)\n",
       "Coordinates:\n",
       "    time     datetime64[ns] 2018-01-16T04:20:00</pre>"
      ],
      "text/plain": [
       "<xarray.DataArray 'lon' ()>\n",
       "array(125.88219, dtype=float32)\n",
       "Coordinates:\n",
       "    time     datetime64[ns] 2018-01-16T04:20:00"
      ]
     },
     "execution_count": 21,
     "metadata": {},
     "output_type": "execute_result"
    }
   ],
   "source": [
    "xr_filter['lon'].mean()"
   ]
  },
  {
   "cell_type": "code",
   "execution_count": 22,
   "metadata": {},
   "outputs": [
    {
     "data": {
      "text/html": [
       "<pre>&lt;xarray.DataArray &#x27;status&#x27; ()&gt;\n",
       "array(0.01664817)\n",
       "Coordinates:\n",
       "    time     datetime64[ns] 2018-01-16T04:20:00</pre>"
      ],
      "text/plain": [
       "<xarray.DataArray 'status' ()>\n",
       "array(0.01664817)\n",
       "Coordinates:\n",
       "    time     datetime64[ns] 2018-01-16T04:20:00"
      ]
     },
     "execution_count": 22,
     "metadata": {},
     "output_type": "execute_result"
    }
   ],
   "source": [
    "xr_filter.mean()"
   ]
  },
  {
   "cell_type": "markdown",
   "metadata": {},
   "source": [
    "获取均值结果  \n",
    "对于`ndarray.data.tolist()`"
   ]
  },
  {
   "cell_type": "code",
   "execution_count": 23,
   "metadata": {},
   "outputs": [
    {
     "data": {
      "text/plain": [
       "28.479509353637695"
      ]
     },
     "execution_count": 23,
     "metadata": {},
     "output_type": "execute_result"
    }
   ],
   "source": [
    "# 获取DataArray的唯一值\n",
    "xr_filter['lat'].mean().data.tolist()"
   ]
  },
  {
   "cell_type": "code",
   "execution_count": 24,
   "metadata": {},
   "outputs": [
    {
     "data": {
      "text/plain": [
       "125.88218688964844"
      ]
     },
     "execution_count": 24,
     "metadata": {},
     "output_type": "execute_result"
    }
   ],
   "source": [
    "xr_filter['lon'].mean().data.tolist()"
   ]
  },
  {
   "cell_type": "code",
   "execution_count": 39,
   "metadata": {},
   "outputs": [
    {
     "data": {
      "text/plain": [
       "array(125.88219, dtype=float32)"
      ]
     },
     "execution_count": 39,
     "metadata": {},
     "output_type": "execute_result"
    }
   ],
   "source": [
    "xr_filter['lon'].mean().values"
   ]
  },
  {
   "cell_type": "code",
   "execution_count": 69,
   "metadata": {},
   "outputs": [
    {
     "data": {
      "text/plain": [
       "0.016648168701442843"
      ]
     },
     "execution_count": 69,
     "metadata": {},
     "output_type": "execute_result"
    }
   ],
   "source": [
    "xr_filter.mean().data.tolist()"
   ]
  },
  {
   "cell_type": "code",
   "execution_count": null,
   "metadata": {},
   "outputs": [],
   "source": []
  }
 ],
 "metadata": {
  "kernelspec": {
   "display_name": "Python 3",
   "language": "python",
   "name": "python3"
  },
  "language_info": {
   "codemirror_mode": {
    "name": "ipython",
    "version": 3
   },
   "file_extension": ".py",
   "mimetype": "text/x-python",
   "name": "python",
   "nbconvert_exporter": "python",
   "pygments_lexer": "ipython3",
   "version": "3.7.4"
  }
 },
 "nbformat": 4,
 "nbformat_minor": 2
}
