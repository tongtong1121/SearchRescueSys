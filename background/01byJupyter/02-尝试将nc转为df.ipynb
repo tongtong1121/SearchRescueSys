{
 "cells": [
  {
   "cell_type": "code",
   "execution_count": 1,
   "metadata": {},
   "outputs": [
    {
     "ename": "ModuleNotFoundError",
     "evalue": "No module named 'netCDF4'",
     "output_type": "error",
     "traceback": [
      "\u001b[1;31m---------------------------------------------------------------------------\u001b[0m",
      "\u001b[1;31mModuleNotFoundError\u001b[0m                       Traceback (most recent call last)",
      "\u001b[1;32m<ipython-input-1-ba931baec953>\u001b[0m in \u001b[0;36m<module>\u001b[1;34m\u001b[0m\n\u001b[0;32m      1\u001b[0m \u001b[1;32mimport\u001b[0m \u001b[0mnumpy\u001b[0m \u001b[1;32mas\u001b[0m \u001b[0mnp\u001b[0m\u001b[1;33m\u001b[0m\u001b[1;33m\u001b[0m\u001b[0m\n\u001b[1;32m----> 2\u001b[1;33m \u001b[1;32mimport\u001b[0m \u001b[0mnetCDF4\u001b[0m \u001b[1;32mas\u001b[0m \u001b[0mnc\u001b[0m\u001b[1;33m\u001b[0m\u001b[1;33m\u001b[0m\u001b[0m\n\u001b[0m\u001b[0;32m      3\u001b[0m \u001b[1;32mimport\u001b[0m \u001b[0mpandas\u001b[0m \u001b[1;32mas\u001b[0m \u001b[0mpd\u001b[0m\u001b[1;33m\u001b[0m\u001b[1;33m\u001b[0m\u001b[0m\n",
      "\u001b[1;31mModuleNotFoundError\u001b[0m: No module named 'netCDF4'"
     ]
    }
   ],
   "source": [
    "import numpy as np\n",
    "import netCDF4 as nc\n",
    "import pandas as pd"
   ]
  },
  {
   "cell_type": "code",
   "execution_count": 2,
   "metadata": {},
   "outputs": [],
   "source": [
    "file_path='./qz_ty1_100p.nc'"
   ]
  },
  {
   "cell_type": "code",
   "execution_count": 4,
   "metadata": {},
   "outputs": [],
   "source": [
    "ds=nc.Dataset(file_path)"
   ]
  },
  {
   "cell_type": "code",
   "execution_count": 9,
   "metadata": {},
   "outputs": [
    {
     "data": {
      "text/plain": [
       "<class 'netCDF4._netCDF4.Dataset'>\n",
       "root group (NETCDF4 data model, file format HDF5):\n",
       "    Conventions: CF-1.6\n",
       "    standard_name_vocabulary: CF-1.6\n",
       "    featureType: trajectory\n",
       "    history: Created 2019-03-22 16:30:39.491557\n",
       "    source: Output from simulation with OpenDrift\n",
       "    model_url: https://github.com/OpenDrift/opendrift\n",
       "    opendrift_class: Leeway\n",
       "    opendrift_module: opendrift.models.leeway\n",
       "    readers: odict_keys(['E:\\\\project\\\\oilspill_rescue\\\\rescue\\\\data\\\\curr\\\\ecs_curr_20160722_opdr.nc', 'E:\\\\project\\\\oilspill_rescue\\\\rescue\\\\data\\\\wind\\\\nmefc_2016072112_opdr.nc', 'basemap_landmask'])\n",
       "    time_coverage_start: 2016-07-21 21:00:00\n",
       "    time_step_calculation: 0:30:00\n",
       "    time_step_output: 0:30:00\n",
       "    config_seed:object_type: Person-in-water (PIW), unknown state (mean values)\n",
       "    config_seed:jibeProbability: 0.04\n",
       "    config_seed:ocean_only: True\n",
       "    config_general:use_basemap_landmask: True\n",
       "    config_general:basemap_resolution: h\n",
       "    config_general:coastline_action: stranding\n",
       "    config_general:time_step_minutes: 10\n",
       "    config_general:time_step_output_minutes: 60\n",
       "    config_drift:max_age_seconds: None\n",
       "    config_drift:scheme: euler\n",
       "    config_drift:stokes_drift: True\n",
       "    config_drift:current_uncertainty: 0.0\n",
       "    config_drift:current_uncertainty_uniform: 0.0\n",
       "    config_drift:wind_uncertainty: 0.0\n",
       "    config_drift:relative_wind: False\n",
       "    config_drift:lift_to_seafloor: True\n",
       "    config_drift:deactivate_north_of: None\n",
       "    config_drift:deactivate_south_of: None\n",
       "    config_drift:deactivate_east_of: None\n",
       "    config_drift:deactivate_west_of: None\n",
       "    config_drift:use_tabularised_stokes_drift: False\n",
       "    config_drift:tabularised_stokes_drift_fetch: 25000\n",
       "    opendrift_version: 1.0.6\n",
       "    time_coverage_end: 2016-07-22 09:00:00\n",
       "    geospatial_lat_min: 0.0\n",
       "    geospatial_lat_max: 0.0\n",
       "    geospatial_lat_units: degrees_north\n",
       "    geospatial_lat_resolution: point\n",
       "    geospatial_lon_min: 0.0\n",
       "    geospatial_lon_max: 0.0\n",
       "    geospatial_lon_units: degrees_east\n",
       "    geospatial_lon_resolution: point\n",
       "    runtime: 0:00:09.327774\n",
       "    dimensions(sizes): trajectory(100), time(25)\n",
       "    variables(dimensions): int32 \u001b[4mtrajectory\u001b[0m(trajectory), float64 \u001b[4mtime\u001b[0m(time), int32 \u001b[4mstatus\u001b[0m(trajectory,time), float32 \u001b[4mage_seconds\u001b[0m(trajectory,time), float32 \u001b[4mlon\u001b[0m(trajectory,time), float32 \u001b[4mlat\u001b[0m(trajectory,time), float32 \u001b[4mz\u001b[0m(trajectory,time), int16 \u001b[4mobjectType\u001b[0m(trajectory,time), int16 \u001b[4morientation\u001b[0m(trajectory,time), float32 \u001b[4mjibeProbability\u001b[0m(trajectory,time), float32 \u001b[4mdownwindSlope\u001b[0m(trajectory,time), float32 \u001b[4mcrosswindSlope\u001b[0m(trajectory,time), float32 \u001b[4mdownwindOffset\u001b[0m(trajectory,time), float32 \u001b[4mcrosswindOffset\u001b[0m(trajectory,time), float32 \u001b[4mdownwindEps\u001b[0m(trajectory,time), float32 \u001b[4mcrosswindEps\u001b[0m(trajectory,time), float32 \u001b[4mx_wind\u001b[0m(trajectory,time), float32 \u001b[4my_wind\u001b[0m(trajectory,time), float32 \u001b[4mx_sea_water_velocity\u001b[0m(trajectory,time), float32 \u001b[4my_sea_water_velocity\u001b[0m(trajectory,time), float32 \u001b[4mland_binary_mask\u001b[0m(trajectory,time)\n",
       "    groups: "
      ]
     },
     "execution_count": 9,
     "metadata": {},
     "output_type": "execute_result"
    }
   ],
   "source": [
    "ds"
   ]
  },
  {
   "cell_type": "code",
   "execution_count": 5,
   "metadata": {},
   "outputs": [
    {
     "data": {
      "text/plain": [
       "odict_keys(['trajectory', 'time', 'status', 'age_seconds', 'lon', 'lat', 'z', 'objectType', 'orientation', 'jibeProbability', 'downwindSlope', 'crosswindSlope', 'downwindOffset', 'crosswindOffset', 'downwindEps', 'crosswindEps', 'x_wind', 'y_wind', 'x_sea_water_velocity', 'y_sea_water_velocity', 'land_binary_mask'])"
      ]
     },
     "execution_count": 5,
     "metadata": {},
     "output_type": "execute_result"
    }
   ],
   "source": [
    "ds.variables.keys()"
   ]
  },
  {
   "cell_type": "markdown",
   "metadata": {},
   "source": [
    "获取经纬度"
   ]
  },
  {
   "cell_type": "code",
   "execution_count": 10,
   "metadata": {},
   "outputs": [
    {
     "data": {
      "text/plain": [
       "<class 'netCDF4._netCDF4.Variable'>\n",
       "float32 lat(trajectory, time)\n",
       "    coordinates: lat lon time\n",
       "    units: degrees_north\n",
       "    standard_name: latitude\n",
       "    long_name: latitude\n",
       "unlimited dimensions: \n",
       "current shape = (100, 25)\n",
       "filling on, default _FillValue of 9.969209968386869e+36 used"
      ]
     },
     "execution_count": 10,
     "metadata": {},
     "output_type": "execute_result"
    }
   ],
   "source": [
    "ds['lat']"
   ]
  },
  {
   "cell_type": "code",
   "execution_count": 11,
   "metadata": {},
   "outputs": [
    {
     "data": {
      "text/plain": [
       "<class 'netCDF4._netCDF4.Variable'>\n",
       "float32 lon(trajectory, time)\n",
       "    coordinates: lat lon time\n",
       "    units: degrees_east\n",
       "    standard_name: longitude\n",
       "    long_name: longitude\n",
       "unlimited dimensions: \n",
       "current shape = (100, 25)\n",
       "filling on, default _FillValue of 9.969209968386869e+36 used"
      ]
     },
     "execution_count": 11,
     "metadata": {},
     "output_type": "execute_result"
    }
   ],
   "source": [
    "ds['lon']"
   ]
  },
  {
   "cell_type": "code",
   "execution_count": 12,
   "metadata": {},
   "outputs": [
    {
     "data": {
      "text/plain": [
       "<class 'netCDF4._netCDF4.Variable'>\n",
       "float32 x_wind(trajectory, time)\n",
       "    coordinates: lat lon time\n",
       "unlimited dimensions: \n",
       "current shape = (100, 25)\n",
       "filling on, default _FillValue of 9.969209968386869e+36 used"
      ]
     },
     "execution_count": 12,
     "metadata": {},
     "output_type": "execute_result"
    }
   ],
   "source": [
    "ds['x_wind']"
   ]
  },
  {
   "cell_type": "markdown",
   "metadata": {},
   "source": [
    "---"
   ]
  },
  {
   "cell_type": "code",
   "execution_count": null,
   "metadata": {},
   "outputs": [],
   "source": []
  },
  {
   "cell_type": "code",
   "execution_count": 61,
   "metadata": {},
   "outputs": [
    {
     "data": {
      "text/plain": [
       "array([ 24.73528862,  24.73561668,  24.73707008,  24.73965454,\n",
       "        24.74335098,  24.74814987,  24.75413895,  24.76133919,\n",
       "        24.7696228 ,  24.77903557,  24.78861809,  24.7991066 ,\n",
       "        24.80935287,  24.81930733,  24.82858086,  24.83700943,\n",
       "        24.84433365,  24.85040665,  24.85494041,  24.8579483 ,\n",
       "        24.85980797,  24.86050797,  24.86116219,  24.86176109,  24.86278915], dtype=float32)"
      ]
     },
     "execution_count": 61,
     "metadata": {},
     "output_type": "execute_result"
    }
   ],
   "source": [
    "lat_arr=ds['lat'][:][0]\n",
    "lat_arr=lat_arr.data\n",
    "lat_arr"
   ]
  },
  {
   "cell_type": "code",
   "execution_count": 62,
   "metadata": {},
   "outputs": [
    {
     "data": {
      "text/plain": [
       "array([ 118.91770172,  118.92442322,  118.93193817,  118.9402771 ,\n",
       "        118.94933319,  118.95915222,  118.96904755,  118.97901917,\n",
       "        118.98840332,  118.99717712,  119.00582886,  119.01359558,\n",
       "        119.02024841,  119.02571869,  119.03034973,  119.03404236,\n",
       "        119.03740692,  119.04039764,  119.04359436,  119.04608917,\n",
       "        119.04959869,  119.05423737,  119.06019592,  119.06761169,\n",
       "        119.07646179], dtype=float32)"
      ]
     },
     "execution_count": 62,
     "metadata": {},
     "output_type": "execute_result"
    }
   ],
   "source": [
    "lon_arr=ds['lon'][:][0]\n",
    "lon_arr=lon_arr.data\n",
    "lon_arr"
   ]
  },
  {
   "cell_type": "code",
   "execution_count": 64,
   "metadata": {},
   "outputs": [
    {
     "data": {
      "text/plain": [
       "array([  1.46913480e+09,   1.46913660e+09,   1.46913840e+09,\n",
       "         1.46914020e+09,   1.46914200e+09,   1.46914380e+09,\n",
       "         1.46914560e+09,   1.46914740e+09,   1.46914920e+09,\n",
       "         1.46915100e+09,   1.46915280e+09,   1.46915460e+09,\n",
       "         1.46915640e+09,   1.46915820e+09,   1.46916000e+09,\n",
       "         1.46916180e+09,   1.46916360e+09,   1.46916540e+09,\n",
       "         1.46916720e+09,   1.46916900e+09,   1.46917080e+09,\n",
       "         1.46917260e+09,   1.46917440e+09,   1.46917620e+09,\n",
       "         1.46917800e+09])"
      ]
     },
     "execution_count": 64,
     "metadata": {},
     "output_type": "execute_result"
    }
   ],
   "source": [
    "time_arr=ds['time'][:]\n",
    "time_arr=time_arr.data\n",
    "time_arr"
   ]
  },
  {
   "cell_type": "markdown",
   "metadata": {},
   "source": [
    "获取时间"
   ]
  },
  {
   "cell_type": "code",
   "execution_count": 15,
   "metadata": {},
   "outputs": [
    {
     "data": {
      "text/plain": [
       "masked_array(data = [  1.46913480e+09   1.46913660e+09   1.46913840e+09   1.46914020e+09\n",
       "   1.46914200e+09   1.46914380e+09   1.46914560e+09   1.46914740e+09\n",
       "   1.46914920e+09   1.46915100e+09   1.46915280e+09   1.46915460e+09\n",
       "   1.46915640e+09   1.46915820e+09   1.46916000e+09   1.46916180e+09\n",
       "   1.46916360e+09   1.46916540e+09   1.46916720e+09   1.46916900e+09\n",
       "   1.46917080e+09   1.46917260e+09   1.46917440e+09   1.46917620e+09\n",
       "   1.46917800e+09],\n",
       "             mask = False,\n",
       "       fill_value = 1e+20)"
      ]
     },
     "execution_count": 15,
     "metadata": {},
     "output_type": "execute_result"
    }
   ],
   "source": [
    "ds['time'][:]"
   ]
  },
  {
   "cell_type": "markdown",
   "metadata": {},
   "source": [
    "时间戳转换一下"
   ]
  },
  {
   "cell_type": "code",
   "execution_count": 65,
   "metadata": {},
   "outputs": [
    {
     "data": {
      "text/plain": [
       "array([datetime.datetime(2016, 7, 21, 21, 0),\n",
       "       datetime.datetime(2016, 7, 21, 21, 30),\n",
       "       datetime.datetime(2016, 7, 21, 22, 0),\n",
       "       datetime.datetime(2016, 7, 21, 22, 30),\n",
       "       datetime.datetime(2016, 7, 21, 23, 0),\n",
       "       datetime.datetime(2016, 7, 21, 23, 30),\n",
       "       datetime.datetime(2016, 7, 22, 0, 0),\n",
       "       datetime.datetime(2016, 7, 22, 0, 30),\n",
       "       datetime.datetime(2016, 7, 22, 1, 0),\n",
       "       datetime.datetime(2016, 7, 22, 1, 30),\n",
       "       datetime.datetime(2016, 7, 22, 2, 0),\n",
       "       datetime.datetime(2016, 7, 22, 2, 30),\n",
       "       datetime.datetime(2016, 7, 22, 3, 0),\n",
       "       datetime.datetime(2016, 7, 22, 3, 30),\n",
       "       datetime.datetime(2016, 7, 22, 4, 0),\n",
       "       datetime.datetime(2016, 7, 22, 4, 30),\n",
       "       datetime.datetime(2016, 7, 22, 5, 0),\n",
       "       datetime.datetime(2016, 7, 22, 5, 30),\n",
       "       datetime.datetime(2016, 7, 22, 6, 0),\n",
       "       datetime.datetime(2016, 7, 22, 6, 30),\n",
       "       datetime.datetime(2016, 7, 22, 7, 0),\n",
       "       datetime.datetime(2016, 7, 22, 7, 30),\n",
       "       datetime.datetime(2016, 7, 22, 8, 0),\n",
       "       datetime.datetime(2016, 7, 22, 8, 30),\n",
       "       datetime.datetime(2016, 7, 22, 9, 0)], dtype=object)"
      ]
     },
     "execution_count": 65,
     "metadata": {},
     "output_type": "execute_result"
    }
   ],
   "source": [
    "nc.num2date(ds['time'][:],'seconds since 1970-1-1 00:00:00')"
   ]
  },
  {
   "cell_type": "code",
   "execution_count": 6,
   "metadata": {},
   "outputs": [
    {
     "data": {
      "text/plain": [
       "masked_array(data=[4.9943113 , 4.819668  , 4.643057  , 4.4523664 ,\n",
       "                   4.2689314 , 4.0722084 , 3.8735173 , 3.636588  ,\n",
       "                   3.4052265 , 2.9808044 , 2.5597134 , 2.3360996 ,\n",
       "                   2.0964293 , 1.695421  , 1.2825478 , 1.0027671 ,\n",
       "                   0.7237536 , 0.84759426, 0.97972023, 1.099313  ,\n",
       "                   1.22127   , 1.1062148 , 0.98705584, 0.9541023 ,\n",
       "                   0.9541023 ],\n",
       "             mask=False,\n",
       "       fill_value=1e+20,\n",
       "            dtype=float32)"
      ]
     },
     "execution_count": 6,
     "metadata": {},
     "output_type": "execute_result"
    }
   ],
   "source": [
    "ds['x_wind'][:][0]"
   ]
  },
  {
   "cell_type": "code",
   "execution_count": 8,
   "metadata": {},
   "outputs": [
    {
     "data": {
      "text/plain": [
       "masked_array(data=[4.994295 , 4.822786 , 4.64817  , 4.4606676, 4.2798095,\n",
       "                   4.090003 , 3.8988128, 3.6627917, 3.431748 , 3.0126443,\n",
       "                   2.5912645, 2.376686 , 2.1493173, 1.7629353, 1.367547 ,\n",
       "                   1.0965215, 0.8244733, 0.9346679, 1.0528136, 1.1598122,\n",
       "                   1.2659687, 1.1801863, 1.0875015, 1.0371913, 1.0371913],\n",
       "             mask=False,\n",
       "       fill_value=1e+20,\n",
       "            dtype=float32)"
      ]
     },
     "execution_count": 8,
     "metadata": {},
     "output_type": "execute_result"
    }
   ],
   "source": [
    "ds['x_wind'][:][1]"
   ]
  },
  {
   "cell_type": "code",
   "execution_count": 7,
   "metadata": {},
   "outputs": [
    {
     "data": {
      "text/plain": [
       "numpy.ma.core.MaskedArray"
      ]
     },
     "execution_count": 7,
     "metadata": {},
     "output_type": "execute_result"
    }
   ],
   "source": [
    "type(ds['x_wind'][:][0])"
   ]
  },
  {
   "cell_type": "code",
   "execution_count": 23,
   "metadata": {},
   "outputs": [
    {
     "data": {
      "text/plain": [
       "array([ 4.99431133,  4.81966782,  4.64305687,  4.45236635,  4.26893139,\n",
       "        4.0722084 ,  3.87351727,  3.6365881 ,  3.40522647,  2.98080444,\n",
       "        2.55971336,  2.33609962,  2.09642935,  1.69542098,  1.28254783,\n",
       "        1.00276709,  0.72375357,  0.84759426,  0.97972023,  1.09931302,\n",
       "        1.22126997,  1.10621476,  0.98705584,  0.95410228,  0.95410228], dtype=float32)"
      ]
     },
     "execution_count": 23,
     "metadata": {},
     "output_type": "execute_result"
    }
   ],
   "source": [
    "x_wind_arr=ds['x_wind'][:][0].data\n",
    "x_wind_arr"
   ]
  },
  {
   "cell_type": "code",
   "execution_count": 43,
   "metadata": {},
   "outputs": [
    {
     "data": {
      "text/html": [
       "<div>\n",
       "<style>\n",
       "    .dataframe thead tr:only-child th {\n",
       "        text-align: right;\n",
       "    }\n",
       "\n",
       "    .dataframe thead th {\n",
       "        text-align: left;\n",
       "    }\n",
       "\n",
       "    .dataframe tbody tr th {\n",
       "        vertical-align: top;\n",
       "    }\n",
       "</style>\n",
       "<table border=\"1\" class=\"dataframe\">\n",
       "  <thead>\n",
       "    <tr style=\"text-align: right;\">\n",
       "      <th></th>\n",
       "      <th>0</th>\n",
       "    </tr>\n",
       "  </thead>\n",
       "  <tbody>\n",
       "    <tr>\n",
       "      <th>0</th>\n",
       "      <td>4.994311</td>\n",
       "    </tr>\n",
       "    <tr>\n",
       "      <th>1</th>\n",
       "      <td>4.819668</td>\n",
       "    </tr>\n",
       "    <tr>\n",
       "      <th>2</th>\n",
       "      <td>4.643057</td>\n",
       "    </tr>\n",
       "    <tr>\n",
       "      <th>3</th>\n",
       "      <td>4.452366</td>\n",
       "    </tr>\n",
       "    <tr>\n",
       "      <th>4</th>\n",
       "      <td>4.268931</td>\n",
       "    </tr>\n",
       "  </tbody>\n",
       "</table>\n",
       "</div>"
      ],
      "text/plain": [
       "          0\n",
       "0  4.994311\n",
       "1  4.819668\n",
       "2  4.643057\n",
       "3  4.452366\n",
       "4  4.268931"
      ]
     },
     "execution_count": 43,
     "metadata": {},
     "output_type": "execute_result"
    }
   ],
   "source": [
    "wind_df=pd.DataFrame(x_wind_arr)\n",
    "wind_df[:5]"
   ]
  },
  {
   "cell_type": "code",
   "execution_count": 45,
   "metadata": {},
   "outputs": [
    {
     "data": {
      "text/html": [
       "<div>\n",
       "<style>\n",
       "    .dataframe thead tr:only-child th {\n",
       "        text-align: right;\n",
       "    }\n",
       "\n",
       "    .dataframe thead th {\n",
       "        text-align: left;\n",
       "    }\n",
       "\n",
       "    .dataframe tbody tr th {\n",
       "        vertical-align: top;\n",
       "    }\n",
       "</style>\n",
       "<table border=\"1\" class=\"dataframe\">\n",
       "  <thead>\n",
       "    <tr style=\"text-align: right;\">\n",
       "      <th></th>\n",
       "      <th>0</th>\n",
       "    </tr>\n",
       "  </thead>\n",
       "  <tbody>\n",
       "    <tr>\n",
       "      <th>0</th>\n",
       "      <td>24.735289</td>\n",
       "    </tr>\n",
       "    <tr>\n",
       "      <th>1</th>\n",
       "      <td>24.735617</td>\n",
       "    </tr>\n",
       "    <tr>\n",
       "      <th>2</th>\n",
       "      <td>24.737070</td>\n",
       "    </tr>\n",
       "    <tr>\n",
       "      <th>3</th>\n",
       "      <td>24.739655</td>\n",
       "    </tr>\n",
       "    <tr>\n",
       "      <th>4</th>\n",
       "      <td>24.743351</td>\n",
       "    </tr>\n",
       "  </tbody>\n",
       "</table>\n",
       "</div>"
      ],
      "text/plain": [
       "           0\n",
       "0  24.735289\n",
       "1  24.735617\n",
       "2  24.737070\n",
       "3  24.739655\n",
       "4  24.743351"
      ]
     },
     "execution_count": 45,
     "metadata": {},
     "output_type": "execute_result"
    }
   ],
   "source": [
    "lat_df=pd.DataFrame(lat_arr)\n",
    "lat_df.head()"
   ]
  },
  {
   "cell_type": "code",
   "execution_count": 46,
   "metadata": {},
   "outputs": [
    {
     "data": {
      "text/html": [
       "<div>\n",
       "<style>\n",
       "    .dataframe thead tr:only-child th {\n",
       "        text-align: right;\n",
       "    }\n",
       "\n",
       "    .dataframe thead th {\n",
       "        text-align: left;\n",
       "    }\n",
       "\n",
       "    .dataframe tbody tr th {\n",
       "        vertical-align: top;\n",
       "    }\n",
       "</style>\n",
       "<table border=\"1\" class=\"dataframe\">\n",
       "  <thead>\n",
       "    <tr style=\"text-align: right;\">\n",
       "      <th></th>\n",
       "      <th>0</th>\n",
       "    </tr>\n",
       "  </thead>\n",
       "  <tbody>\n",
       "    <tr>\n",
       "      <th>0</th>\n",
       "      <td>118.917702</td>\n",
       "    </tr>\n",
       "    <tr>\n",
       "      <th>1</th>\n",
       "      <td>118.924423</td>\n",
       "    </tr>\n",
       "    <tr>\n",
       "      <th>2</th>\n",
       "      <td>118.931938</td>\n",
       "    </tr>\n",
       "    <tr>\n",
       "      <th>3</th>\n",
       "      <td>118.940277</td>\n",
       "    </tr>\n",
       "    <tr>\n",
       "      <th>4</th>\n",
       "      <td>118.949333</td>\n",
       "    </tr>\n",
       "  </tbody>\n",
       "</table>\n",
       "</div>"
      ],
      "text/plain": [
       "            0\n",
       "0  118.917702\n",
       "1  118.924423\n",
       "2  118.931938\n",
       "3  118.940277\n",
       "4  118.949333"
      ]
     },
     "execution_count": 46,
     "metadata": {},
     "output_type": "execute_result"
    }
   ],
   "source": [
    "time_df=pd.DataFrame(time_arr)\n",
    "time_df.head()"
   ]
  },
  {
   "cell_type": "code",
   "execution_count": 42,
   "metadata": {},
   "outputs": [
    {
     "data": {
      "text/html": [
       "<div>\n",
       "<style>\n",
       "    .dataframe thead tr:only-child th {\n",
       "        text-align: right;\n",
       "    }\n",
       "\n",
       "    .dataframe thead th {\n",
       "        text-align: left;\n",
       "    }\n",
       "\n",
       "    .dataframe tbody tr th {\n",
       "        vertical-align: top;\n",
       "    }\n",
       "</style>\n",
       "<table border=\"1\" class=\"dataframe\">\n",
       "  <thead>\n",
       "    <tr style=\"text-align: right;\">\n",
       "      <th></th>\n",
       "      <th>0</th>\n",
       "    </tr>\n",
       "  </thead>\n",
       "  <tbody>\n",
       "    <tr>\n",
       "      <th>0</th>\n",
       "      <td>148.647308</td>\n",
       "    </tr>\n",
       "    <tr>\n",
       "      <th>1</th>\n",
       "      <td>148.479706</td>\n",
       "    </tr>\n",
       "    <tr>\n",
       "      <th>2</th>\n",
       "      <td>148.312073</td>\n",
       "    </tr>\n",
       "    <tr>\n",
       "      <th>3</th>\n",
       "      <td>148.132294</td>\n",
       "    </tr>\n",
       "    <tr>\n",
       "      <th>4</th>\n",
       "      <td>147.961609</td>\n",
       "    </tr>\n",
       "    <tr>\n",
       "      <th>5</th>\n",
       "      <td>147.779510</td>\n",
       "    </tr>\n",
       "    <tr>\n",
       "      <th>6</th>\n",
       "      <td>147.596710</td>\n",
       "    </tr>\n",
       "    <tr>\n",
       "      <th>7</th>\n",
       "      <td>147.376953</td>\n",
       "    </tr>\n",
       "    <tr>\n",
       "      <th>8</th>\n",
       "      <td>147.163254</td>\n",
       "    </tr>\n",
       "    <tr>\n",
       "      <th>9</th>\n",
       "      <td>146.757019</td>\n",
       "    </tr>\n",
       "    <tr>\n",
       "      <th>10</th>\n",
       "      <td>146.354156</td>\n",
       "    </tr>\n",
       "    <tr>\n",
       "      <th>11</th>\n",
       "      <td>146.148804</td>\n",
       "    </tr>\n",
       "    <tr>\n",
       "      <th>12</th>\n",
       "      <td>145.926025</td>\n",
       "    </tr>\n",
       "    <tr>\n",
       "      <th>13</th>\n",
       "      <td>145.540451</td>\n",
       "    </tr>\n",
       "    <tr>\n",
       "      <th>14</th>\n",
       "      <td>145.141479</td>\n",
       "    </tr>\n",
       "    <tr>\n",
       "      <th>15</th>\n",
       "      <td>144.873825</td>\n",
       "    </tr>\n",
       "    <tr>\n",
       "      <th>16</th>\n",
       "      <td>144.605499</td>\n",
       "    </tr>\n",
       "    <tr>\n",
       "      <th>17</th>\n",
       "      <td>144.738403</td>\n",
       "    </tr>\n",
       "    <tr>\n",
       "      <th>18</th>\n",
       "      <td>144.878250</td>\n",
       "    </tr>\n",
       "    <tr>\n",
       "      <th>19</th>\n",
       "      <td>145.003357</td>\n",
       "    </tr>\n",
       "    <tr>\n",
       "      <th>20</th>\n",
       "      <td>145.130676</td>\n",
       "    </tr>\n",
       "    <tr>\n",
       "      <th>21</th>\n",
       "      <td>145.020966</td>\n",
       "    </tr>\n",
       "    <tr>\n",
       "      <th>22</th>\n",
       "      <td>144.908417</td>\n",
       "    </tr>\n",
       "    <tr>\n",
       "      <th>23</th>\n",
       "      <td>144.883469</td>\n",
       "    </tr>\n",
       "    <tr>\n",
       "      <th>24</th>\n",
       "      <td>144.893356</td>\n",
       "    </tr>\n",
       "  </tbody>\n",
       "</table>\n",
       "</div>"
      ],
      "text/plain": [
       "             0\n",
       "0   148.647308\n",
       "1   148.479706\n",
       "2   148.312073\n",
       "3   148.132294\n",
       "4   147.961609\n",
       "5   147.779510\n",
       "6   147.596710\n",
       "7   147.376953\n",
       "8   147.163254\n",
       "9   146.757019\n",
       "10  146.354156\n",
       "11  146.148804\n",
       "12  145.926025\n",
       "13  145.540451\n",
       "14  145.141479\n",
       "15  144.873825\n",
       "16  144.605499\n",
       "17  144.738403\n",
       "18  144.878250\n",
       "19  145.003357\n",
       "20  145.130676\n",
       "21  145.020966\n",
       "22  144.908417\n",
       "23  144.883469\n",
       "24  144.893356"
      ]
     },
     "execution_count": 42,
     "metadata": {},
     "output_type": "execute_result"
    }
   ],
   "source": [
    "wind_df+lat_df+time_df"
   ]
  },
  {
   "cell_type": "code",
   "execution_count": 47,
   "metadata": {},
   "outputs": [
    {
     "data": {
      "text/plain": [
       "[array([ 24.73528862,  24.73561668,  24.73707008,  24.73965454,\n",
       "         24.74335098,  24.74814987,  24.75413895,  24.76133919,\n",
       "         24.7696228 ,  24.77903557,  24.78861809,  24.7991066 ,\n",
       "         24.80935287,  24.81930733,  24.82858086,  24.83700943,\n",
       "         24.84433365,  24.85040665,  24.85494041,  24.8579483 ,\n",
       "         24.85980797,  24.86050797,  24.86116219,  24.86176109,  24.86278915], dtype=float32),\n",
       " array([ 118.91770172,  118.92442322,  118.93193817,  118.9402771 ,\n",
       "         118.94933319,  118.95915222,  118.96904755,  118.97901917,\n",
       "         118.98840332,  118.99717712,  119.00582886,  119.01359558,\n",
       "         119.02024841,  119.02571869,  119.03034973,  119.03404236,\n",
       "         119.03740692,  119.04039764,  119.04359436,  119.04608917,\n",
       "         119.04959869,  119.05423737,  119.06019592,  119.06761169,\n",
       "         119.07646179], dtype=float32),\n",
       " array([ 4.99431133,  4.81966782,  4.64305687,  4.45236635,  4.26893139,\n",
       "         4.0722084 ,  3.87351727,  3.6365881 ,  3.40522647,  2.98080444,\n",
       "         2.55971336,  2.33609962,  2.09642935,  1.69542098,  1.28254783,\n",
       "         1.00276709,  0.72375357,  0.84759426,  0.97972023,  1.09931302,\n",
       "         1.22126997,  1.10621476,  0.98705584,  0.95410228,  0.95410228], dtype=float32)]"
      ]
     },
     "execution_count": 47,
     "metadata": {},
     "output_type": "execute_result"
    }
   ],
   "source": [
    "[lat_arr,time_arr,x_wind_arr]"
   ]
  },
  {
   "cell_type": "code",
   "execution_count": 50,
   "metadata": {},
   "outputs": [
    {
     "name": "stdout",
     "output_type": "stream",
     "text": [
      "[ 24.73528862  24.73561668  24.73707008  24.73965454  24.74335098\n",
      "  24.74814987  24.75413895  24.76133919  24.7696228   24.77903557\n",
      "  24.78861809  24.7991066   24.80935287  24.81930733  24.82858086\n",
      "  24.83700943  24.84433365  24.85040665  24.85494041  24.8579483\n",
      "  24.85980797  24.86050797  24.86116219  24.86176109  24.86278915]\n",
      "---\n",
      "[ 118.91770172  118.92442322  118.93193817  118.9402771   118.94933319\n",
      "  118.95915222  118.96904755  118.97901917  118.98840332  118.99717712\n",
      "  119.00582886  119.01359558  119.02024841  119.02571869  119.03034973\n",
      "  119.03404236  119.03740692  119.04039764  119.04359436  119.04608917\n",
      "  119.04959869  119.05423737  119.06019592  119.06761169  119.07646179]\n",
      "---\n",
      "[ 4.99431133  4.81966782  4.64305687  4.45236635  4.26893139  4.0722084\n",
      "  3.87351727  3.6365881   3.40522647  2.98080444  2.55971336  2.33609962\n",
      "  2.09642935  1.69542098  1.28254783  1.00276709  0.72375357  0.84759426\n",
      "  0.97972023  1.09931302  1.22126997  1.10621476  0.98705584  0.95410228\n",
      "  0.95410228]\n",
      "---\n"
     ]
    }
   ],
   "source": [
    "for x in (lat_arr,time_arr,x_wind_arr):\n",
    "    print(x)\n",
    "#     print(y)\n",
    "#     print(z)\n",
    "    print('---')"
   ]
  },
  {
   "cell_type": "code",
   "execution_count": 56,
   "metadata": {},
   "outputs": [
    {
     "name": "stdout",
     "output_type": "stream",
     "text": [
      "24.7353\n",
      "118.918\n",
      "118.918\n",
      "4.99431\n",
      "--\n",
      "24.7356\n",
      "118.924\n",
      "118.924\n",
      "4.81967\n",
      "--\n",
      "24.7371\n",
      "118.932\n",
      "118.932\n",
      "4.64306\n",
      "--\n",
      "24.7397\n",
      "118.94\n",
      "118.94\n",
      "4.45237\n",
      "--\n",
      "24.7434\n",
      "118.949\n",
      "118.949\n",
      "4.26893\n",
      "--\n",
      "24.7481\n",
      "118.959\n",
      "118.959\n",
      "4.07221\n",
      "--\n",
      "24.7541\n",
      "118.969\n",
      "118.969\n",
      "3.87352\n",
      "--\n",
      "24.7613\n",
      "118.979\n",
      "118.979\n",
      "3.63659\n",
      "--\n",
      "24.7696\n",
      "118.988\n",
      "118.988\n",
      "3.40523\n",
      "--\n",
      "24.779\n",
      "118.997\n",
      "118.997\n",
      "2.9808\n",
      "--\n",
      "24.7886\n",
      "119.006\n",
      "119.006\n",
      "2.55971\n",
      "--\n",
      "24.7991\n",
      "119.014\n",
      "119.014\n",
      "2.3361\n",
      "--\n",
      "24.8094\n",
      "119.02\n",
      "119.02\n",
      "2.09643\n",
      "--\n",
      "24.8193\n",
      "119.026\n",
      "119.026\n",
      "1.69542\n",
      "--\n",
      "24.8286\n",
      "119.03\n",
      "119.03\n",
      "1.28255\n",
      "--\n",
      "24.837\n",
      "119.034\n",
      "119.034\n",
      "1.00277\n",
      "--\n",
      "24.8443\n",
      "119.037\n",
      "119.037\n",
      "0.723754\n",
      "--\n",
      "24.8504\n",
      "119.04\n",
      "119.04\n",
      "0.847594\n",
      "--\n",
      "24.8549\n",
      "119.044\n",
      "119.044\n",
      "0.97972\n",
      "--\n",
      "24.8579\n",
      "119.046\n",
      "119.046\n",
      "1.09931\n",
      "--\n",
      "24.8598\n",
      "119.05\n",
      "119.05\n",
      "1.22127\n",
      "--\n",
      "24.8605\n",
      "119.054\n",
      "119.054\n",
      "1.10621\n",
      "--\n",
      "24.8612\n",
      "119.06\n",
      "119.06\n",
      "0.987056\n",
      "--\n",
      "24.8618\n",
      "119.068\n",
      "119.068\n",
      "0.954102\n",
      "--\n",
      "24.8628\n",
      "119.076\n",
      "119.076\n",
      "0.954102\n",
      "--\n"
     ]
    }
   ],
   "source": [
    "for index in range(len(lat_arr)):\n",
    "    print(lat_arr[index])\n",
    "    print(lon_arr[index])\n",
    "    print(time_arr[index])\n",
    "    print(x_wind_arr[index])\n",
    "    print('--')"
   ]
  },
  {
   "cell_type": "code",
   "execution_count": null,
   "metadata": {
    "collapsed": true
   },
   "outputs": [],
   "source": []
  }
 ],
 "metadata": {
  "kernelspec": {
   "display_name": "Python 3",
   "language": "python",
   "name": "python3"
  },
  "language_info": {
   "codemirror_mode": {
    "name": "ipython",
    "version": 3
   },
   "file_extension": ".py",
   "mimetype": "text/x-python",
   "name": "python",
   "nbconvert_exporter": "python",
   "pygments_lexer": "ipython3",
   "version": "3.7.3"
  }
 },
 "nbformat": 4,
 "nbformat_minor": 2
}
