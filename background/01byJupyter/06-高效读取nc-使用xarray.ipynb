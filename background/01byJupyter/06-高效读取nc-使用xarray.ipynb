{
 "cells": [
  {
   "cell_type": "code",
   "execution_count": 1,
   "metadata": {},
   "outputs": [],
   "source": [
    "import numpy as np\n",
    "import netCDF4 as nc\n",
    "import pandas as pd\n",
    "import numpy.ma as ma"
   ]
  },
  {
   "cell_type": "code",
   "execution_count": 2,
   "metadata": {},
   "outputs": [],
   "source": [
    "import matplotlib as mpl\n",
    "import matplotlib.pyplot as plt"
   ]
  },
  {
   "cell_type": "code",
   "execution_count": 3,
   "metadata": {},
   "outputs": [
    {
     "name": "stderr",
     "output_type": "stream",
     "text": [
      "C:\\ProgramData\\Anaconda3\\lib\\site-packages\\distributed\\config.py:20: YAMLLoadWarning: calling yaml.load() without Loader=... is deprecated, as the default Loader is unsafe. Please read https://msg.pyyaml.org/load for full details.\n",
      "  defaults = yaml.load(f)\n"
     ]
    }
   ],
   "source": [
    "import xarray as xar"
   ]
  },
  {
   "cell_type": "code",
   "execution_count": 4,
   "metadata": {},
   "outputs": [],
   "source": [
    "file_path='./data/sanjioil.nc'"
   ]
  },
  {
   "cell_type": "code",
   "execution_count": 5,
   "metadata": {},
   "outputs": [],
   "source": [
    "ds=nc.Dataset(file_path)"
   ]
  },
  {
   "cell_type": "code",
   "execution_count": 8,
   "metadata": {},
   "outputs": [
    {
     "data": {
      "text/plain": [
       "<class 'netCDF4._netCDF4.Dataset'>\n",
       "root group (NETCDF4 data model, file format HDF5):\n",
       "    Conventions: CF-1.6\n",
       "    standard_name_vocabulary: CF-1.6\n",
       "    featureType: trajectory\n",
       "    history: Created 2019-08-01 11:42:45.072000\n",
       "    source: Output from simulation with OpenDrift\n",
       "    model_url: https://github.com/OpenDrift/opendrift\n",
       "    opendrift_class: OpenOil\n",
       "    opendrift_module: opendrift.models.openoil\n",
       "    readers: ['E:\\\\project\\\\oilspill_rescue\\\\curr_wind\\\\curr0_test.nc', 'E:\\\\project\\\\oilspill_rescue\\\\curr_wind\\\\wind0_test.nc', 'basemap_landmask']\n",
       "    time_coverage_start: 2018-01-14 22:20:00\n",
       "    time_step_calculation: 0:30:00\n",
       "    time_step_output: 1:00:00\n",
       "    config_seed:oil_type: MEDIUM (brage)\n",
       "    config_seed:ocean_only: True\n",
       "    config_general:use_basemap_landmask: True\n",
       "    config_general:basemap_resolution: h\n",
       "    config_general:coastline_action: stranding\n",
       "    config_general:time_step_minutes: 60\n",
       "    config_general:time_step_output_minutes: None\n",
       "    config_drift:max_age_seconds: None\n",
       "    config_drift:scheme: runge-kutta\n",
       "    config_drift:stokes_drift: True\n",
       "    config_drift:current_uncertainty: 0.5\n",
       "    config_drift:current_uncertainty_uniform: 0.0\n",
       "    config_drift:wind_uncertainty: 1\n",
       "    config_drift:relative_wind: False\n",
       "    config_drift:lift_to_seafloor: True\n",
       "    config_drift:deactivate_north_of: None\n",
       "    config_drift:deactivate_south_of: None\n",
       "    config_drift:deactivate_east_of: None\n",
       "    config_drift:deactivate_west_of: None\n",
       "    config_drift:use_tabularised_stokes_drift: False\n",
       "    config_drift:tabularised_stokes_drift_fetch: 25000\n",
       "    config_processes:dispersion: True\n",
       "    config_processes:evaporation: True\n",
       "    config_processes:emulsification: True\n",
       "    config_processes:update_oilfilm_thickness: False\n",
       "    opendrift_version: 1.0.6\n",
       "    time_coverage_end: 2018-01-17 22:20:00\n",
       "    geospatial_lat_min: 0.0\n",
       "    geospatial_lat_max: 0.0\n",
       "    geospatial_lat_units: degrees_north\n",
       "    geospatial_lat_resolution: point\n",
       "    geospatial_lon_min: 0.0\n",
       "    geospatial_lon_max: 0.0\n",
       "    geospatial_lon_units: degrees_east\n",
       "    geospatial_lon_resolution: point\n",
       "    runtime: 0:00:14.547000\n",
       "    dimensions(sizes): trajectory(2958), time(73)\n",
       "    variables(dimensions): int32 trajectory(trajectory), float64 time(time), float32 age_seconds(trajectory,time), float32 interfacial_area(trajectory,time), float32 mass_evaporated(trajectory,time), float32 water_fraction(trajectory,time), float32 y_wind(trajectory,time), float32 sea_ice_area_fraction(trajectory,time), float32 density(trajectory,time), float32 lon(trajectory,time), float32 oil_film_thickness(trajectory,time), float32 x_sea_water_velocity(trajectory,time), float32 bulltime(trajectory,time), float32 x_wind(trajectory,time), float32 age_emulsion_seconds(trajectory,time), float32 sea_surface_wave_stokes_drift_y_velocity(trajectory,time), int32 status(trajectory,time), float32 viscosity(trajectory,time), float32 sea_floor_depth_below_sea_level(trajectory,time), float32 lat(trajectory,time), float32 mass_dispersed(trajectory,time), float32 land_binary_mask(trajectory,time), float32 sea_surface_wave_significant_height(trajectory,time), float32 sea_water_temperature(trajectory,time), float32 mass_oil(trajectory,time), float32 age_exposure_seconds(trajectory,time), float32 sea_surface_wave_stokes_drift_x_velocity(trajectory,time), float32 y_sea_water_velocity(trajectory,time), float32 z(trajectory,time), float32 wind_drift_factor(trajectory,time), float32 fraction_evaporated(trajectory,time)\n",
       "    groups: "
      ]
     },
     "execution_count": 8,
     "metadata": {},
     "output_type": "execute_result"
    }
   ],
   "source": [
    "ds"
   ]
  },
  {
   "cell_type": "code",
   "execution_count": 9,
   "metadata": {},
   "outputs": [],
   "source": [
    "ds_xr=xar.open_dataset(file_path)"
   ]
  },
  {
   "cell_type": "code",
   "execution_count": 10,
   "metadata": {},
   "outputs": [
    {
     "data": {
      "text/html": [
       "<pre>&lt;xarray.Dataset&gt;\n",
       "Dimensions:                                   (time: 73, trajectory: 2958)\n",
       "Coordinates:\n",
       "  * trajectory                                (trajectory) int32 1 2 ... 2958\n",
       "  * time                                      (time) datetime64[ns] 2018-01-14T22:20:00 ... 2018-01-17T22:20:00\n",
       "    lon                                       (trajectory, time) float32 ...\n",
       "    lat                                       (trajectory, time) float32 ...\n",
       "Data variables:\n",
       "    age_seconds                               (trajectory, time) float32 ...\n",
       "    interfacial_area                          (trajectory, time) float32 ...\n",
       "    mass_evaporated                           (trajectory, time) float32 ...\n",
       "    water_fraction                            (trajectory, time) float32 ...\n",
       "    y_wind                                    (trajectory, time) float32 ...\n",
       "    sea_ice_area_fraction                     (trajectory, time) float32 ...\n",
       "    density                                   (trajectory, time) float32 ...\n",
       "    oil_film_thickness                        (trajectory, time) float32 ...\n",
       "    x_sea_water_velocity                      (trajectory, time) float32 ...\n",
       "    bulltime                                  (trajectory, time) float32 ...\n",
       "    x_wind                                    (trajectory, time) float32 ...\n",
       "    age_emulsion_seconds                      (trajectory, time) float32 ...\n",
       "    sea_surface_wave_stokes_drift_y_velocity  (trajectory, time) float32 ...\n",
       "    status                                    (trajectory, time) int32 ...\n",
       "    viscosity                                 (trajectory, time) float32 ...\n",
       "    sea_floor_depth_below_sea_level           (trajectory, time) float32 ...\n",
       "    mass_dispersed                            (trajectory, time) float32 ...\n",
       "    land_binary_mask                          (trajectory, time) float32 ...\n",
       "    sea_surface_wave_significant_height       (trajectory, time) float32 ...\n",
       "    sea_water_temperature                     (trajectory, time) float32 ...\n",
       "    mass_oil                                  (trajectory, time) float32 ...\n",
       "    age_exposure_seconds                      (trajectory, time) float32 ...\n",
       "    sea_surface_wave_stokes_drift_x_velocity  (trajectory, time) float32 ...\n",
       "    y_sea_water_velocity                      (trajectory, time) float32 ...\n",
       "    z                                         (trajectory, time) float32 ...\n",
       "    wind_drift_factor                         (trajectory, time) float32 ...\n",
       "    fraction_evaporated                       (trajectory, time) float32 ...\n",
       "Attributes:\n",
       "    Conventions:                                  CF-1.6\n",
       "    standard_name_vocabulary:                     CF-1.6\n",
       "    featureType:                                  trajectory\n",
       "    history:                                      Created 2019-08-01 11:42:45...\n",
       "    source:                                       Output from simulation with...\n",
       "    model_url:                                    https://github.com/OpenDrif...\n",
       "    opendrift_class:                              OpenOil\n",
       "    opendrift_module:                             opendrift.models.openoil\n",
       "    readers:                                      [&#x27;E:\\\\project\\\\oilspill_res...\n",
       "    time_coverage_start:                          2018-01-14 22:20:00\n",
       "    time_step_calculation:                        0:30:00\n",
       "    time_step_output:                             1:00:00\n",
       "    config_seed:oil_type:                         MEDIUM (brage)\n",
       "    config_seed:ocean_only:                       True\n",
       "    config_general:use_basemap_landmask:          True\n",
       "    config_general:basemap_resolution:            h\n",
       "    config_general:coastline_action:              stranding\n",
       "    config_general:time_step_minutes:             60\n",
       "    config_general:time_step_output_minutes:      None\n",
       "    config_drift:max_age_seconds:                 None\n",
       "    config_drift:scheme:                          runge-kutta\n",
       "    config_drift:stokes_drift:                    True\n",
       "    config_drift:current_uncertainty:             0.5\n",
       "    config_drift:current_uncertainty_uniform:     0.0\n",
       "    config_drift:wind_uncertainty:                1\n",
       "    config_drift:relative_wind:                   False\n",
       "    config_drift:lift_to_seafloor:                True\n",
       "    config_drift:deactivate_north_of:             None\n",
       "    config_drift:deactivate_south_of:             None\n",
       "    config_drift:deactivate_east_of:              None\n",
       "    config_drift:deactivate_west_of:              None\n",
       "    config_drift:use_tabularised_stokes_drift:    False\n",
       "    config_drift:tabularised_stokes_drift_fetch:  25000\n",
       "    config_processes:dispersion:                  True\n",
       "    config_processes:evaporation:                 True\n",
       "    config_processes:emulsification:              True\n",
       "    config_processes:update_oilfilm_thickness:    False\n",
       "    opendrift_version:                            1.0.6\n",
       "    time_coverage_end:                            2018-01-17 22:20:00\n",
       "    geospatial_lat_min:                           0.0\n",
       "    geospatial_lat_max:                           0.0\n",
       "    geospatial_lat_units:                         degrees_north\n",
       "    geospatial_lat_resolution:                    point\n",
       "    geospatial_lon_min:                           0.0\n",
       "    geospatial_lon_max:                           0.0\n",
       "    geospatial_lon_units:                         degrees_east\n",
       "    geospatial_lon_resolution:                    point\n",
       "    runtime:                                      0:00:14.547000</pre>"
      ],
      "text/plain": [
       "<xarray.Dataset>\n",
       "Dimensions:                                   (time: 73, trajectory: 2958)\n",
       "Coordinates:\n",
       "  * trajectory                                (trajectory) int32 1 2 ... 2958\n",
       "  * time                                      (time) datetime64[ns] 2018-01-14T22:20:00 ... 2018-01-17T22:20:00\n",
       "    lon                                       (trajectory, time) float32 ...\n",
       "    lat                                       (trajectory, time) float32 ...\n",
       "Data variables:\n",
       "    age_seconds                               (trajectory, time) float32 ...\n",
       "    interfacial_area                          (trajectory, time) float32 ...\n",
       "    mass_evaporated                           (trajectory, time) float32 ...\n",
       "    water_fraction                            (trajectory, time) float32 ...\n",
       "    y_wind                                    (trajectory, time) float32 ...\n",
       "    sea_ice_area_fraction                     (trajectory, time) float32 ...\n",
       "    density                                   (trajectory, time) float32 ...\n",
       "    oil_film_thickness                        (trajectory, time) float32 ...\n",
       "    x_sea_water_velocity                      (trajectory, time) float32 ...\n",
       "    bulltime                                  (trajectory, time) float32 ...\n",
       "    x_wind                                    (trajectory, time) float32 ...\n",
       "    age_emulsion_seconds                      (trajectory, time) float32 ...\n",
       "    sea_surface_wave_stokes_drift_y_velocity  (trajectory, time) float32 ...\n",
       "    status                                    (trajectory, time) int32 ...\n",
       "    viscosity                                 (trajectory, time) float32 ...\n",
       "    sea_floor_depth_below_sea_level           (trajectory, time) float32 ...\n",
       "    mass_dispersed                            (trajectory, time) float32 ...\n",
       "    land_binary_mask                          (trajectory, time) float32 ...\n",
       "    sea_surface_wave_significant_height       (trajectory, time) float32 ...\n",
       "    sea_water_temperature                     (trajectory, time) float32 ...\n",
       "    mass_oil                                  (trajectory, time) float32 ...\n",
       "    age_exposure_seconds                      (trajectory, time) float32 ...\n",
       "    sea_surface_wave_stokes_drift_x_velocity  (trajectory, time) float32 ...\n",
       "    y_sea_water_velocity                      (trajectory, time) float32 ...\n",
       "    z                                         (trajectory, time) float32 ...\n",
       "    wind_drift_factor                         (trajectory, time) float32 ...\n",
       "    fraction_evaporated                       (trajectory, time) float32 ...\n",
       "Attributes:\n",
       "    Conventions:                                  CF-1.6\n",
       "    standard_name_vocabulary:                     CF-1.6\n",
       "    featureType:                                  trajectory\n",
       "    history:                                      Created 2019-08-01 11:42:45...\n",
       "    source:                                       Output from simulation with...\n",
       "    model_url:                                    https://github.com/OpenDrif...\n",
       "    opendrift_class:                              OpenOil\n",
       "    opendrift_module:                             opendrift.models.openoil\n",
       "    readers:                                      ['E:\\\\project\\\\oilspill_res...\n",
       "    time_coverage_start:                          2018-01-14 22:20:00\n",
       "    time_step_calculation:                        0:30:00\n",
       "    time_step_output:                             1:00:00\n",
       "    config_seed:oil_type:                         MEDIUM (brage)\n",
       "    config_seed:ocean_only:                       True\n",
       "    config_general:use_basemap_landmask:          True\n",
       "    config_general:basemap_resolution:            h\n",
       "    config_general:coastline_action:              stranding\n",
       "    config_general:time_step_minutes:             60\n",
       "    config_general:time_step_output_minutes:      None\n",
       "    config_drift:max_age_seconds:                 None\n",
       "    config_drift:scheme:                          runge-kutta\n",
       "    config_drift:stokes_drift:                    True\n",
       "    config_drift:current_uncertainty:             0.5\n",
       "    config_drift:current_uncertainty_uniform:     0.0\n",
       "    config_drift:wind_uncertainty:                1\n",
       "    config_drift:relative_wind:                   False\n",
       "    config_drift:lift_to_seafloor:                True\n",
       "    config_drift:deactivate_north_of:             None\n",
       "    config_drift:deactivate_south_of:             None\n",
       "    config_drift:deactivate_east_of:              None\n",
       "    config_drift:deactivate_west_of:              None\n",
       "    config_drift:use_tabularised_stokes_drift:    False\n",
       "    config_drift:tabularised_stokes_drift_fetch:  25000\n",
       "    config_processes:dispersion:                  True\n",
       "    config_processes:evaporation:                 True\n",
       "    config_processes:emulsification:              True\n",
       "    config_processes:update_oilfilm_thickness:    False\n",
       "    opendrift_version:                            1.0.6\n",
       "    time_coverage_end:                            2018-01-17 22:20:00\n",
       "    geospatial_lat_min:                           0.0\n",
       "    geospatial_lat_max:                           0.0\n",
       "    geospatial_lat_units:                         degrees_north\n",
       "    geospatial_lat_resolution:                    point\n",
       "    geospatial_lon_min:                           0.0\n",
       "    geospatial_lon_max:                           0.0\n",
       "    geospatial_lon_units:                         degrees_east\n",
       "    geospatial_lon_resolution:                    point\n",
       "    runtime:                                      0:00:14.547000"
      ]
     },
     "execution_count": 10,
     "metadata": {},
     "output_type": "execute_result"
    }
   ],
   "source": [
    "ds_xr"
   ]
  },
  {
   "cell_type": "code",
   "execution_count": null,
   "metadata": {},
   "outputs": [],
   "source": []
  },
  {
   "cell_type": "code",
   "execution_count": 8,
   "metadata": {},
   "outputs": [
    {
     "data": {
      "text/plain": [
       "Frozen(SortedKeysDict({'trajectory': 2958, 'time': 73}))"
      ]
     },
     "execution_count": 8,
     "metadata": {},
     "output_type": "execute_result"
    }
   ],
   "source": [
    "ds_xr.dims"
   ]
  },
  {
   "cell_type": "code",
   "execution_count": 9,
   "metadata": {},
   "outputs": [
    {
     "data": {
      "text/plain": [
       "Coordinates:\n",
       "  * trajectory  (trajectory) int32 1 2 3 4 5 6 ... 2953 2954 2955 2956 2957 2958\n",
       "  * time        (time) datetime64[ns] 2018-01-14T22:20:00 ... 2018-01-17T22:20:00\n",
       "    lon         (trajectory, time) float32 ...\n",
       "    lat         (trajectory, time) float32 ..."
      ]
     },
     "execution_count": 9,
     "metadata": {},
     "output_type": "execute_result"
    }
   ],
   "source": [
    "ds_xr.coords"
   ]
  },
  {
   "cell_type": "code",
   "execution_count": 10,
   "metadata": {},
   "outputs": [
    {
     "data": {
      "text/html": [
       "<pre>&lt;xarray.DataArray &#x27;mass_oil&#x27; (trajectory: 2958, time: 73)&gt;\n",
       "[215934 values with dtype=float32]\n",
       "Coordinates:\n",
       "  * trajectory  (trajectory) int32 1 2 3 4 5 6 ... 2953 2954 2955 2956 2957 2958\n",
       "  * time        (time) datetime64[ns] 2018-01-14T22:20:00 ... 2018-01-17T22:20:00\n",
       "    lon         (trajectory, time) float32 ...\n",
       "    lat         (trajectory, time) float32 ...\n",
       "Attributes:\n",
       "    units:    kg</pre>"
      ],
      "text/plain": [
       "<xarray.DataArray 'mass_oil' (trajectory: 2958, time: 73)>\n",
       "[215934 values with dtype=float32]\n",
       "Coordinates:\n",
       "  * trajectory  (trajectory) int32 1 2 3 4 5 6 ... 2953 2954 2955 2956 2957 2958\n",
       "  * time        (time) datetime64[ns] 2018-01-14T22:20:00 ... 2018-01-17T22:20:00\n",
       "    lon         (trajectory, time) float32 ...\n",
       "    lat         (trajectory, time) float32 ...\n",
       "Attributes:\n",
       "    units:    kg"
      ]
     },
     "execution_count": 10,
     "metadata": {},
     "output_type": "execute_result"
    }
   ],
   "source": [
    "ds_xr['mass_oil']"
   ]
  },
  {
   "cell_type": "code",
   "execution_count": null,
   "metadata": {},
   "outputs": [],
   "source": []
  },
  {
   "cell_type": "code",
   "execution_count": 11,
   "metadata": {},
   "outputs": [
    {
     "data": {
      "text/plain": [
       "{'Conventions': 'CF-1.6',\n",
       " 'standard_name_vocabulary': 'CF-1.6',\n",
       " 'featureType': 'trajectory',\n",
       " 'history': 'Created 2019-08-01 11:42:45.072000',\n",
       " 'source': 'Output from simulation with OpenDrift',\n",
       " 'model_url': 'https://github.com/OpenDrift/opendrift',\n",
       " 'opendrift_class': 'OpenOil',\n",
       " 'opendrift_module': 'opendrift.models.openoil',\n",
       " 'readers': \"['E:\\\\\\\\project\\\\\\\\oilspill_rescue\\\\\\\\curr_wind\\\\\\\\curr0_test.nc', 'E:\\\\\\\\project\\\\\\\\oilspill_rescue\\\\\\\\curr_wind\\\\\\\\wind0_test.nc', 'basemap_landmask']\",\n",
       " 'time_coverage_start': '2018-01-14 22:20:00',\n",
       " 'time_step_calculation': '0:30:00',\n",
       " 'time_step_output': '1:00:00',\n",
       " 'config_seed:oil_type': 'MEDIUM (brage)',\n",
       " 'config_seed:ocean_only': 'True',\n",
       " 'config_general:use_basemap_landmask': 'True',\n",
       " 'config_general:basemap_resolution': 'h',\n",
       " 'config_general:coastline_action': 'stranding',\n",
       " 'config_general:time_step_minutes': 60,\n",
       " 'config_general:time_step_output_minutes': 'None',\n",
       " 'config_drift:max_age_seconds': 'None',\n",
       " 'config_drift:scheme': 'runge-kutta',\n",
       " 'config_drift:stokes_drift': 'True',\n",
       " 'config_drift:current_uncertainty': 0.5,\n",
       " 'config_drift:current_uncertainty_uniform': 0.0,\n",
       " 'config_drift:wind_uncertainty': 1,\n",
       " 'config_drift:relative_wind': 'False',\n",
       " 'config_drift:lift_to_seafloor': 'True',\n",
       " 'config_drift:deactivate_north_of': 'None',\n",
       " 'config_drift:deactivate_south_of': 'None',\n",
       " 'config_drift:deactivate_east_of': 'None',\n",
       " 'config_drift:deactivate_west_of': 'None',\n",
       " 'config_drift:use_tabularised_stokes_drift': 'False',\n",
       " 'config_drift:tabularised_stokes_drift_fetch': '25000',\n",
       " 'config_processes:dispersion': 'True',\n",
       " 'config_processes:evaporation': 'True',\n",
       " 'config_processes:emulsification': 'True',\n",
       " 'config_processes:update_oilfilm_thickness': 'False',\n",
       " 'opendrift_version': '1.0.6',\n",
       " 'time_coverage_end': '2018-01-17 22:20:00',\n",
       " 'geospatial_lat_min': 0.0,\n",
       " 'geospatial_lat_max': 0.0,\n",
       " 'geospatial_lat_units': 'degrees_north',\n",
       " 'geospatial_lat_resolution': 'point',\n",
       " 'geospatial_lon_min': 0.0,\n",
       " 'geospatial_lon_max': 0.0,\n",
       " 'geospatial_lon_units': 'degrees_east',\n",
       " 'geospatial_lon_resolution': 'point',\n",
       " 'runtime': '0:00:14.547000'}"
      ]
     },
     "execution_count": 11,
     "metadata": {},
     "output_type": "execute_result"
    }
   ],
   "source": [
    "ds_xr.attrs"
   ]
  },
  {
   "cell_type": "code",
   "execution_count": 12,
   "metadata": {},
   "outputs": [
    {
     "data": {
      "text/html": [
       "<pre>&lt;xarray.DataArray &#x27;lat&#x27; (trajectory: 2958, time: 73)&gt;\n",
       "[215934 values with dtype=float32]\n",
       "Coordinates:\n",
       "  * trajectory  (trajectory) int32 1 2 3 4 5 6 ... 2953 2954 2955 2956 2957 2958\n",
       "  * time        (time) datetime64[ns] 2018-01-14T22:20:00 ... 2018-01-17T22:20:00\n",
       "    lon         (trajectory, time) float32 ...\n",
       "    lat         (trajectory, time) float32 ...\n",
       "Attributes:\n",
       "    units:          degrees_north\n",
       "    standard_name:  latitude\n",
       "    long_name:      latitude</pre>"
      ],
      "text/plain": [
       "<xarray.DataArray 'lat' (trajectory: 2958, time: 73)>\n",
       "[215934 values with dtype=float32]\n",
       "Coordinates:\n",
       "  * trajectory  (trajectory) int32 1 2 3 4 5 6 ... 2953 2954 2955 2956 2957 2958\n",
       "  * time        (time) datetime64[ns] 2018-01-14T22:20:00 ... 2018-01-17T22:20:00\n",
       "    lon         (trajectory, time) float32 ...\n",
       "    lat         (trajectory, time) float32 ...\n",
       "Attributes:\n",
       "    units:          degrees_north\n",
       "    standard_name:  latitude\n",
       "    long_name:      latitude"
      ]
     },
     "execution_count": 12,
     "metadata": {},
     "output_type": "execute_result"
    }
   ],
   "source": [
    "# 查看一下经纬度的相关数据信息\n",
    "ds_xr.lat"
   ]
  },
  {
   "cell_type": "code",
   "execution_count": 13,
   "metadata": {},
   "outputs": [
    {
     "data": {
      "text/html": [
       "<pre>&lt;xarray.DataArray &#x27;lon&#x27; (trajectory: 2958, time: 73)&gt;\n",
       "[215934 values with dtype=float32]\n",
       "Coordinates:\n",
       "  * trajectory  (trajectory) int32 1 2 3 4 5 6 ... 2953 2954 2955 2956 2957 2958\n",
       "  * time        (time) datetime64[ns] 2018-01-14T22:20:00 ... 2018-01-17T22:20:00\n",
       "    lon         (trajectory, time) float32 ...\n",
       "    lat         (trajectory, time) float32 ...\n",
       "Attributes:\n",
       "    units:          degrees_east\n",
       "    standard_name:  longitude\n",
       "    long_name:      longitude</pre>"
      ],
      "text/plain": [
       "<xarray.DataArray 'lon' (trajectory: 2958, time: 73)>\n",
       "[215934 values with dtype=float32]\n",
       "Coordinates:\n",
       "  * trajectory  (trajectory) int32 1 2 3 4 5 6 ... 2953 2954 2955 2956 2957 2958\n",
       "  * time        (time) datetime64[ns] 2018-01-14T22:20:00 ... 2018-01-17T22:20:00\n",
       "    lon         (trajectory, time) float32 ...\n",
       "    lat         (trajectory, time) float32 ...\n",
       "Attributes:\n",
       "    units:          degrees_east\n",
       "    standard_name:  longitude\n",
       "    long_name:      longitude"
      ]
     },
     "execution_count": 13,
     "metadata": {},
     "output_type": "execute_result"
    }
   ],
   "source": [
    "ds_xr.lon"
   ]
  },
  {
   "cell_type": "markdown",
   "metadata": {},
   "source": [
    "尝试使用数字索引"
   ]
  },
  {
   "cell_type": "code",
   "execution_count": 26,
   "metadata": {},
   "outputs": [
    {
     "ename": "TypeError",
     "evalue": "iteration over a 0-d array",
     "output_type": "error",
     "traceback": [
      "\u001b[1;31m---------------------------------------------------------------------------\u001b[0m",
      "\u001b[1;31mTypeError\u001b[0m                                 Traceback (most recent call last)",
      "\u001b[1;32m<ipython-input-26-91461b58deb2>\u001b[0m in \u001b[0;36m<module>\u001b[1;34m\u001b[0m\n\u001b[1;32m----> 1\u001b[1;33m \u001b[0mds_xr\u001b[0m\u001b[1;33m[\u001b[0m\u001b[1;33m:\u001b[0m\u001b[1;36m2\u001b[0m\u001b[1;33m]\u001b[0m\u001b[1;33m\u001b[0m\u001b[1;33m\u001b[0m\u001b[0m\n\u001b[0m",
      "\u001b[1;32mC:\\ProgramData\\Anaconda3\\lib\\site-packages\\xarray\\core\\dataset.py\u001b[0m in \u001b[0;36m__getitem__\u001b[1;34m(self, key)\u001b[0m\n\u001b[0;32m   1247\u001b[0m             \u001b[1;32mreturn\u001b[0m \u001b[0mself\u001b[0m\u001b[1;33m.\u001b[0m\u001b[0m_construct_dataarray\u001b[0m\u001b[1;33m(\u001b[0m\u001b[0mkey\u001b[0m\u001b[1;33m)\u001b[0m\u001b[1;33m\u001b[0m\u001b[1;33m\u001b[0m\u001b[0m\n\u001b[0;32m   1248\u001b[0m         \u001b[1;32melse\u001b[0m\u001b[1;33m:\u001b[0m\u001b[1;33m\u001b[0m\u001b[1;33m\u001b[0m\u001b[0m\n\u001b[1;32m-> 1249\u001b[1;33m             \u001b[1;32mreturn\u001b[0m \u001b[0mself\u001b[0m\u001b[1;33m.\u001b[0m\u001b[0m_copy_listed\u001b[0m\u001b[1;33m(\u001b[0m\u001b[0mnp\u001b[0m\u001b[1;33m.\u001b[0m\u001b[0masarray\u001b[0m\u001b[1;33m(\u001b[0m\u001b[0mkey\u001b[0m\u001b[1;33m)\u001b[0m\u001b[1;33m)\u001b[0m\u001b[1;33m\u001b[0m\u001b[1;33m\u001b[0m\u001b[0m\n\u001b[0m\u001b[0;32m   1250\u001b[0m \u001b[1;33m\u001b[0m\u001b[0m\n\u001b[0;32m   1251\u001b[0m     \u001b[1;32mdef\u001b[0m \u001b[0m__setitem__\u001b[0m\u001b[1;33m(\u001b[0m\u001b[0mself\u001b[0m\u001b[1;33m,\u001b[0m \u001b[0mkey\u001b[0m\u001b[1;33m:\u001b[0m \u001b[0mHashable\u001b[0m\u001b[1;33m,\u001b[0m \u001b[0mvalue\u001b[0m\u001b[1;33m)\u001b[0m \u001b[1;33m->\u001b[0m \u001b[1;32mNone\u001b[0m\u001b[1;33m:\u001b[0m\u001b[1;33m\u001b[0m\u001b[1;33m\u001b[0m\u001b[0m\n",
      "\u001b[1;32mC:\\ProgramData\\Anaconda3\\lib\\site-packages\\xarray\\core\\dataset.py\u001b[0m in \u001b[0;36m_copy_listed\u001b[1;34m(self, names)\u001b[0m\n\u001b[0;32m   1121\u001b[0m         \u001b[0mindexes\u001b[0m\u001b[1;33m:\u001b[0m \u001b[0mDict\u001b[0m\u001b[1;33m[\u001b[0m\u001b[0mHashable\u001b[0m\u001b[1;33m,\u001b[0m \u001b[0mpd\u001b[0m\u001b[1;33m.\u001b[0m\u001b[0mIndex\u001b[0m\u001b[1;33m]\u001b[0m \u001b[1;33m=\u001b[0m \u001b[1;33m{\u001b[0m\u001b[1;33m}\u001b[0m\u001b[1;33m\u001b[0m\u001b[1;33m\u001b[0m\u001b[0m\n\u001b[0;32m   1122\u001b[0m \u001b[1;33m\u001b[0m\u001b[0m\n\u001b[1;32m-> 1123\u001b[1;33m         \u001b[1;32mfor\u001b[0m \u001b[0mname\u001b[0m \u001b[1;32min\u001b[0m \u001b[0mnames\u001b[0m\u001b[1;33m:\u001b[0m\u001b[1;33m\u001b[0m\u001b[1;33m\u001b[0m\u001b[0m\n\u001b[0m\u001b[0;32m   1124\u001b[0m             \u001b[1;32mtry\u001b[0m\u001b[1;33m:\u001b[0m\u001b[1;33m\u001b[0m\u001b[1;33m\u001b[0m\u001b[0m\n\u001b[0;32m   1125\u001b[0m                 \u001b[0mvariables\u001b[0m\u001b[1;33m[\u001b[0m\u001b[0mname\u001b[0m\u001b[1;33m]\u001b[0m \u001b[1;33m=\u001b[0m \u001b[0mself\u001b[0m\u001b[1;33m.\u001b[0m\u001b[0m_variables\u001b[0m\u001b[1;33m[\u001b[0m\u001b[0mname\u001b[0m\u001b[1;33m]\u001b[0m\u001b[1;33m\u001b[0m\u001b[1;33m\u001b[0m\u001b[0m\n",
      "\u001b[1;31mTypeError\u001b[0m: iteration over a 0-d array"
     ]
    }
   ],
   "source": [
    "ds_xr[:2]"
   ]
  },
  {
   "cell_type": "code",
   "execution_count": 25,
   "metadata": {},
   "outputs": [
    {
     "data": {
      "text/html": [
       "<pre>&lt;xarray.DataArray &#x27;age_seconds&#x27; ()&gt;\n",
       "array(1800., dtype=float32)\n",
       "Coordinates:\n",
       "    trajectory  int32 1\n",
       "    time        datetime64[ns] 2018-01-14T22:20:00\n",
       "    lon         float32 ...\n",
       "    lat         float32 ...\n",
       "Attributes:\n",
       "    units:    s</pre>"
      ],
      "text/plain": [
       "<xarray.DataArray 'age_seconds' ()>\n",
       "array(1800., dtype=float32)\n",
       "Coordinates:\n",
       "    trajectory  int32 1\n",
       "    time        datetime64[ns] 2018-01-14T22:20:00\n",
       "    lon         float32 ...\n",
       "    lat         float32 ...\n",
       "Attributes:\n",
       "    units:    s"
      ]
     },
     "execution_count": 25,
     "metadata": {},
     "output_type": "execute_result"
    }
   ],
   "source": [
    "ds_xr.isel(time=0,trajectory=0).age_seconds"
   ]
  },
  {
   "cell_type": "code",
   "execution_count": 27,
   "metadata": {},
   "outputs": [
    {
     "data": {
      "text/html": [
       "<pre>&lt;xarray.Dataset&gt;\n",
       "Dimensions:                                   ()\n",
       "Coordinates:\n",
       "    trajectory                                int32 1\n",
       "    time                                      datetime64[ns] 2018-01-14T22:20:00\n",
       "    lon                                       float32 ...\n",
       "    lat                                       float32 ...\n",
       "Data variables:\n",
       "    age_seconds                               float32 ...\n",
       "    interfacial_area                          float32 ...\n",
       "    mass_evaporated                           float32 ...\n",
       "    water_fraction                            float32 ...\n",
       "    y_wind                                    float32 ...\n",
       "    sea_ice_area_fraction                     float32 ...\n",
       "    density                                   float32 ...\n",
       "    oil_film_thickness                        float32 ...\n",
       "    x_sea_water_velocity                      float32 ...\n",
       "    bulltime                                  float32 ...\n",
       "    x_wind                                    float32 ...\n",
       "    age_emulsion_seconds                      float32 ...\n",
       "    sea_surface_wave_stokes_drift_y_velocity  float32 ...\n",
       "    status                                    int32 ...\n",
       "    viscosity                                 float32 ...\n",
       "    sea_floor_depth_below_sea_level           float32 ...\n",
       "    mass_dispersed                            float32 ...\n",
       "    land_binary_mask                          float32 ...\n",
       "    sea_surface_wave_significant_height       float32 ...\n",
       "    sea_water_temperature                     float32 ...\n",
       "    mass_oil                                  float32 ...\n",
       "    age_exposure_seconds                      float32 ...\n",
       "    sea_surface_wave_stokes_drift_x_velocity  float32 ...\n",
       "    y_sea_water_velocity                      float32 ...\n",
       "    z                                         float32 ...\n",
       "    wind_drift_factor                         float32 ...\n",
       "    fraction_evaporated                       float32 ...\n",
       "Attributes:\n",
       "    Conventions:                                  CF-1.6\n",
       "    standard_name_vocabulary:                     CF-1.6\n",
       "    featureType:                                  trajectory\n",
       "    history:                                      Created 2019-08-01 11:42:45...\n",
       "    source:                                       Output from simulation with...\n",
       "    model_url:                                    https://github.com/OpenDrif...\n",
       "    opendrift_class:                              OpenOil\n",
       "    opendrift_module:                             opendrift.models.openoil\n",
       "    readers:                                      [&#x27;E:\\\\project\\\\oilspill_res...\n",
       "    time_coverage_start:                          2018-01-14 22:20:00\n",
       "    time_step_calculation:                        0:30:00\n",
       "    time_step_output:                             1:00:00\n",
       "    config_seed:oil_type:                         MEDIUM (brage)\n",
       "    config_seed:ocean_only:                       True\n",
       "    config_general:use_basemap_landmask:          True\n",
       "    config_general:basemap_resolution:            h\n",
       "    config_general:coastline_action:              stranding\n",
       "    config_general:time_step_minutes:             60\n",
       "    config_general:time_step_output_minutes:      None\n",
       "    config_drift:max_age_seconds:                 None\n",
       "    config_drift:scheme:                          runge-kutta\n",
       "    config_drift:stokes_drift:                    True\n",
       "    config_drift:current_uncertainty:             0.5\n",
       "    config_drift:current_uncertainty_uniform:     0.0\n",
       "    config_drift:wind_uncertainty:                1\n",
       "    config_drift:relative_wind:                   False\n",
       "    config_drift:lift_to_seafloor:                True\n",
       "    config_drift:deactivate_north_of:             None\n",
       "    config_drift:deactivate_south_of:             None\n",
       "    config_drift:deactivate_east_of:              None\n",
       "    config_drift:deactivate_west_of:              None\n",
       "    config_drift:use_tabularised_stokes_drift:    False\n",
       "    config_drift:tabularised_stokes_drift_fetch:  25000\n",
       "    config_processes:dispersion:                  True\n",
       "    config_processes:evaporation:                 True\n",
       "    config_processes:emulsification:              True\n",
       "    config_processes:update_oilfilm_thickness:    False\n",
       "    opendrift_version:                            1.0.6\n",
       "    time_coverage_end:                            2018-01-17 22:20:00\n",
       "    geospatial_lat_min:                           0.0\n",
       "    geospatial_lat_max:                           0.0\n",
       "    geospatial_lat_units:                         degrees_north\n",
       "    geospatial_lat_resolution:                    point\n",
       "    geospatial_lon_min:                           0.0\n",
       "    geospatial_lon_max:                           0.0\n",
       "    geospatial_lon_units:                         degrees_east\n",
       "    geospatial_lon_resolution:                    point\n",
       "    runtime:                                      0:00:14.547000</pre>"
      ],
      "text/plain": [
       "<xarray.Dataset>\n",
       "Dimensions:                                   ()\n",
       "Coordinates:\n",
       "    trajectory                                int32 1\n",
       "    time                                      datetime64[ns] 2018-01-14T22:20:00\n",
       "    lon                                       float32 ...\n",
       "    lat                                       float32 ...\n",
       "Data variables:\n",
       "    age_seconds                               float32 ...\n",
       "    interfacial_area                          float32 ...\n",
       "    mass_evaporated                           float32 ...\n",
       "    water_fraction                            float32 ...\n",
       "    y_wind                                    float32 ...\n",
       "    sea_ice_area_fraction                     float32 ...\n",
       "    density                                   float32 ...\n",
       "    oil_film_thickness                        float32 ...\n",
       "    x_sea_water_velocity                      float32 ...\n",
       "    bulltime                                  float32 ...\n",
       "    x_wind                                    float32 ...\n",
       "    age_emulsion_seconds                      float32 ...\n",
       "    sea_surface_wave_stokes_drift_y_velocity  float32 ...\n",
       "    status                                    int32 ...\n",
       "    viscosity                                 float32 ...\n",
       "    sea_floor_depth_below_sea_level           float32 ...\n",
       "    mass_dispersed                            float32 ...\n",
       "    land_binary_mask                          float32 ...\n",
       "    sea_surface_wave_significant_height       float32 ...\n",
       "    sea_water_temperature                     float32 ...\n",
       "    mass_oil                                  float32 ...\n",
       "    age_exposure_seconds                      float32 ...\n",
       "    sea_surface_wave_stokes_drift_x_velocity  float32 ...\n",
       "    y_sea_water_velocity                      float32 ...\n",
       "    z                                         float32 ...\n",
       "    wind_drift_factor                         float32 ...\n",
       "    fraction_evaporated                       float32 ...\n",
       "Attributes:\n",
       "    Conventions:                                  CF-1.6\n",
       "    standard_name_vocabulary:                     CF-1.6\n",
       "    featureType:                                  trajectory\n",
       "    history:                                      Created 2019-08-01 11:42:45...\n",
       "    source:                                       Output from simulation with...\n",
       "    model_url:                                    https://github.com/OpenDrif...\n",
       "    opendrift_class:                              OpenOil\n",
       "    opendrift_module:                             opendrift.models.openoil\n",
       "    readers:                                      ['E:\\\\project\\\\oilspill_res...\n",
       "    time_coverage_start:                          2018-01-14 22:20:00\n",
       "    time_step_calculation:                        0:30:00\n",
       "    time_step_output:                             1:00:00\n",
       "    config_seed:oil_type:                         MEDIUM (brage)\n",
       "    config_seed:ocean_only:                       True\n",
       "    config_general:use_basemap_landmask:          True\n",
       "    config_general:basemap_resolution:            h\n",
       "    config_general:coastline_action:              stranding\n",
       "    config_general:time_step_minutes:             60\n",
       "    config_general:time_step_output_minutes:      None\n",
       "    config_drift:max_age_seconds:                 None\n",
       "    config_drift:scheme:                          runge-kutta\n",
       "    config_drift:stokes_drift:                    True\n",
       "    config_drift:current_uncertainty:             0.5\n",
       "    config_drift:current_uncertainty_uniform:     0.0\n",
       "    config_drift:wind_uncertainty:                1\n",
       "    config_drift:relative_wind:                   False\n",
       "    config_drift:lift_to_seafloor:                True\n",
       "    config_drift:deactivate_north_of:             None\n",
       "    config_drift:deactivate_south_of:             None\n",
       "    config_drift:deactivate_east_of:              None\n",
       "    config_drift:deactivate_west_of:              None\n",
       "    config_drift:use_tabularised_stokes_drift:    False\n",
       "    config_drift:tabularised_stokes_drift_fetch:  25000\n",
       "    config_processes:dispersion:                  True\n",
       "    config_processes:evaporation:                 True\n",
       "    config_processes:emulsification:              True\n",
       "    config_processes:update_oilfilm_thickness:    False\n",
       "    opendrift_version:                            1.0.6\n",
       "    time_coverage_end:                            2018-01-17 22:20:00\n",
       "    geospatial_lat_min:                           0.0\n",
       "    geospatial_lat_max:                           0.0\n",
       "    geospatial_lat_units:                         degrees_north\n",
       "    geospatial_lat_resolution:                    point\n",
       "    geospatial_lon_min:                           0.0\n",
       "    geospatial_lon_max:                           0.0\n",
       "    geospatial_lon_units:                         degrees_east\n",
       "    geospatial_lon_resolution:                    point\n",
       "    runtime:                                      0:00:14.547000"
      ]
     },
     "execution_count": 27,
     "metadata": {},
     "output_type": "execute_result"
    }
   ],
   "source": [
    "ds_xr.isel(time=0,trajectory=0)"
   ]
  },
  {
   "cell_type": "code",
   "execution_count": 28,
   "metadata": {},
   "outputs": [
    {
     "data": {
      "text/html": [
       "<pre>&lt;xarray.DataArray &#x27;y_wind&#x27; ()&gt;\n",
       "array(2.074203, dtype=float32)\n",
       "Coordinates:\n",
       "    trajectory  int32 1\n",
       "    time        datetime64[ns] 2018-01-14T22:20:00\n",
       "    lon         float32 ...\n",
       "    lat         float32 ...</pre>"
      ],
      "text/plain": [
       "<xarray.DataArray 'y_wind' ()>\n",
       "array(2.074203, dtype=float32)\n",
       "Coordinates:\n",
       "    trajectory  int32 1\n",
       "    time        datetime64[ns] 2018-01-14T22:20:00\n",
       "    lon         float32 ...\n",
       "    lat         float32 ..."
      ]
     },
     "execution_count": 28,
     "metadata": {},
     "output_type": "execute_result"
    }
   ],
   "source": [
    "# 找到对应的 特征的值\n",
    "ds_xr.isel(time=0,trajectory=0)['y_wind']"
   ]
  },
  {
   "cell_type": "code",
   "execution_count": 19,
   "metadata": {},
   "outputs": [
    {
     "data": {
      "text/html": [
       "<pre>&lt;xarray.DataArray &#x27;trajectory&#x27; ()&gt;\n",
       "array(1)\n",
       "Coordinates:\n",
       "    trajectory  int32 1\n",
       "Attributes:\n",
       "    cf_role:  trajectory_id\n",
       "    units:    1</pre>"
      ],
      "text/plain": [
       "<xarray.DataArray 'trajectory' ()>\n",
       "array(1)\n",
       "Coordinates:\n",
       "    trajectory  int32 1\n",
       "Attributes:\n",
       "    cf_role:  trajectory_id\n",
       "    units:    1"
      ]
     },
     "execution_count": 19,
     "metadata": {},
     "output_type": "execute_result"
    }
   ],
   "source": [
    "ds_xr.trajectory[0]"
   ]
  },
  {
   "cell_type": "code",
   "execution_count": null,
   "metadata": {},
   "outputs": [],
   "source": [
    "# 尝试使用where进行检索\n"
   ]
  },
  {
   "cell_type": "code",
   "execution_count": 31,
   "metadata": {},
   "outputs": [
    {
     "data": {
      "text/html": [
       "<pre>&lt;xarray.DataArray &#x27;lat&#x27; ()&gt;\n",
       "array(28.369371, dtype=float32)\n",
       "Coordinates:\n",
       "    trajectory  int32 1\n",
       "    time        datetime64[ns] 2018-01-14T22:20:00\n",
       "    lon         float32 ...\n",
       "    lat         float32 28.369371\n",
       "Attributes:\n",
       "    units:          degrees_north\n",
       "    standard_name:  latitude\n",
       "    long_name:      latitude</pre>"
      ],
      "text/plain": [
       "<xarray.DataArray 'lat' ()>\n",
       "array(28.369371, dtype=float32)\n",
       "Coordinates:\n",
       "    trajectory  int32 1\n",
       "    time        datetime64[ns] 2018-01-14T22:20:00\n",
       "    lon         float32 ...\n",
       "    lat         float32 28.369371\n",
       "Attributes:\n",
       "    units:          degrees_north\n",
       "    standard_name:  latitude\n",
       "    long_name:      latitude"
      ]
     },
     "execution_count": 31,
     "metadata": {},
     "output_type": "execute_result"
    }
   ],
   "source": [
    "ds_xr.isel(time=0)['y_wind'][0]['lat']"
   ]
  },
  {
   "cell_type": "markdown",
   "metadata": {},
   "source": [
    "## 获取`mass_oil`的`DataArray`  \n",
    "如下可知：\n",
    "    `mass_oil`有2958个值，该物理量有两个维度，分别为`trajectory`,`time`"
   ]
  },
  {
   "cell_type": "code",
   "execution_count": 10,
   "metadata": {},
   "outputs": [
    {
     "data": {
      "text/html": [
       "<pre>&lt;xarray.DataArray &#x27;mass_oil&#x27; (trajectory: 2958, time: 73)&gt;\n",
       "[215934 values with dtype=float32]\n",
       "Coordinates:\n",
       "  * trajectory  (trajectory) int32 1 2 3 4 5 6 ... 2953 2954 2955 2956 2957 2958\n",
       "  * time        (time) datetime64[ns] 2018-01-14T22:20:00 ... 2018-01-17T22:20:00\n",
       "    lon         (trajectory, time) float32 ...\n",
       "    lat         (trajectory, time) float32 ...\n",
       "Attributes:\n",
       "    units:    kg</pre>"
      ],
      "text/plain": [
       "<xarray.DataArray 'mass_oil' (trajectory: 2958, time: 73)>\n",
       "[215934 values with dtype=float32]\n",
       "Coordinates:\n",
       "  * trajectory  (trajectory) int32 1 2 3 4 5 6 ... 2953 2954 2955 2956 2957 2958\n",
       "  * time        (time) datetime64[ns] 2018-01-14T22:20:00 ... 2018-01-17T22:20:00\n",
       "    lon         (trajectory, time) float32 ...\n",
       "    lat         (trajectory, time) float32 ...\n",
       "Attributes:\n",
       "    units:    kg"
      ]
     },
     "execution_count": 10,
     "metadata": {},
     "output_type": "execute_result"
    }
   ],
   "source": [
    "ds_xr['mass_oil']"
   ]
  },
  {
   "cell_type": "markdown",
   "metadata": {},
   "source": [
    "### 1- 尝试将xarray转为series"
   ]
  },
  {
   "cell_type": "code",
   "execution_count": 11,
   "metadata": {},
   "outputs": [
    {
     "data": {
      "text/plain": [
       "trajectory  time               \n",
       "1           2018-01-14 22:20:00    2.000000e+03\n",
       "            2018-01-14 23:20:00    1.624608e+03\n",
       "            2018-01-15 00:20:00    9.969210e+36\n",
       "            2018-01-15 01:20:00    9.969210e+36\n",
       "            2018-01-15 02:20:00    9.969210e+36\n",
       "            2018-01-15 03:20:00    9.969210e+36\n",
       "            2018-01-15 04:20:00    9.969210e+36\n",
       "            2018-01-15 05:20:00    9.969210e+36\n",
       "            2018-01-15 06:20:00    9.969210e+36\n",
       "            2018-01-15 07:20:00    9.969210e+36\n",
       "            2018-01-15 08:20:00    9.969210e+36\n",
       "            2018-01-15 09:20:00    9.969210e+36\n",
       "            2018-01-15 10:20:00    9.969210e+36\n",
       "            2018-01-15 11:20:00    9.969210e+36\n",
       "            2018-01-15 12:20:00    9.969210e+36\n",
       "            2018-01-15 13:20:00    9.969210e+36\n",
       "            2018-01-15 14:20:00    9.969210e+36\n",
       "            2018-01-15 15:20:00    9.969210e+36\n",
       "            2018-01-15 16:20:00    9.969210e+36\n",
       "            2018-01-15 17:20:00    9.969210e+36\n",
       "            2018-01-15 18:20:00    9.969210e+36\n",
       "            2018-01-15 19:20:00    9.969210e+36\n",
       "            2018-01-15 20:20:00    9.969210e+36\n",
       "            2018-01-15 21:20:00    9.969210e+36\n",
       "            2018-01-15 22:20:00    9.969210e+36\n",
       "            2018-01-15 23:20:00    9.969210e+36\n",
       "            2018-01-16 00:20:00    9.969210e+36\n",
       "            2018-01-16 01:20:00    9.969210e+36\n",
       "            2018-01-16 02:20:00    9.969210e+36\n",
       "            2018-01-16 03:20:00    9.969210e+36\n",
       "                                       ...     \n",
       "2958        2018-01-16 17:20:00    9.969210e+36\n",
       "            2018-01-16 18:20:00    9.969210e+36\n",
       "            2018-01-16 19:20:00    9.969210e+36\n",
       "            2018-01-16 20:20:00    9.969210e+36\n",
       "            2018-01-16 21:20:00    9.969210e+36\n",
       "            2018-01-16 22:20:00    9.969210e+36\n",
       "            2018-01-16 23:20:00    9.969210e+36\n",
       "            2018-01-17 00:20:00    9.969210e+36\n",
       "            2018-01-17 01:20:00    9.969210e+36\n",
       "            2018-01-17 02:20:00    9.969210e+36\n",
       "            2018-01-17 03:20:00    9.969210e+36\n",
       "            2018-01-17 04:20:00    9.969210e+36\n",
       "            2018-01-17 05:20:00    9.969210e+36\n",
       "            2018-01-17 06:20:00    9.969210e+36\n",
       "            2018-01-17 07:20:00    9.969210e+36\n",
       "            2018-01-17 08:20:00    9.969210e+36\n",
       "            2018-01-17 09:20:00    9.969210e+36\n",
       "            2018-01-17 10:20:00    9.969210e+36\n",
       "            2018-01-17 11:20:00    9.969210e+36\n",
       "            2018-01-17 12:20:00    9.969210e+36\n",
       "            2018-01-17 13:20:00    9.969210e+36\n",
       "            2018-01-17 14:20:00    9.969210e+36\n",
       "            2018-01-17 15:20:00    9.969210e+36\n",
       "            2018-01-17 16:20:00    9.969210e+36\n",
       "            2018-01-17 17:20:00    9.969210e+36\n",
       "            2018-01-17 18:20:00    9.969210e+36\n",
       "            2018-01-17 19:20:00    9.969210e+36\n",
       "            2018-01-17 20:20:00    9.969210e+36\n",
       "            2018-01-17 21:20:00    9.969210e+36\n",
       "            2018-01-17 22:20:00    1.842723e+03\n",
       "Name: mass_oil, Length: 215934, dtype: float32"
      ]
     },
     "execution_count": 11,
     "metadata": {},
     "output_type": "execute_result"
    }
   ],
   "source": [
    "ds_xr['mass_oil'].to_series()"
   ]
  },
  {
   "cell_type": "code",
   "execution_count": 12,
   "metadata": {},
   "outputs": [
    {
     "data": {
      "text/plain": [
       "Frozen({'trajectory': 2958})"
      ]
     },
     "execution_count": 12,
     "metadata": {},
     "output_type": "execute_result"
    }
   ],
   "source": [
    "# 查看指定的val的长度\n",
    "ds_xr.isel(time=0)['mass_oil'].sizes"
   ]
  },
  {
   "cell_type": "markdown",
   "metadata": {},
   "source": [
    "### 2- 查看`mass_oil`的分布情况"
   ]
  },
  {
   "cell_type": "code",
   "execution_count": 21,
   "metadata": {},
   "outputs": [
    {
     "data": {
      "text/plain": [
       "trajectory\n",
       "1    2000.0\n",
       "2    2000.0\n",
       "3    2000.0\n",
       "4    2000.0\n",
       "5    2000.0\n",
       "Name: mass_oil, dtype: float32"
      ]
     },
     "execution_count": 21,
     "metadata": {},
     "output_type": "execute_result"
    }
   ],
   "source": [
    "ds_xr_massoil=ds_xr.isel(time=0)['mass_oil'].to_series()\n",
    "ds_xr_massoil.head()"
   ]
  },
  {
   "cell_type": "code",
   "execution_count": 24,
   "metadata": {},
   "outputs": [
    {
     "data": {
      "text/plain": [
       "trajectory\n",
       "1    2000.0\n",
       "2    2000.0\n",
       "3    2000.0\n",
       "4    2000.0\n",
       "5    2000.0\n",
       "Name: mass_oil, dtype: float32"
      ]
     },
     "execution_count": 24,
     "metadata": {},
     "output_type": "execute_result"
    }
   ],
   "source": [
    "ds_xr_massoil.head().T"
   ]
  },
  {
   "cell_type": "code",
   "execution_count": 44,
   "metadata": {},
   "outputs": [
    {
     "data": {
      "text/plain": [
       "9.96921e+36"
      ]
     },
     "execution_count": 44,
     "metadata": {},
     "output_type": "execute_result"
    }
   ],
   "source": [
    "ds_xr_massoil.values[1000]"
   ]
  },
  {
   "cell_type": "code",
   "execution_count": null,
   "metadata": {},
   "outputs": [],
   "source": [
    "ds_xr_massoil"
   ]
  },
  {
   "cell_type": "markdown",
   "metadata": {},
   "source": [
    "#### 清洗掉nan"
   ]
  },
  {
   "cell_type": "code",
   "execution_count": 55,
   "metadata": {},
   "outputs": [
    {
     "data": {
      "text/plain": [
       "trajectory\n",
       "1     2000.0\n",
       "2     2000.0\n",
       "3     2000.0\n",
       "4     2000.0\n",
       "5     2000.0\n",
       "6     2000.0\n",
       "7     2000.0\n",
       "8     2000.0\n",
       "9     2000.0\n",
       "10    2000.0\n",
       "11    2000.0\n",
       "12    2000.0\n",
       "13    2000.0\n",
       "14    2000.0\n",
       "15    2000.0\n",
       "16    2000.0\n",
       "17    2000.0\n",
       "18    2000.0\n",
       "19    2000.0\n",
       "20    2000.0\n",
       "21    2000.0\n",
       "Name: mass_oil, dtype: float32"
      ]
     },
     "execution_count": 55,
     "metadata": {},
     "output_type": "execute_result"
    }
   ],
   "source": [
    "ds_xr_massoil.where(ds_xr_massoil<=2000).dropna()"
   ]
  },
  {
   "cell_type": "code",
   "execution_count": 56,
   "metadata": {},
   "outputs": [],
   "source": [
    "#ds_xr_massoil.where(ds_xr_massoil>2000)"
   ]
  },
  {
   "cell_type": "markdown",
   "metadata": {},
   "source": [
    "### 柱状图"
   ]
  },
  {
   "cell_type": "code",
   "execution_count": 59,
   "metadata": {},
   "outputs": [
    {
     "data": {
      "text/plain": [
       "(array([ 0.,  0.,  0.,  0.,  0., 21.,  0.,  0.,  0.,  0.]),\n",
       " array([1999.5, 1999.6, 1999.7, 1999.8, 1999.9, 2000. , 2000.1, 2000.2,\n",
       "        2000.3, 2000.4, 2000.5], dtype=float32),\n",
       " <a list of 10 Patch objects>)"
      ]
     },
     "execution_count": 59,
     "metadata": {},
     "output_type": "execute_result"
    },
    {
     "data": {
      "image/png": "[encoded data removed]",
      "text/plain": [
       "<Figure size 432x288 with 1 Axes>"
      ]
     },
     "metadata": {
      "needs_background": "light"
     },
     "output_type": "display_data"
    }
   ],
   "source": [
    "plt.hist(ds_xr_massoil.where(ds_xr_massoil<=2000).dropna())"
   ]
  },
  {
   "cell_type": "markdown",
   "metadata": {},
   "source": [
    "### 折线图"
   ]
  },
  {
   "cell_type": "code",
   "execution_count": 60,
   "metadata": {},
   "outputs": [
    {
     "data": {
      "text/plain": [
       "[<matplotlib.lines.Line2D at 0x27320d75a58>]"
      ]
     },
     "execution_count": 60,
     "metadata": {},
     "output_type": "execute_result"
    },
    {
     "data": {
      "image/png": "[encoded data removed]",
      "text/plain": [
       "<Figure size 432x288 with 1 Axes>"
      ]
     },
     "metadata": {
      "needs_background": "light"
     },
     "output_type": "display_data"
    }
   ],
   "source": [
    "plt.plot(ds_xr_massoil.where(ds_xr_massoil<=2000).dropna())"
   ]
  },
  {
   "cell_type": "code",
   "execution_count": 61,
   "metadata": {},
   "outputs": [],
   "source": [
    "#plt.hist()"
   ]
  },
  {
   "cell_type": "code",
   "execution_count": 25,
   "metadata": {},
   "outputs": [
    {
     "data": {
      "text/plain": [
       "(array([0., 0., 0., 0., 0., 5., 0., 0., 0., 0.]),\n",
       " array([1999.5, 1999.6, 1999.7, 1999.8, 1999.9, 2000. , 2000.1, 2000.2,\n",
       "        2000.3, 2000.4, 2000.5], dtype=float32),\n",
       " <a list of 10 Patch objects>)"
      ]
     },
     "execution_count": 25,
     "metadata": {},
     "output_type": "execute_result"
    },
    {
     "data": {
      "image/png": "[encoded data removed]",
      "text/plain": [
       "<Figure size 432x288 with 1 Axes>"
      ]
     },
     "metadata": {
      "needs_background": "light"
     },
     "output_type": "display_data"
    }
   ],
   "source": [
    "plt.hist(ds_xr_massoil.head().T)"
   ]
  },
  {
   "cell_type": "markdown",
   "metadata": {},
   "source": [
    "#### 查看不同时刻的"
   ]
  },
  {
   "cell_type": "code",
   "execution_count": 67,
   "metadata": {},
   "outputs": [
    {
     "data": {
      "text/plain": [
       "trajectory\n",
       "1    1624.607544\n",
       "2    1547.655151\n",
       "3    1677.850220\n",
       "4    1556.745605\n",
       "5    1530.578369\n",
       "Name: mass_oil, dtype: float32"
      ]
     },
     "execution_count": 67,
     "metadata": {},
     "output_type": "execute_result"
    }
   ],
   "source": [
    "ds_xr.isel(time=1)['mass_oil'].to_series().where(ds_xr.isel(time=1)['mass_oil'].to_series()<2000).dropna().head()"
   ]
  },
  {
   "cell_type": "code",
   "execution_count": 69,
   "metadata": {},
   "outputs": [
    {
     "data": {
      "text/plain": [
       "[<matplotlib.lines.Line2D at 0x27320def710>]"
      ]
     },
     "execution_count": 69,
     "metadata": {},
     "output_type": "execute_result"
    },
    {
     "data": {
      "image/png": "[encoded data removed]",
      "text/plain": [
       "<Figure size 432x288 with 1 Axes>"
      ]
     },
     "metadata": {
      "needs_background": "light"
     },
     "output_type": "display_data"
    }
   ],
   "source": [
    "# 画个折线图看看\n",
    "plt.plot(ds_xr.isel(time=1)['mass_oil'].to_series().where(ds_xr.isel(time=1)['mass_oil'].to_series()<2000).dropna())"
   ]
  },
  {
   "cell_type": "code",
   "execution_count": 72,
   "metadata": {},
   "outputs": [
    {
     "data": {
      "text/plain": [
       "(array([ 1.,  6.,  6.,  4.,  3.,  5., 10.,  3.,  2.,  2.]),\n",
       " array([1509.2178, 1526.717 , 1544.2162, 1561.7153, 1579.2146, 1596.7139,\n",
       "        1614.213 , 1631.7122, 1649.2114, 1666.7107, 1684.2098],\n",
       "       dtype=float32),\n",
       " <a list of 10 Patch objects>)"
      ]
     },
     "execution_count": 72,
     "metadata": {},
     "output_type": "execute_result"
    },
    {
     "data": {
      "image/png": "[encoded data removed]",
      "text/plain": [
       "<Figure size 432x288 with 1 Axes>"
      ]
     },
     "metadata": {
      "needs_background": "light"
     },
     "output_type": "display_data"
    }
   ],
   "source": [
    "plt.hist(ds_xr.isel(time=1)['mass_oil'].to_series().where(ds_xr.isel(time=1)['mass_oil'].to_series()<2000).dropna())"
   ]
  },
  {
   "cell_type": "markdown",
   "metadata": {},
   "source": [
    "# 此处存在一个问题  \n",
    "对于指定`factor`的DataArray，全部都有值吗"
   ]
  },
  {
   "cell_type": "code",
   "execution_count": 39,
   "metadata": {},
   "outputs": [
    {
     "data": {
      "text/html": [
       "<pre>&lt;xarray.DataArray &#x27;mass_oil&#x27; ()&gt;\n",
       "array(2000., dtype=float32)\n",
       "Coordinates:\n",
       "    trajectory  int32 1\n",
       "    time        datetime64[ns] 2018-01-14T22:20:00\n",
       "    lon         float32 ...\n",
       "    lat         float32 ...\n",
       "Attributes:\n",
       "    units:    kg</pre>"
      ],
      "text/plain": [
       "<xarray.DataArray 'mass_oil' ()>\n",
       "array(2000., dtype=float32)\n",
       "Coordinates:\n",
       "    trajectory  int32 1\n",
       "    time        datetime64[ns] 2018-01-14T22:20:00\n",
       "    lon         float32 ...\n",
       "    lat         float32 ...\n",
       "Attributes:\n",
       "    units:    kg"
      ]
     },
     "execution_count": 39,
     "metadata": {},
     "output_type": "execute_result"
    }
   ],
   "source": [
    "ds_xr.isel(time=0)['mass_oil'][0]"
   ]
  },
  {
   "cell_type": "code",
   "execution_count": 41,
   "metadata": {},
   "outputs": [
    {
     "ename": "AttributeError",
     "evalue": "'DataArray' object has no attribute 'array'",
     "output_type": "error",
     "traceback": [
      "\u001b[1;31m---------------------------------------------------------------------------\u001b[0m",
      "\u001b[1;31mAttributeError\u001b[0m                            Traceback (most recent call last)",
      "\u001b[1;32m<ipython-input-41-284d42fdbe7f>\u001b[0m in \u001b[0;36m<module>\u001b[1;34m\u001b[0m\n\u001b[1;32m----> 1\u001b[1;33m \u001b[0mds_xr\u001b[0m\u001b[1;33m.\u001b[0m\u001b[0misel\u001b[0m\u001b[1;33m(\u001b[0m\u001b[0mtime\u001b[0m\u001b[1;33m=\u001b[0m\u001b[1;36m0\u001b[0m\u001b[1;33m)\u001b[0m\u001b[1;33m[\u001b[0m\u001b[1;34m'mass_oil'\u001b[0m\u001b[1;33m]\u001b[0m\u001b[1;33m.\u001b[0m\u001b[0marray\u001b[0m\u001b[1;33m\u001b[0m\u001b[1;33m\u001b[0m\u001b[0m\n\u001b[0m",
      "\u001b[1;32mC:\\ProgramData\\Anaconda3\\lib\\site-packages\\xarray\\core\\common.py\u001b[0m in \u001b[0;36m__getattr__\u001b[1;34m(self, name)\u001b[0m\n\u001b[0;32m    231\u001b[0m                     \u001b[1;32mreturn\u001b[0m \u001b[0msource\u001b[0m\u001b[1;33m[\u001b[0m\u001b[0mname\u001b[0m\u001b[1;33m]\u001b[0m\u001b[1;33m\u001b[0m\u001b[1;33m\u001b[0m\u001b[0m\n\u001b[0;32m    232\u001b[0m         raise AttributeError(\n\u001b[1;32m--> 233\u001b[1;33m             \u001b[1;34m\"{!r} object has no attribute {!r}\"\u001b[0m\u001b[1;33m.\u001b[0m\u001b[0mformat\u001b[0m\u001b[1;33m(\u001b[0m\u001b[0mtype\u001b[0m\u001b[1;33m(\u001b[0m\u001b[0mself\u001b[0m\u001b[1;33m)\u001b[0m\u001b[1;33m.\u001b[0m\u001b[0m__name__\u001b[0m\u001b[1;33m,\u001b[0m \u001b[0mname\u001b[0m\u001b[1;33m)\u001b[0m\u001b[1;33m\u001b[0m\u001b[1;33m\u001b[0m\u001b[0m\n\u001b[0m\u001b[0;32m    234\u001b[0m         )\n\u001b[0;32m    235\u001b[0m \u001b[1;33m\u001b[0m\u001b[0m\n",
      "\u001b[1;31mAttributeError\u001b[0m: 'DataArray' object has no attribute 'array'"
     ]
    }
   ],
   "source": [
    "ds_xr.isel(time=0)['mass_oil']"
   ]
  },
  {
   "cell_type": "code",
   "execution_count": 40,
   "metadata": {},
   "outputs": [
    {
     "data": {
      "text/plain": [
       "<bound method ImplementsArrayReduce._reduce_method.<locals>.wrapped_func of <xarray.DataArray 'mass_oil' (trajectory: 2958)>\n",
       "array([2.00000e+03, 2.00000e+03, 2.00000e+03, ..., 9.96921e+36, 9.96921e+36,\n",
       "       9.96921e+36], dtype=float32)\n",
       "Coordinates:\n",
       "  * trajectory  (trajectory) int32 1 2 3 4 5 6 ... 2953 2954 2955 2956 2957 2958\n",
       "    time        datetime64[ns] 2018-01-14T22:20:00\n",
       "    lon         (trajectory) float32 ...\n",
       "    lat         (trajectory) float32 ...\n",
       "Attributes:\n",
       "    units:    kg>"
      ]
     },
     "execution_count": 40,
     "metadata": {},
     "output_type": "execute_result"
    }
   ],
   "source": [
    "ds_xr.isel(time=0)['mass_oil'].max"
   ]
  },
  {
   "cell_type": "markdown",
   "metadata": {},
   "source": [
    "---"
   ]
  },
  {
   "cell_type": "code",
   "execution_count": 6,
   "metadata": {},
   "outputs": [
    {
     "data": {
      "text/plain": [
       "dict_keys(['trajectory', 'time', 'age_seconds', 'interfacial_area', 'mass_evaporated', 'water_fraction', 'y_wind', 'sea_ice_area_fraction', 'density', 'lon', 'oil_film_thickness', 'x_sea_water_velocity', 'bulltime', 'x_wind', 'age_emulsion_seconds', 'sea_surface_wave_stokes_drift_y_velocity', 'status', 'viscosity', 'sea_floor_depth_below_sea_level', 'lat', 'mass_dispersed', 'land_binary_mask', 'sea_surface_wave_significant_height', 'sea_water_temperature', 'mass_oil', 'age_exposure_seconds', 'sea_surface_wave_stokes_drift_x_velocity', 'y_sea_water_velocity', 'z', 'wind_drift_factor', 'fraction_evaporated'])"
      ]
     },
     "execution_count": 6,
     "metadata": {},
     "output_type": "execute_result"
    }
   ],
   "source": [
    "ds.variables.keys()"
   ]
  },
  {
   "cell_type": "markdown",
   "metadata": {},
   "source": [
    "注意使用[:]的方式返回的是视图，而非数组，注意！  \n",
    "[参考](https://stackoverflow.com/questions/4370745/view-onto-a-numpy-array)"
   ]
  },
  {
   "cell_type": "code",
   "execution_count": 7,
   "metadata": {},
   "outputs": [
    {
     "data": {
      "text/plain": [
       "masked_array(\n",
       "  data=[[-5.44127893447876, -6.335221767425537, --, ..., --, --, --],\n",
       "        [-6.289512634277344, -7.076473712921143, -4.9082512855529785,\n",
       "         ..., -3.5429582595825195, -3.578788995742798,\n",
       "         -3.1711130142211914],\n",
       "        [-3.986665725708008, -5.01703405380249, --, ..., --, --, --],\n",
       "        ...,\n",
       "        [--, --, --, ..., --, --, -2.898705244064331],\n",
       "        [--, --, --, ..., --, --, -3.9861390590667725],\n",
       "        [--, --, --, ..., --, --, -1.0630155801773071]],\n",
       "  mask=[[False, False,  True, ...,  True,  True,  True],\n",
       "        [False, False, False, ..., False, False, False],\n",
       "        [False, False,  True, ...,  True,  True,  True],\n",
       "        ...,\n",
       "        [ True,  True,  True, ...,  True,  True, False],\n",
       "        [ True,  True,  True, ...,  True,  True, False],\n",
       "        [ True,  True,  True, ...,  True,  True, False]],\n",
       "  fill_value=9.96921e+36,\n",
       "  dtype=float32)"
      ]
     },
     "execution_count": 7,
     "metadata": {},
     "output_type": "execute_result"
    }
   ],
   "source": [
    "ds.variables['x_wind'][:]"
   ]
  },
  {
   "cell_type": "markdown",
   "metadata": {},
   "source": [
    "[参考](https://stackoverflow.com/questions/4370745/view-onto-a-numpy-array)"
   ]
  },
  {
   "cell_type": "code",
   "execution_count": null,
   "metadata": {},
   "outputs": [],
   "source": []
  }
 ],
 "metadata": {
  "kernelspec": {
   "display_name": "Python 3",
   "language": "python",
   "name": "python3"
  },
  "language_info": {
   "codemirror_mode": {
    "name": "ipython",
    "version": 3
   },
   "file_extension": ".py",
   "mimetype": "text/x-python",
   "name": "python",
   "nbconvert_exporter": "python",
   "pygments_lexer": "ipython3",
   "version": "3.7.3"
  }
 },
 "nbformat": 4,
 "nbformat_minor": 2
}
